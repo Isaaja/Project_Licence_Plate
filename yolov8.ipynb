{
 "cells": [
  {
   "cell_type": "code",
   "execution_count": 1,
   "metadata": {},
   "outputs": [
    {
     "name": "stdout",
     "output_type": "stream",
     "text": [
      "New https://pypi.org/project/ultralytics/8.3.38 available  Update with 'pip install -U ultralytics'\n",
      "Ultralytics 8.3.34  Python-3.11.0 torch-2.5.1+cpu CPU (Intel Core(TM) Ultra 7 155H)\n",
      "\u001b[34m\u001b[1mengine\\trainer: \u001b[0mtask=detect, mode=train, model=C:/SEMESTER 5/PCD (Image Processing)/Plat Nomor2/yolov8n.pt, data=C:/SEMESTER 5/PCD (Image Processing)/Plat Nomor2/data.yaml, epochs=50, time=None, patience=100, batch=16, imgsz=640, save=True, save_period=-1, cache=False, device=None, workers=8, project=None, name=train, exist_ok=False, pretrained=True, optimizer=auto, verbose=True, seed=0, deterministic=True, single_cls=False, rect=False, cos_lr=False, close_mosaic=10, resume=False, amp=True, fraction=1.0, profile=False, freeze=None, multi_scale=False, overlap_mask=True, mask_ratio=4, dropout=0.0, val=True, split=val, save_json=False, save_hybrid=False, conf=None, iou=0.7, max_det=300, half=False, dnn=False, plots=True, source=None, vid_stride=1, stream_buffer=False, visualize=False, augment=False, agnostic_nms=False, classes=None, retina_masks=False, embed=None, show=False, save_frames=False, save_txt=False, save_conf=False, save_crop=False, show_labels=True, show_conf=True, show_boxes=True, line_width=None, format=torchscript, keras=False, optimize=False, int8=False, dynamic=False, simplify=True, opset=None, workspace=4, nms=False, lr0=0.01, lrf=0.01, momentum=0.937, weight_decay=0.0005, warmup_epochs=3.0, warmup_momentum=0.8, warmup_bias_lr=0.1, box=7.5, cls=0.5, dfl=1.5, pose=12.0, kobj=1.0, label_smoothing=0.0, nbs=64, hsv_h=0.015, hsv_s=0.7, hsv_v=0.4, degrees=0.0, translate=0.1, scale=0.5, shear=0.0, perspective=0.0, flipud=0.0, fliplr=0.5, bgr=0.0, mosaic=1.0, mixup=0.0, copy_paste=0.0, copy_paste_mode=flip, auto_augment=randaugment, erasing=0.4, crop_fraction=1.0, cfg=None, tracker=botsort.yaml, save_dir=runs\\detect\\train\n",
      "Overriding model.yaml nc=80 with nc=6\n",
      "\n",
      "                   from  n    params  module                                       arguments                     \n",
      "  0                  -1  1       464  ultralytics.nn.modules.conv.Conv             [3, 16, 3, 2]                 \n",
      "  1                  -1  1      4672  ultralytics.nn.modules.conv.Conv             [16, 32, 3, 2]                \n",
      "  2                  -1  1      7360  ultralytics.nn.modules.block.C2f             [32, 32, 1, True]             \n",
      "  3                  -1  1     18560  ultralytics.nn.modules.conv.Conv             [32, 64, 3, 2]                \n",
      "  4                  -1  2     49664  ultralytics.nn.modules.block.C2f             [64, 64, 2, True]             \n",
      "  5                  -1  1     73984  ultralytics.nn.modules.conv.Conv             [64, 128, 3, 2]               \n",
      "  6                  -1  2    197632  ultralytics.nn.modules.block.C2f             [128, 128, 2, True]           \n",
      "  7                  -1  1    295424  ultralytics.nn.modules.conv.Conv             [128, 256, 3, 2]              \n",
      "  8                  -1  1    460288  ultralytics.nn.modules.block.C2f             [256, 256, 1, True]           \n",
      "  9                  -1  1    164608  ultralytics.nn.modules.block.SPPF            [256, 256, 5]                 \n",
      " 10                  -1  1         0  torch.nn.modules.upsampling.Upsample         [None, 2, 'nearest']          \n",
      " 11             [-1, 6]  1         0  ultralytics.nn.modules.conv.Concat           [1]                           \n",
      " 12                  -1  1    148224  ultralytics.nn.modules.block.C2f             [384, 128, 1]                 \n",
      " 13                  -1  1         0  torch.nn.modules.upsampling.Upsample         [None, 2, 'nearest']          \n",
      " 14             [-1, 4]  1         0  ultralytics.nn.modules.conv.Concat           [1]                           \n",
      " 15                  -1  1     37248  ultralytics.nn.modules.block.C2f             [192, 64, 1]                  \n",
      " 16                  -1  1     36992  ultralytics.nn.modules.conv.Conv             [64, 64, 3, 2]                \n",
      " 17            [-1, 12]  1         0  ultralytics.nn.modules.conv.Concat           [1]                           \n",
      " 18                  -1  1    123648  ultralytics.nn.modules.block.C2f             [192, 128, 1]                 \n",
      " 19                  -1  1    147712  ultralytics.nn.modules.conv.Conv             [128, 128, 3, 2]              \n",
      " 20             [-1, 9]  1         0  ultralytics.nn.modules.conv.Concat           [1]                           \n",
      " 21                  -1  1    493056  ultralytics.nn.modules.block.C2f             [384, 256, 1]                 \n",
      " 22        [15, 18, 21]  1    752482  ultralytics.nn.modules.head.Detect           [6, [64, 128, 256]]           \n",
      "Model summary: 225 layers, 3,012,018 parameters, 3,012,002 gradients, 8.2 GFLOPs\n",
      "\n",
      "Transferred 319/355 items from pretrained weights\n",
      "Freezing layer 'model.22.dfl.conv.weight'\n"
     ]
    },
    {
     "name": "stderr",
     "output_type": "stream",
     "text": [
      "\u001b[34m\u001b[1mtrain: \u001b[0mScanning C:\\SEMESTER 5\\PCD (Image Processing)\\Plat Nomor2\\train\\labels... 70 images, 0 backgrounds, 0 corrupt: 100%|██████████| 70/70 [00:00<00:00, 1301.67it/s]"
     ]
    },
    {
     "name": "stdout",
     "output_type": "stream",
     "text": [
      "\u001b[34m\u001b[1mtrain: \u001b[0mNew cache created: C:\\SEMESTER 5\\PCD (Image Processing)\\Plat Nomor2\\train\\labels.cache\n"
     ]
    },
    {
     "name": "stderr",
     "output_type": "stream",
     "text": [
      "\n",
      "INFO:albumentations.check_version:A new version of Albumentations is available: 1.4.21 (you have 1.4.10). Upgrade using: pip install --upgrade albumentations\n"
     ]
    },
    {
     "name": "stdout",
     "output_type": "stream",
     "text": [
      "\u001b[34m\u001b[1malbumentations: \u001b[0mBlur(p=0.01, blur_limit=(3, 7)), MedianBlur(p=0.01, blur_limit=(3, 7)), ToGray(p=0.01), CLAHE(p=0.01, clip_limit=(1, 4.0), tile_grid_size=(8, 8))\n"
     ]
    },
    {
     "name": "stderr",
     "output_type": "stream",
     "text": [
      "\u001b[34m\u001b[1mval: \u001b[0mScanning C:\\SEMESTER 5\\PCD (Image Processing)\\Plat Nomor2\\valid\\labels... 19 images, 0 backgrounds, 0 corrupt: 100%|██████████| 19/19 [00:00<00:00, 1734.13it/s]"
     ]
    },
    {
     "name": "stdout",
     "output_type": "stream",
     "text": [
      "\u001b[34m\u001b[1mval: \u001b[0mNew cache created: C:\\SEMESTER 5\\PCD (Image Processing)\\Plat Nomor2\\valid\\labels.cache\n"
     ]
    },
    {
     "name": "stderr",
     "output_type": "stream",
     "text": [
      "\n"
     ]
    },
    {
     "name": "stdout",
     "output_type": "stream",
     "text": [
      "Plotting labels to runs\\detect\\train\\labels.jpg... \n",
      "\u001b[34m\u001b[1moptimizer:\u001b[0m 'optimizer=auto' found, ignoring 'lr0=0.01' and 'momentum=0.937' and determining best 'optimizer', 'lr0' and 'momentum' automatically... \n",
      "\u001b[34m\u001b[1moptimizer:\u001b[0m AdamW(lr=0.001, momentum=0.9) with parameter groups 57 weight(decay=0.0), 64 weight(decay=0.0005), 63 bias(decay=0.0)\n",
      "Image sizes 640 train, 640 val\n",
      "Using 0 dataloader workers\n",
      "Logging results to \u001b[1mruns\\detect\\train\u001b[0m\n",
      "Starting training for 50 epochs...\n",
      "\n",
      "      Epoch    GPU_mem   box_loss   cls_loss   dfl_loss  Instances       Size\n"
     ]
    },
    {
     "name": "stderr",
     "output_type": "stream",
     "text": [
      "       1/50         0G      1.663      4.097      1.397        103        640: 100%|██████████| 5/5 [00:13<00:00,  2.75s/it]\n",
      "                 Class     Images  Instances      Box(P          R      mAP50  mAP50-95): 100%|██████████| 1/1 [00:02<00:00,  2.44s/it]"
     ]
    },
    {
     "name": "stdout",
     "output_type": "stream",
     "text": [
      "                   all         19        138     0.0176       0.65      0.272      0.184\n"
     ]
    },
    {
     "name": "stderr",
     "output_type": "stream",
     "text": [
      "\n"
     ]
    },
    {
     "name": "stdout",
     "output_type": "stream",
     "text": [
      "\n",
      "      Epoch    GPU_mem   box_loss   cls_loss   dfl_loss  Instances       Size\n"
     ]
    },
    {
     "name": "stderr",
     "output_type": "stream",
     "text": [
      "       2/50         0G       1.64       3.87      1.312        103        640: 100%|██████████| 5/5 [00:13<00:00,  2.65s/it]\n",
      "                 Class     Images  Instances      Box(P          R      mAP50  mAP50-95): 100%|██████████| 1/1 [00:01<00:00,  1.08s/it]"
     ]
    },
    {
     "name": "stdout",
     "output_type": "stream",
     "text": [
      "                   all         19        138     0.0215       0.76      0.271      0.154\n"
     ]
    },
    {
     "name": "stderr",
     "output_type": "stream",
     "text": [
      "\n"
     ]
    },
    {
     "name": "stdout",
     "output_type": "stream",
     "text": [
      "\n",
      "      Epoch    GPU_mem   box_loss   cls_loss   dfl_loss  Instances       Size\n"
     ]
    },
    {
     "name": "stderr",
     "output_type": "stream",
     "text": [
      "       3/50         0G      1.603      3.304      1.235        114        640: 100%|██████████| 5/5 [00:13<00:00,  2.63s/it]\n",
      "                 Class     Images  Instances      Box(P          R      mAP50  mAP50-95): 100%|██████████| 1/1 [00:00<00:00,  1.04it/s]"
     ]
    },
    {
     "name": "stdout",
     "output_type": "stream",
     "text": [
      "                   all         19        138     0.0185      0.784      0.295      0.155\n"
     ]
    },
    {
     "name": "stderr",
     "output_type": "stream",
     "text": [
      "\n"
     ]
    },
    {
     "name": "stdout",
     "output_type": "stream",
     "text": [
      "\n",
      "      Epoch    GPU_mem   box_loss   cls_loss   dfl_loss  Instances       Size\n"
     ]
    },
    {
     "name": "stderr",
     "output_type": "stream",
     "text": [
      "       4/50         0G       1.52      2.562      1.211         65        640: 100%|██████████| 5/5 [00:13<00:00,  2.67s/it]\n",
      "                 Class     Images  Instances      Box(P          R      mAP50  mAP50-95): 100%|██████████| 1/1 [00:01<00:00,  1.16s/it]"
     ]
    },
    {
     "name": "stdout",
     "output_type": "stream",
     "text": [
      "                   all         19        138     0.0186      0.792      0.298      0.151\n"
     ]
    },
    {
     "name": "stderr",
     "output_type": "stream",
     "text": [
      "\n"
     ]
    },
    {
     "name": "stdout",
     "output_type": "stream",
     "text": [
      "\n",
      "      Epoch    GPU_mem   box_loss   cls_loss   dfl_loss  Instances       Size\n"
     ]
    },
    {
     "name": "stderr",
     "output_type": "stream",
     "text": [
      "       5/50         0G      1.544      1.987      1.217        131        640: 100%|██████████| 5/5 [02:06<00:00, 25.33s/it]\n",
      "                 Class     Images  Instances      Box(P          R      mAP50  mAP50-95): 100%|██████████| 1/1 [00:08<00:00,  8.95s/it]"
     ]
    },
    {
     "name": "stdout",
     "output_type": "stream",
     "text": [
      "                   all         19        138      0.993      0.136      0.284      0.145\n"
     ]
    },
    {
     "name": "stderr",
     "output_type": "stream",
     "text": [
      "\n"
     ]
    },
    {
     "name": "stdout",
     "output_type": "stream",
     "text": [
      "\n",
      "      Epoch    GPU_mem   box_loss   cls_loss   dfl_loss  Instances       Size\n"
     ]
    },
    {
     "name": "stderr",
     "output_type": "stream",
     "text": [
      "       6/50         0G      1.497      1.797      1.211        108        640: 100%|██████████| 5/5 [01:14<00:00, 14.91s/it]\n",
      "                 Class     Images  Instances      Box(P          R      mAP50  mAP50-95): 100%|██████████| 1/1 [00:01<00:00,  1.03s/it]"
     ]
    },
    {
     "name": "stdout",
     "output_type": "stream",
     "text": [
      "                   all         19        138      0.984      0.161      0.284       0.14\n"
     ]
    },
    {
     "name": "stderr",
     "output_type": "stream",
     "text": [
      "\n"
     ]
    },
    {
     "name": "stdout",
     "output_type": "stream",
     "text": [
      "\n",
      "      Epoch    GPU_mem   box_loss   cls_loss   dfl_loss  Instances       Size\n"
     ]
    },
    {
     "name": "stderr",
     "output_type": "stream",
     "text": [
      "       7/50         0G      1.541      1.679      1.204         88        640: 100%|██████████| 5/5 [00:12<00:00,  2.57s/it]\n",
      "                 Class     Images  Instances      Box(P          R      mAP50  mAP50-95): 100%|██████████| 1/1 [00:00<00:00,  1.04it/s]"
     ]
    },
    {
     "name": "stdout",
     "output_type": "stream",
     "text": [
      "                   all         19        138      0.994      0.186      0.321      0.177\n"
     ]
    },
    {
     "name": "stderr",
     "output_type": "stream",
     "text": [
      "\n"
     ]
    },
    {
     "name": "stdout",
     "output_type": "stream",
     "text": [
      "\n",
      "      Epoch    GPU_mem   box_loss   cls_loss   dfl_loss  Instances       Size\n"
     ]
    },
    {
     "name": "stderr",
     "output_type": "stream",
     "text": [
      "       8/50         0G      1.507      1.522      1.152         87        640: 100%|██████████| 5/5 [00:13<00:00,  2.68s/it]\n",
      "                 Class     Images  Instances      Box(P          R      mAP50  mAP50-95): 100%|██████████| 1/1 [00:00<00:00,  1.00it/s]"
     ]
    },
    {
     "name": "stdout",
     "output_type": "stream",
     "text": [
      "                   all         19        138       0.99      0.206       0.35      0.212\n"
     ]
    },
    {
     "name": "stderr",
     "output_type": "stream",
     "text": [
      "\n"
     ]
    },
    {
     "name": "stdout",
     "output_type": "stream",
     "text": [
      "\n",
      "      Epoch    GPU_mem   box_loss   cls_loss   dfl_loss  Instances       Size\n"
     ]
    },
    {
     "name": "stderr",
     "output_type": "stream",
     "text": [
      "       9/50         0G      1.487      1.424      1.152         82        640: 100%|██████████| 5/5 [00:13<00:00,  2.65s/it]\n",
      "                 Class     Images  Instances      Box(P          R      mAP50  mAP50-95): 100%|██████████| 1/1 [00:00<00:00,  1.03it/s]"
     ]
    },
    {
     "name": "stdout",
     "output_type": "stream",
     "text": [
      "                   all         19        138      0.977      0.232      0.377      0.204\n"
     ]
    },
    {
     "name": "stderr",
     "output_type": "stream",
     "text": [
      "\n"
     ]
    },
    {
     "name": "stdout",
     "output_type": "stream",
     "text": [
      "\n",
      "      Epoch    GPU_mem   box_loss   cls_loss   dfl_loss  Instances       Size\n"
     ]
    },
    {
     "name": "stderr",
     "output_type": "stream",
     "text": [
      "      10/50         0G      1.537      1.399      1.152        111        640: 100%|██████████| 5/5 [00:13<00:00,  2.68s/it]\n",
      "                 Class     Images  Instances      Box(P          R      mAP50  mAP50-95): 100%|██████████| 1/1 [00:01<00:00,  1.16s/it]"
     ]
    },
    {
     "name": "stdout",
     "output_type": "stream",
     "text": [
      "                   all         19        138      0.978      0.244      0.383      0.221\n"
     ]
    },
    {
     "name": "stderr",
     "output_type": "stream",
     "text": [
      "\n"
     ]
    },
    {
     "name": "stdout",
     "output_type": "stream",
     "text": [
      "\n",
      "      Epoch    GPU_mem   box_loss   cls_loss   dfl_loss  Instances       Size\n"
     ]
    },
    {
     "name": "stderr",
     "output_type": "stream",
     "text": [
      "      11/50         0G      1.495      1.334      1.128        124        640: 100%|██████████| 5/5 [00:13<00:00,  2.68s/it]\n",
      "                 Class     Images  Instances      Box(P          R      mAP50  mAP50-95): 100%|██████████| 1/1 [00:01<00:00,  1.06s/it]"
     ]
    },
    {
     "name": "stdout",
     "output_type": "stream",
     "text": [
      "                   all         19        138      0.956      0.249      0.409      0.239\n"
     ]
    },
    {
     "name": "stderr",
     "output_type": "stream",
     "text": [
      "\n"
     ]
    },
    {
     "name": "stdout",
     "output_type": "stream",
     "text": [
      "\n",
      "      Epoch    GPU_mem   box_loss   cls_loss   dfl_loss  Instances       Size\n"
     ]
    },
    {
     "name": "stderr",
     "output_type": "stream",
     "text": [
      "      12/50         0G      1.483      1.312      1.123         87        640: 100%|██████████| 5/5 [00:14<00:00,  2.83s/it]\n",
      "                 Class     Images  Instances      Box(P          R      mAP50  mAP50-95): 100%|██████████| 1/1 [00:01<00:00,  1.15s/it]"
     ]
    },
    {
     "name": "stdout",
     "output_type": "stream",
     "text": [
      "                   all         19        138      0.768      0.297      0.443      0.259\n"
     ]
    },
    {
     "name": "stderr",
     "output_type": "stream",
     "text": [
      "\n"
     ]
    },
    {
     "name": "stdout",
     "output_type": "stream",
     "text": [
      "\n",
      "      Epoch    GPU_mem   box_loss   cls_loss   dfl_loss  Instances       Size\n"
     ]
    },
    {
     "name": "stderr",
     "output_type": "stream",
     "text": [
      "      13/50         0G      1.423      1.337      1.094         78        640: 100%|██████████| 5/5 [00:12<00:00,  2.53s/it]\n",
      "                 Class     Images  Instances      Box(P          R      mAP50  mAP50-95): 100%|██████████| 1/1 [00:01<00:00,  1.06s/it]"
     ]
    },
    {
     "name": "stdout",
     "output_type": "stream",
     "text": [
      "                   all         19        138      0.764      0.319      0.453      0.263\n"
     ]
    },
    {
     "name": "stderr",
     "output_type": "stream",
     "text": [
      "\n"
     ]
    },
    {
     "name": "stdout",
     "output_type": "stream",
     "text": [
      "\n",
      "      Epoch    GPU_mem   box_loss   cls_loss   dfl_loss  Instances       Size\n"
     ]
    },
    {
     "name": "stderr",
     "output_type": "stream",
     "text": [
      "      14/50         0G      1.416      1.233      1.101         79        640: 100%|██████████| 5/5 [00:13<00:00,  2.65s/it]\n",
      "                 Class     Images  Instances      Box(P          R      mAP50  mAP50-95): 100%|██████████| 1/1 [00:01<00:00,  1.04s/it]"
     ]
    },
    {
     "name": "stdout",
     "output_type": "stream",
     "text": [
      "                   all         19        138      0.746      0.309      0.458      0.262\n"
     ]
    },
    {
     "name": "stderr",
     "output_type": "stream",
     "text": [
      "\n"
     ]
    },
    {
     "name": "stdout",
     "output_type": "stream",
     "text": [
      "\n",
      "      Epoch    GPU_mem   box_loss   cls_loss   dfl_loss  Instances       Size\n"
     ]
    },
    {
     "name": "stderr",
     "output_type": "stream",
     "text": [
      "      15/50         0G       1.42      1.222      1.082        110        640: 100%|██████████| 5/5 [00:13<00:00,  2.75s/it]\n",
      "                 Class     Images  Instances      Box(P          R      mAP50  mAP50-95): 100%|██████████| 1/1 [00:01<00:00,  1.08s/it]"
     ]
    },
    {
     "name": "stdout",
     "output_type": "stream",
     "text": [
      "                   all         19        138       0.59      0.411      0.483      0.274\n"
     ]
    },
    {
     "name": "stderr",
     "output_type": "stream",
     "text": [
      "\n"
     ]
    },
    {
     "name": "stdout",
     "output_type": "stream",
     "text": [
      "\n",
      "      Epoch    GPU_mem   box_loss   cls_loss   dfl_loss  Instances       Size\n"
     ]
    },
    {
     "name": "stderr",
     "output_type": "stream",
     "text": [
      "      16/50         0G      1.404       1.25      1.099         85        640: 100%|██████████| 5/5 [00:14<00:00,  2.80s/it]\n",
      "                 Class     Images  Instances      Box(P          R      mAP50  mAP50-95): 100%|██████████| 1/1 [00:01<00:00,  1.04s/it]"
     ]
    },
    {
     "name": "stdout",
     "output_type": "stream",
     "text": [
      "                   all         19        138      0.621      0.453       0.51      0.293\n"
     ]
    },
    {
     "name": "stderr",
     "output_type": "stream",
     "text": [
      "\n"
     ]
    },
    {
     "name": "stdout",
     "output_type": "stream",
     "text": [
      "\n",
      "      Epoch    GPU_mem   box_loss   cls_loss   dfl_loss  Instances       Size\n"
     ]
    },
    {
     "name": "stderr",
     "output_type": "stream",
     "text": [
      "      17/50         0G      1.347      1.148      1.048        134        640: 100%|██████████| 5/5 [00:13<00:00,  2.76s/it]\n",
      "                 Class     Images  Instances      Box(P          R      mAP50  mAP50-95): 100%|██████████| 1/1 [00:01<00:00,  1.14s/it]"
     ]
    },
    {
     "name": "stdout",
     "output_type": "stream",
     "text": [
      "                   all         19        138      0.627      0.468      0.557      0.338\n"
     ]
    },
    {
     "name": "stderr",
     "output_type": "stream",
     "text": [
      "\n"
     ]
    },
    {
     "name": "stdout",
     "output_type": "stream",
     "text": [
      "\n",
      "      Epoch    GPU_mem   box_loss   cls_loss   dfl_loss  Instances       Size\n"
     ]
    },
    {
     "name": "stderr",
     "output_type": "stream",
     "text": [
      "      18/50         0G      1.398      1.147      1.071        162        640: 100%|██████████| 5/5 [00:14<00:00,  2.81s/it]\n",
      "                 Class     Images  Instances      Box(P          R      mAP50  mAP50-95): 100%|██████████| 1/1 [00:01<00:00,  1.16s/it]"
     ]
    },
    {
     "name": "stdout",
     "output_type": "stream",
     "text": [
      "                   all         19        138      0.579       0.43      0.573      0.337\n"
     ]
    },
    {
     "name": "stderr",
     "output_type": "stream",
     "text": [
      "\n"
     ]
    },
    {
     "name": "stdout",
     "output_type": "stream",
     "text": [
      "\n",
      "      Epoch    GPU_mem   box_loss   cls_loss   dfl_loss  Instances       Size\n"
     ]
    },
    {
     "name": "stderr",
     "output_type": "stream",
     "text": [
      "      19/50         0G      1.357      1.181       1.07         70        640: 100%|██████████| 5/5 [00:14<00:00,  2.81s/it]\n",
      "                 Class     Images  Instances      Box(P          R      mAP50  mAP50-95): 100%|██████████| 1/1 [00:01<00:00,  1.05s/it]"
     ]
    },
    {
     "name": "stdout",
     "output_type": "stream",
     "text": [
      "                   all         19        138      0.571      0.432      0.567       0.33\n"
     ]
    },
    {
     "name": "stderr",
     "output_type": "stream",
     "text": [
      "\n"
     ]
    },
    {
     "name": "stdout",
     "output_type": "stream",
     "text": [
      "\n",
      "      Epoch    GPU_mem   box_loss   cls_loss   dfl_loss  Instances       Size\n"
     ]
    },
    {
     "name": "stderr",
     "output_type": "stream",
     "text": [
      "      20/50         0G      1.363      1.141      1.064         93        640: 100%|██████████| 5/5 [00:13<00:00,  2.69s/it]\n",
      "                 Class     Images  Instances      Box(P          R      mAP50  mAP50-95): 100%|██████████| 1/1 [00:01<00:00,  1.16s/it]"
     ]
    },
    {
     "name": "stdout",
     "output_type": "stream",
     "text": [
      "                   all         19        138      0.799      0.404      0.584      0.355\n"
     ]
    },
    {
     "name": "stderr",
     "output_type": "stream",
     "text": [
      "\n"
     ]
    },
    {
     "name": "stdout",
     "output_type": "stream",
     "text": [
      "\n",
      "      Epoch    GPU_mem   box_loss   cls_loss   dfl_loss  Instances       Size\n"
     ]
    },
    {
     "name": "stderr",
     "output_type": "stream",
     "text": [
      "      21/50         0G      1.375      1.211      1.075         72        640: 100%|██████████| 5/5 [00:13<00:00,  2.66s/it]\n",
      "                 Class     Images  Instances      Box(P          R      mAP50  mAP50-95): 100%|██████████| 1/1 [00:01<00:00,  1.10s/it]"
     ]
    },
    {
     "name": "stdout",
     "output_type": "stream",
     "text": [
      "                   all         19        138      0.661      0.478      0.625      0.388\n"
     ]
    },
    {
     "name": "stderr",
     "output_type": "stream",
     "text": [
      "\n"
     ]
    },
    {
     "name": "stdout",
     "output_type": "stream",
     "text": [
      "\n",
      "      Epoch    GPU_mem   box_loss   cls_loss   dfl_loss  Instances       Size\n"
     ]
    },
    {
     "name": "stderr",
     "output_type": "stream",
     "text": [
      "      22/50         0G      1.376      1.159      1.022         88        640: 100%|██████████| 5/5 [00:13<00:00,  2.71s/it]\n",
      "                 Class     Images  Instances      Box(P          R      mAP50  mAP50-95): 100%|██████████| 1/1 [00:01<00:00,  1.03s/it]"
     ]
    },
    {
     "name": "stdout",
     "output_type": "stream",
     "text": [
      "                   all         19        138      0.706      0.626      0.663      0.409\n"
     ]
    },
    {
     "name": "stderr",
     "output_type": "stream",
     "text": [
      "\n"
     ]
    },
    {
     "name": "stdout",
     "output_type": "stream",
     "text": [
      "\n",
      "      Epoch    GPU_mem   box_loss   cls_loss   dfl_loss  Instances       Size\n"
     ]
    },
    {
     "name": "stderr",
     "output_type": "stream",
     "text": [
      "      23/50         0G      1.314      1.167      1.023         66        640: 100%|██████████| 5/5 [00:13<00:00,  2.70s/it]\n",
      "                 Class     Images  Instances      Box(P          R      mAP50  mAP50-95): 100%|██████████| 1/1 [00:01<00:00,  1.20s/it]"
     ]
    },
    {
     "name": "stdout",
     "output_type": "stream",
     "text": [
      "                   all         19        138       0.68      0.752       0.65      0.389\n"
     ]
    },
    {
     "name": "stderr",
     "output_type": "stream",
     "text": [
      "\n"
     ]
    },
    {
     "name": "stdout",
     "output_type": "stream",
     "text": [
      "\n",
      "      Epoch    GPU_mem   box_loss   cls_loss   dfl_loss  Instances       Size\n"
     ]
    },
    {
     "name": "stderr",
     "output_type": "stream",
     "text": [
      "      24/50         0G      1.312      1.077      1.039         89        640: 100%|██████████| 5/5 [00:13<00:00,  2.69s/it]\n",
      "                 Class     Images  Instances      Box(P          R      mAP50  mAP50-95): 100%|██████████| 1/1 [00:01<00:00,  1.19s/it]"
     ]
    },
    {
     "name": "stdout",
     "output_type": "stream",
     "text": [
      "                   all         19        138       0.66      0.791      0.675      0.381\n"
     ]
    },
    {
     "name": "stderr",
     "output_type": "stream",
     "text": [
      "\n"
     ]
    },
    {
     "name": "stdout",
     "output_type": "stream",
     "text": [
      "\n",
      "      Epoch    GPU_mem   box_loss   cls_loss   dfl_loss  Instances       Size\n"
     ]
    },
    {
     "name": "stderr",
     "output_type": "stream",
     "text": [
      "      25/50         0G      1.308      1.057      1.033         82        640: 100%|██████████| 5/5 [00:14<00:00,  2.86s/it]\n",
      "                 Class     Images  Instances      Box(P          R      mAP50  mAP50-95): 100%|██████████| 1/1 [00:01<00:00,  1.28s/it]"
     ]
    },
    {
     "name": "stdout",
     "output_type": "stream",
     "text": [
      "                   all         19        138       0.64      0.826      0.653      0.377\n"
     ]
    },
    {
     "name": "stderr",
     "output_type": "stream",
     "text": [
      "\n"
     ]
    },
    {
     "name": "stdout",
     "output_type": "stream",
     "text": [
      "\n",
      "      Epoch    GPU_mem   box_loss   cls_loss   dfl_loss  Instances       Size\n"
     ]
    },
    {
     "name": "stderr",
     "output_type": "stream",
     "text": [
      "      26/50         0G      1.372      1.073       1.05         90        640: 100%|██████████| 5/5 [00:13<00:00,  2.76s/it]\n",
      "                 Class     Images  Instances      Box(P          R      mAP50  mAP50-95): 100%|██████████| 1/1 [00:01<00:00,  1.10s/it]"
     ]
    },
    {
     "name": "stdout",
     "output_type": "stream",
     "text": [
      "                   all         19        138      0.645      0.782      0.661      0.385\n"
     ]
    },
    {
     "name": "stderr",
     "output_type": "stream",
     "text": [
      "\n"
     ]
    },
    {
     "name": "stdout",
     "output_type": "stream",
     "text": [
      "\n",
      "      Epoch    GPU_mem   box_loss   cls_loss   dfl_loss  Instances       Size\n"
     ]
    },
    {
     "name": "stderr",
     "output_type": "stream",
     "text": [
      "      27/50         0G       1.33     0.9954      1.041         94        640: 100%|██████████| 5/5 [00:14<00:00,  2.80s/it]\n",
      "                 Class     Images  Instances      Box(P          R      mAP50  mAP50-95): 100%|██████████| 1/1 [00:01<00:00,  1.29s/it]"
     ]
    },
    {
     "name": "stdout",
     "output_type": "stream",
     "text": [
      "                   all         19        138       0.67      0.773      0.791      0.476\n"
     ]
    },
    {
     "name": "stderr",
     "output_type": "stream",
     "text": [
      "\n"
     ]
    },
    {
     "name": "stdout",
     "output_type": "stream",
     "text": [
      "\n",
      "      Epoch    GPU_mem   box_loss   cls_loss   dfl_loss  Instances       Size\n"
     ]
    },
    {
     "name": "stderr",
     "output_type": "stream",
     "text": [
      "      28/50         0G      1.327      1.011      1.049         82        640: 100%|██████████| 5/5 [00:13<00:00,  2.80s/it]\n",
      "                 Class     Images  Instances      Box(P          R      mAP50  mAP50-95): 100%|██████████| 1/1 [00:01<00:00,  1.19s/it]"
     ]
    },
    {
     "name": "stdout",
     "output_type": "stream",
     "text": [
      "                   all         19        138      0.685      0.713      0.783      0.491\n"
     ]
    },
    {
     "name": "stderr",
     "output_type": "stream",
     "text": [
      "\n"
     ]
    },
    {
     "name": "stdout",
     "output_type": "stream",
     "text": [
      "\n",
      "      Epoch    GPU_mem   box_loss   cls_loss   dfl_loss  Instances       Size\n"
     ]
    },
    {
     "name": "stderr",
     "output_type": "stream",
     "text": [
      "      29/50         0G      1.281      1.007      1.025         65        640: 100%|██████████| 5/5 [00:14<00:00,  2.85s/it]\n",
      "                 Class     Images  Instances      Box(P          R      mAP50  mAP50-95): 100%|██████████| 1/1 [00:01<00:00,  1.21s/it]"
     ]
    },
    {
     "name": "stdout",
     "output_type": "stream",
     "text": [
      "                   all         19        138      0.655      0.712      0.779      0.483\n"
     ]
    },
    {
     "name": "stderr",
     "output_type": "stream",
     "text": [
      "\n"
     ]
    },
    {
     "name": "stdout",
     "output_type": "stream",
     "text": [
      "\n",
      "      Epoch    GPU_mem   box_loss   cls_loss   dfl_loss  Instances       Size\n"
     ]
    },
    {
     "name": "stderr",
     "output_type": "stream",
     "text": [
      "      30/50         0G      1.336      1.027      1.048         75        640: 100%|██████████| 5/5 [00:13<00:00,  2.77s/it]\n",
      "                 Class     Images  Instances      Box(P          R      mAP50  mAP50-95): 100%|██████████| 1/1 [00:01<00:00,  1.13s/it]"
     ]
    },
    {
     "name": "stdout",
     "output_type": "stream",
     "text": [
      "                   all         19        138      0.665      0.722       0.78      0.489\n"
     ]
    },
    {
     "name": "stderr",
     "output_type": "stream",
     "text": [
      "\n"
     ]
    },
    {
     "name": "stdout",
     "output_type": "stream",
     "text": [
      "\n",
      "      Epoch    GPU_mem   box_loss   cls_loss   dfl_loss  Instances       Size\n"
     ]
    },
    {
     "name": "stderr",
     "output_type": "stream",
     "text": [
      "      31/50         0G      1.279     0.9814      1.023        113        640: 100%|██████████| 5/5 [00:14<00:00,  2.89s/it]\n",
      "                 Class     Images  Instances      Box(P          R      mAP50  mAP50-95): 100%|██████████| 1/1 [00:01<00:00,  1.06s/it]"
     ]
    },
    {
     "name": "stdout",
     "output_type": "stream",
     "text": [
      "                   all         19        138      0.673      0.725      0.782      0.489\n"
     ]
    },
    {
     "name": "stderr",
     "output_type": "stream",
     "text": [
      "\n"
     ]
    },
    {
     "name": "stdout",
     "output_type": "stream",
     "text": [
      "\n",
      "      Epoch    GPU_mem   box_loss   cls_loss   dfl_loss  Instances       Size\n"
     ]
    },
    {
     "name": "stderr",
     "output_type": "stream",
     "text": [
      "      32/50         0G      1.301     0.9519      1.019         78        640: 100%|██████████| 5/5 [00:13<00:00,  2.69s/it]\n",
      "                 Class     Images  Instances      Box(P          R      mAP50  mAP50-95): 100%|██████████| 1/1 [00:01<00:00,  1.14s/it]"
     ]
    },
    {
     "name": "stdout",
     "output_type": "stream",
     "text": [
      "                   all         19        138      0.616      0.735      0.797      0.475\n"
     ]
    },
    {
     "name": "stderr",
     "output_type": "stream",
     "text": [
      "\n"
     ]
    },
    {
     "name": "stdout",
     "output_type": "stream",
     "text": [
      "\n",
      "      Epoch    GPU_mem   box_loss   cls_loss   dfl_loss  Instances       Size\n"
     ]
    },
    {
     "name": "stderr",
     "output_type": "stream",
     "text": [
      "      33/50         0G      1.301     0.9955      1.013        112        640: 100%|██████████| 5/5 [00:14<00:00,  2.83s/it]\n",
      "                 Class     Images  Instances      Box(P          R      mAP50  mAP50-95): 100%|██████████| 1/1 [00:01<00:00,  1.26s/it]"
     ]
    },
    {
     "name": "stdout",
     "output_type": "stream",
     "text": [
      "                   all         19        138      0.637      0.737      0.798      0.481\n"
     ]
    },
    {
     "name": "stderr",
     "output_type": "stream",
     "text": [
      "\n"
     ]
    },
    {
     "name": "stdout",
     "output_type": "stream",
     "text": [
      "\n",
      "      Epoch    GPU_mem   box_loss   cls_loss   dfl_loss  Instances       Size\n"
     ]
    },
    {
     "name": "stderr",
     "output_type": "stream",
     "text": [
      "      34/50         0G      1.244     0.9283          1        139        640: 100%|██████████| 5/5 [00:14<00:00,  2.89s/it]\n",
      "                 Class     Images  Instances      Box(P          R      mAP50  mAP50-95): 100%|██████████| 1/1 [00:01<00:00,  1.18s/it]"
     ]
    },
    {
     "name": "stdout",
     "output_type": "stream",
     "text": [
      "                   all         19        138      0.623      0.734      0.797      0.481\n"
     ]
    },
    {
     "name": "stderr",
     "output_type": "stream",
     "text": [
      "\n"
     ]
    },
    {
     "name": "stdout",
     "output_type": "stream",
     "text": [
      "\n",
      "      Epoch    GPU_mem   box_loss   cls_loss   dfl_loss  Instances       Size\n"
     ]
    },
    {
     "name": "stderr",
     "output_type": "stream",
     "text": [
      "      35/50         0G      1.231     0.9638     0.9853         92        640: 100%|██████████| 5/5 [00:14<00:00,  2.81s/it]\n",
      "                 Class     Images  Instances      Box(P          R      mAP50  mAP50-95): 100%|██████████| 1/1 [00:01<00:00,  1.24s/it]"
     ]
    },
    {
     "name": "stdout",
     "output_type": "stream",
     "text": [
      "                   all         19        138      0.657      0.754      0.801      0.493\n"
     ]
    },
    {
     "name": "stderr",
     "output_type": "stream",
     "text": [
      "\n"
     ]
    },
    {
     "name": "stdout",
     "output_type": "stream",
     "text": [
      "\n",
      "      Epoch    GPU_mem   box_loss   cls_loss   dfl_loss  Instances       Size\n"
     ]
    },
    {
     "name": "stderr",
     "output_type": "stream",
     "text": [
      "      36/50         0G      1.225     0.8974       1.01         84        640: 100%|██████████| 5/5 [00:13<00:00,  2.78s/it]\n",
      "                 Class     Images  Instances      Box(P          R      mAP50  mAP50-95): 100%|██████████| 1/1 [00:01<00:00,  1.20s/it]"
     ]
    },
    {
     "name": "stdout",
     "output_type": "stream",
     "text": [
      "                   all         19        138      0.832      0.759      0.834      0.524\n"
     ]
    },
    {
     "name": "stderr",
     "output_type": "stream",
     "text": [
      "\n"
     ]
    },
    {
     "name": "stdout",
     "output_type": "stream",
     "text": [
      "\n",
      "      Epoch    GPU_mem   box_loss   cls_loss   dfl_loss  Instances       Size\n"
     ]
    },
    {
     "name": "stderr",
     "output_type": "stream",
     "text": [
      "      37/50         0G      1.215     0.9168     0.9913         87        640: 100%|██████████| 5/5 [00:13<00:00,  2.65s/it]\n",
      "                 Class     Images  Instances      Box(P          R      mAP50  mAP50-95): 100%|██████████| 1/1 [00:01<00:00,  1.08s/it]"
     ]
    },
    {
     "name": "stdout",
     "output_type": "stream",
     "text": [
      "                   all         19        138      0.831      0.748      0.832       0.52\n"
     ]
    },
    {
     "name": "stderr",
     "output_type": "stream",
     "text": [
      "\n"
     ]
    },
    {
     "name": "stdout",
     "output_type": "stream",
     "text": [
      "\n",
      "      Epoch    GPU_mem   box_loss   cls_loss   dfl_loss  Instances       Size\n"
     ]
    },
    {
     "name": "stderr",
     "output_type": "stream",
     "text": [
      "      38/50         0G      1.199     0.9051     0.9931         91        640: 100%|██████████| 5/5 [00:13<00:00,  2.76s/it]\n",
      "                 Class     Images  Instances      Box(P          R      mAP50  mAP50-95): 100%|██████████| 1/1 [00:01<00:00,  1.15s/it]"
     ]
    },
    {
     "name": "stdout",
     "output_type": "stream",
     "text": [
      "                   all         19        138      0.876      0.721      0.829      0.496\n"
     ]
    },
    {
     "name": "stderr",
     "output_type": "stream",
     "text": [
      "\n"
     ]
    },
    {
     "name": "stdout",
     "output_type": "stream",
     "text": [
      "\n",
      "      Epoch    GPU_mem   box_loss   cls_loss   dfl_loss  Instances       Size\n"
     ]
    },
    {
     "name": "stderr",
     "output_type": "stream",
     "text": [
      "      39/50         0G      1.202      0.885     0.9864         72        640: 100%|██████████| 5/5 [00:13<00:00,  2.72s/it]\n",
      "                 Class     Images  Instances      Box(P          R      mAP50  mAP50-95): 100%|██████████| 1/1 [00:01<00:00,  1.09s/it]"
     ]
    },
    {
     "name": "stdout",
     "output_type": "stream",
     "text": [
      "                   all         19        138      0.905      0.715      0.828      0.496\n"
     ]
    },
    {
     "name": "stderr",
     "output_type": "stream",
     "text": [
      "\n"
     ]
    },
    {
     "name": "stdout",
     "output_type": "stream",
     "text": [
      "\n",
      "      Epoch    GPU_mem   box_loss   cls_loss   dfl_loss  Instances       Size\n"
     ]
    },
    {
     "name": "stderr",
     "output_type": "stream",
     "text": [
      "      40/50         0G      1.213     0.9039     0.9951         71        640: 100%|██████████| 5/5 [00:13<00:00,  2.76s/it]\n",
      "                 Class     Images  Instances      Box(P          R      mAP50  mAP50-95): 100%|██████████| 1/1 [00:01<00:00,  1.14s/it]"
     ]
    },
    {
     "name": "stdout",
     "output_type": "stream",
     "text": [
      "                   all         19        138      0.747      0.773      0.812      0.485\n"
     ]
    },
    {
     "name": "stderr",
     "output_type": "stream",
     "text": [
      "\n"
     ]
    },
    {
     "name": "stdout",
     "output_type": "stream",
     "text": [
      "Closing dataloader mosaic\n",
      "\u001b[34m\u001b[1malbumentations: \u001b[0mBlur(p=0.01, blur_limit=(3, 7)), MedianBlur(p=0.01, blur_limit=(3, 7)), ToGray(p=0.01), CLAHE(p=0.01, clip_limit=(1, 4.0), tile_grid_size=(8, 8))\n",
      "\n",
      "      Epoch    GPU_mem   box_loss   cls_loss   dfl_loss  Instances       Size\n"
     ]
    },
    {
     "name": "stderr",
     "output_type": "stream",
     "text": [
      "      41/50         0G      1.198      1.028     0.9822         43        640: 100%|██████████| 5/5 [00:14<00:00,  2.82s/it]\n",
      "                 Class     Images  Instances      Box(P          R      mAP50  mAP50-95): 100%|██████████| 1/1 [00:01<00:00,  1.10s/it]"
     ]
    },
    {
     "name": "stdout",
     "output_type": "stream",
     "text": [
      "                   all         19        138       0.78      0.765      0.812      0.481\n"
     ]
    },
    {
     "name": "stderr",
     "output_type": "stream",
     "text": [
      "\n"
     ]
    },
    {
     "name": "stdout",
     "output_type": "stream",
     "text": [
      "\n",
      "      Epoch    GPU_mem   box_loss   cls_loss   dfl_loss  Instances       Size\n"
     ]
    },
    {
     "name": "stderr",
     "output_type": "stream",
     "text": [
      "      42/50         0G      1.236     0.9958     0.9827         62        640: 100%|██████████| 5/5 [00:13<00:00,  2.71s/it]\n",
      "                 Class     Images  Instances      Box(P          R      mAP50  mAP50-95): 100%|██████████| 1/1 [00:01<00:00,  1.22s/it]"
     ]
    },
    {
     "name": "stdout",
     "output_type": "stream",
     "text": [
      "                   all         19        138       0.77      0.809      0.822      0.489\n"
     ]
    },
    {
     "name": "stderr",
     "output_type": "stream",
     "text": [
      "\n"
     ]
    },
    {
     "name": "stdout",
     "output_type": "stream",
     "text": [
      "\n",
      "      Epoch    GPU_mem   box_loss   cls_loss   dfl_loss  Instances       Size\n"
     ]
    },
    {
     "name": "stderr",
     "output_type": "stream",
     "text": [
      "      43/50         0G       1.22      1.003     0.9684         52        640: 100%|██████████| 5/5 [00:12<00:00,  2.56s/it]\n",
      "                 Class     Images  Instances      Box(P          R      mAP50  mAP50-95): 100%|██████████| 1/1 [00:01<00:00,  1.26s/it]"
     ]
    },
    {
     "name": "stdout",
     "output_type": "stream",
     "text": [
      "                   all         19        138      0.782      0.836       0.85      0.534\n"
     ]
    },
    {
     "name": "stderr",
     "output_type": "stream",
     "text": [
      "\n"
     ]
    },
    {
     "name": "stdout",
     "output_type": "stream",
     "text": [
      "\n",
      "      Epoch    GPU_mem   box_loss   cls_loss   dfl_loss  Instances       Size\n"
     ]
    },
    {
     "name": "stderr",
     "output_type": "stream",
     "text": [
      "      44/50         0G       1.15     0.9422     0.9661         32        640: 100%|██████████| 5/5 [00:13<00:00,  2.62s/it]\n",
      "                 Class     Images  Instances      Box(P          R      mAP50  mAP50-95): 100%|██████████| 1/1 [00:01<00:00,  1.10s/it]"
     ]
    },
    {
     "name": "stdout",
     "output_type": "stream",
     "text": [
      "                   all         19        138       0.85      0.809      0.856      0.554\n"
     ]
    },
    {
     "name": "stderr",
     "output_type": "stream",
     "text": [
      "\n"
     ]
    },
    {
     "name": "stdout",
     "output_type": "stream",
     "text": [
      "\n",
      "      Epoch    GPU_mem   box_loss   cls_loss   dfl_loss  Instances       Size\n"
     ]
    },
    {
     "name": "stderr",
     "output_type": "stream",
     "text": [
      "      45/50         0G      1.237     0.9503      1.003         34        640: 100%|██████████| 5/5 [00:12<00:00,  2.59s/it]\n",
      "                 Class     Images  Instances      Box(P          R      mAP50  mAP50-95): 100%|██████████| 1/1 [00:01<00:00,  1.41s/it]"
     ]
    },
    {
     "name": "stdout",
     "output_type": "stream",
     "text": [
      "                   all         19        138      0.854      0.815      0.862      0.556\n"
     ]
    },
    {
     "name": "stderr",
     "output_type": "stream",
     "text": [
      "\n"
     ]
    },
    {
     "name": "stdout",
     "output_type": "stream",
     "text": [
      "\n",
      "      Epoch    GPU_mem   box_loss   cls_loss   dfl_loss  Instances       Size\n"
     ]
    },
    {
     "name": "stderr",
     "output_type": "stream",
     "text": [
      "      46/50         0G      1.215     0.9432     0.9657         51        640: 100%|██████████| 5/5 [00:13<00:00,  2.65s/it]\n",
      "                 Class     Images  Instances      Box(P          R      mAP50  mAP50-95): 100%|██████████| 1/1 [00:01<00:00,  1.20s/it]"
     ]
    },
    {
     "name": "stdout",
     "output_type": "stream",
     "text": [
      "                   all         19        138      0.857      0.833      0.869      0.556\n"
     ]
    },
    {
     "name": "stderr",
     "output_type": "stream",
     "text": [
      "\n"
     ]
    },
    {
     "name": "stdout",
     "output_type": "stream",
     "text": [
      "\n",
      "      Epoch    GPU_mem   box_loss   cls_loss   dfl_loss  Instances       Size\n"
     ]
    },
    {
     "name": "stderr",
     "output_type": "stream",
     "text": [
      "      47/50         0G      1.187     0.9295     0.9581         66        640: 100%|██████████| 5/5 [00:18<00:00,  3.67s/it]\n",
      "                 Class     Images  Instances      Box(P          R      mAP50  mAP50-95): 100%|██████████| 1/1 [00:08<00:00,  8.26s/it]\n"
     ]
    },
    {
     "name": "stdout",
     "output_type": "stream",
     "text": [
      "                   all         19        138      0.827      0.851      0.876      0.532\n",
      "\n",
      "      Epoch    GPU_mem   box_loss   cls_loss   dfl_loss  Instances       Size\n"
     ]
    },
    {
     "name": "stderr",
     "output_type": "stream",
     "text": [
      "      48/50         0G      1.145      0.914     0.9563         41        640: 100%|██████████| 5/5 [00:40<00:00,  8.19s/it]\n",
      "                 Class     Images  Instances      Box(P          R      mAP50  mAP50-95): 100%|██████████| 1/1 [00:00<00:00,  1.06it/s]"
     ]
    },
    {
     "name": "stdout",
     "output_type": "stream",
     "text": [
      "                   all         19        138      0.778      0.856      0.873      0.523\n"
     ]
    },
    {
     "name": "stderr",
     "output_type": "stream",
     "text": [
      "\n"
     ]
    },
    {
     "name": "stdout",
     "output_type": "stream",
     "text": [
      "\n",
      "      Epoch    GPU_mem   box_loss   cls_loss   dfl_loss  Instances       Size\n"
     ]
    },
    {
     "name": "stderr",
     "output_type": "stream",
     "text": [
      "      49/50         0G      1.151     0.8966     0.9579         35        640: 100%|██████████| 5/5 [00:12<00:00,  2.44s/it]\n",
      "                 Class     Images  Instances      Box(P          R      mAP50  mAP50-95): 100%|██████████| 1/1 [00:01<00:00,  1.09s/it]"
     ]
    },
    {
     "name": "stdout",
     "output_type": "stream",
     "text": [
      "                   all         19        138      0.792      0.856      0.877      0.527\n"
     ]
    },
    {
     "name": "stderr",
     "output_type": "stream",
     "text": [
      "\n"
     ]
    },
    {
     "name": "stdout",
     "output_type": "stream",
     "text": [
      "\n",
      "      Epoch    GPU_mem   box_loss   cls_loss   dfl_loss  Instances       Size\n"
     ]
    },
    {
     "name": "stderr",
     "output_type": "stream",
     "text": [
      "      50/50         0G      1.183     0.9127     0.9646         57        640: 100%|██████████| 5/5 [00:12<00:00,  2.52s/it]\n",
      "                 Class     Images  Instances      Box(P          R      mAP50  mAP50-95): 100%|██████████| 1/1 [00:01<00:00,  1.21s/it]"
     ]
    },
    {
     "name": "stdout",
     "output_type": "stream",
     "text": [
      "                   all         19        138      0.803      0.856      0.878      0.526\n"
     ]
    },
    {
     "name": "stderr",
     "output_type": "stream",
     "text": [
      "\n"
     ]
    },
    {
     "name": "stdout",
     "output_type": "stream",
     "text": [
      "\n",
      "50 epochs completed in 0.274 hours.\n",
      "Optimizer stripped from runs\\detect\\train\\weights\\last.pt, 6.2MB\n",
      "Optimizer stripped from runs\\detect\\train\\weights\\best.pt, 6.2MB\n",
      "\n",
      "Validating runs\\detect\\train\\weights\\best.pt...\n",
      "Ultralytics 8.3.34  Python-3.11.0 torch-2.5.1+cpu CPU (Intel Core(TM) Ultra 7 155H)\n",
      "Model summary (fused): 168 layers, 3,006,818 parameters, 0 gradients, 8.1 GFLOPs\n"
     ]
    },
    {
     "name": "stderr",
     "output_type": "stream",
     "text": [
      "                 Class     Images  Instances      Box(P          R      mAP50  mAP50-95): 100%|██████████| 1/1 [00:01<00:00,  1.09s/it]\n"
     ]
    },
    {
     "name": "stdout",
     "output_type": "stream",
     "text": [
      "                   all         19        138      0.856      0.834      0.869      0.555\n",
      "                 Bajaj          1          1      0.852          1      0.995      0.796\n",
      "                 Mobil         12         20      0.853        0.9      0.933      0.714\n",
      "                 Motor         16         49      0.883      0.918      0.922      0.411\n",
      "                  Truk          4          4      0.828       0.75      0.777       0.59\n",
      "                  plat         19         64      0.865      0.599       0.72      0.263\n",
      "Speed: 0.6ms preprocess, 33.2ms inference, 0.0ms loss, 3.0ms postprocess per image\n",
      "Results saved to \u001b[1mruns\\detect\\train\u001b[0m\n"
     ]
    },
    {
     "data": {
      "text/plain": [
       "ultralytics.utils.metrics.DetMetrics object with attributes:\n",
       "\n",
       "ap_class_index: array([0, 2, 3, 4, 5])\n",
       "box: ultralytics.utils.metrics.Metric object\n",
       "confusion_matrix: <ultralytics.utils.metrics.ConfusionMatrix object at 0x000001D7324BC390>\n",
       "curves: ['Precision-Recall(B)', 'F1-Confidence(B)', 'Precision-Confidence(B)', 'Recall-Confidence(B)']\n",
       "curves_results: [[array([          0,    0.001001,    0.002002,    0.003003,    0.004004,    0.005005,    0.006006,    0.007007,    0.008008,    0.009009,     0.01001,    0.011011,    0.012012,    0.013013,    0.014014,    0.015015,    0.016016,    0.017017,    0.018018,    0.019019,     0.02002,    0.021021,    0.022022,    0.023023,\n",
       "          0.024024,    0.025025,    0.026026,    0.027027,    0.028028,    0.029029,     0.03003,    0.031031,    0.032032,    0.033033,    0.034034,    0.035035,    0.036036,    0.037037,    0.038038,    0.039039,     0.04004,    0.041041,    0.042042,    0.043043,    0.044044,    0.045045,    0.046046,    0.047047,\n",
       "          0.048048,    0.049049,     0.05005,    0.051051,    0.052052,    0.053053,    0.054054,    0.055055,    0.056056,    0.057057,    0.058058,    0.059059,     0.06006,    0.061061,    0.062062,    0.063063,    0.064064,    0.065065,    0.066066,    0.067067,    0.068068,    0.069069,     0.07007,    0.071071,\n",
       "          0.072072,    0.073073,    0.074074,    0.075075,    0.076076,    0.077077,    0.078078,    0.079079,     0.08008,    0.081081,    0.082082,    0.083083,    0.084084,    0.085085,    0.086086,    0.087087,    0.088088,    0.089089,     0.09009,    0.091091,    0.092092,    0.093093,    0.094094,    0.095095,\n",
       "          0.096096,    0.097097,    0.098098,    0.099099,      0.1001,      0.1011,      0.1021,      0.1031,      0.1041,     0.10511,     0.10611,     0.10711,     0.10811,     0.10911,     0.11011,     0.11111,     0.11211,     0.11311,     0.11411,     0.11512,     0.11612,     0.11712,     0.11812,     0.11912,\n",
       "           0.12012,     0.12112,     0.12212,     0.12312,     0.12412,     0.12513,     0.12613,     0.12713,     0.12813,     0.12913,     0.13013,     0.13113,     0.13213,     0.13313,     0.13413,     0.13514,     0.13614,     0.13714,     0.13814,     0.13914,     0.14014,     0.14114,     0.14214,     0.14314,\n",
       "           0.14414,     0.14515,     0.14615,     0.14715,     0.14815,     0.14915,     0.15015,     0.15115,     0.15215,     0.15315,     0.15415,     0.15516,     0.15616,     0.15716,     0.15816,     0.15916,     0.16016,     0.16116,     0.16216,     0.16316,     0.16416,     0.16517,     0.16617,     0.16717,\n",
       "           0.16817,     0.16917,     0.17017,     0.17117,     0.17217,     0.17317,     0.17417,     0.17518,     0.17618,     0.17718,     0.17818,     0.17918,     0.18018,     0.18118,     0.18218,     0.18318,     0.18418,     0.18519,     0.18619,     0.18719,     0.18819,     0.18919,     0.19019,     0.19119,\n",
       "           0.19219,     0.19319,     0.19419,      0.1952,      0.1962,      0.1972,      0.1982,      0.1992,      0.2002,      0.2012,      0.2022,      0.2032,      0.2042,     0.20521,     0.20621,     0.20721,     0.20821,     0.20921,     0.21021,     0.21121,     0.21221,     0.21321,     0.21421,     0.21522,\n",
       "           0.21622,     0.21722,     0.21822,     0.21922,     0.22022,     0.22122,     0.22222,     0.22322,     0.22422,     0.22523,     0.22623,     0.22723,     0.22823,     0.22923,     0.23023,     0.23123,     0.23223,     0.23323,     0.23423,     0.23524,     0.23624,     0.23724,     0.23824,     0.23924,\n",
       "           0.24024,     0.24124,     0.24224,     0.24324,     0.24424,     0.24525,     0.24625,     0.24725,     0.24825,     0.24925,     0.25025,     0.25125,     0.25225,     0.25325,     0.25425,     0.25526,     0.25626,     0.25726,     0.25826,     0.25926,     0.26026,     0.26126,     0.26226,     0.26326,\n",
       "           0.26426,     0.26527,     0.26627,     0.26727,     0.26827,     0.26927,     0.27027,     0.27127,     0.27227,     0.27327,     0.27427,     0.27528,     0.27628,     0.27728,     0.27828,     0.27928,     0.28028,     0.28128,     0.28228,     0.28328,     0.28428,     0.28529,     0.28629,     0.28729,\n",
       "           0.28829,     0.28929,     0.29029,     0.29129,     0.29229,     0.29329,     0.29429,      0.2953,      0.2963,      0.2973,      0.2983,      0.2993,      0.3003,      0.3013,      0.3023,      0.3033,      0.3043,     0.30531,     0.30631,     0.30731,     0.30831,     0.30931,     0.31031,     0.31131,\n",
       "           0.31231,     0.31331,     0.31431,     0.31532,     0.31632,     0.31732,     0.31832,     0.31932,     0.32032,     0.32132,     0.32232,     0.32332,     0.32432,     0.32533,     0.32633,     0.32733,     0.32833,     0.32933,     0.33033,     0.33133,     0.33233,     0.33333,     0.33433,     0.33534,\n",
       "           0.33634,     0.33734,     0.33834,     0.33934,     0.34034,     0.34134,     0.34234,     0.34334,     0.34434,     0.34535,     0.34635,     0.34735,     0.34835,     0.34935,     0.35035,     0.35135,     0.35235,     0.35335,     0.35435,     0.35536,     0.35636,     0.35736,     0.35836,     0.35936,\n",
       "           0.36036,     0.36136,     0.36236,     0.36336,     0.36436,     0.36537,     0.36637,     0.36737,     0.36837,     0.36937,     0.37037,     0.37137,     0.37237,     0.37337,     0.37437,     0.37538,     0.37638,     0.37738,     0.37838,     0.37938,     0.38038,     0.38138,     0.38238,     0.38338,\n",
       "           0.38438,     0.38539,     0.38639,     0.38739,     0.38839,     0.38939,     0.39039,     0.39139,     0.39239,     0.39339,     0.39439,      0.3954,      0.3964,      0.3974,      0.3984,      0.3994,      0.4004,      0.4014,      0.4024,      0.4034,      0.4044,     0.40541,     0.40641,     0.40741,\n",
       "           0.40841,     0.40941,     0.41041,     0.41141,     0.41241,     0.41341,     0.41441,     0.41542,     0.41642,     0.41742,     0.41842,     0.41942,     0.42042,     0.42142,     0.42242,     0.42342,     0.42442,     0.42543,     0.42643,     0.42743,     0.42843,     0.42943,     0.43043,     0.43143,\n",
       "           0.43243,     0.43343,     0.43443,     0.43544,     0.43644,     0.43744,     0.43844,     0.43944,     0.44044,     0.44144,     0.44244,     0.44344,     0.44444,     0.44545,     0.44645,     0.44745,     0.44845,     0.44945,     0.45045,     0.45145,     0.45245,     0.45345,     0.45445,     0.45546,\n",
       "           0.45646,     0.45746,     0.45846,     0.45946,     0.46046,     0.46146,     0.46246,     0.46346,     0.46446,     0.46547,     0.46647,     0.46747,     0.46847,     0.46947,     0.47047,     0.47147,     0.47247,     0.47347,     0.47447,     0.47548,     0.47648,     0.47748,     0.47848,     0.47948,\n",
       "           0.48048,     0.48148,     0.48248,     0.48348,     0.48448,     0.48549,     0.48649,     0.48749,     0.48849,     0.48949,     0.49049,     0.49149,     0.49249,     0.49349,     0.49449,      0.4955,      0.4965,      0.4975,      0.4985,      0.4995,      0.5005,      0.5015,      0.5025,      0.5035,\n",
       "            0.5045,     0.50551,     0.50651,     0.50751,     0.50851,     0.50951,     0.51051,     0.51151,     0.51251,     0.51351,     0.51451,     0.51552,     0.51652,     0.51752,     0.51852,     0.51952,     0.52052,     0.52152,     0.52252,     0.52352,     0.52452,     0.52553,     0.52653,     0.52753,\n",
       "           0.52853,     0.52953,     0.53053,     0.53153,     0.53253,     0.53353,     0.53453,     0.53554,     0.53654,     0.53754,     0.53854,     0.53954,     0.54054,     0.54154,     0.54254,     0.54354,     0.54454,     0.54555,     0.54655,     0.54755,     0.54855,     0.54955,     0.55055,     0.55155,\n",
       "           0.55255,     0.55355,     0.55455,     0.55556,     0.55656,     0.55756,     0.55856,     0.55956,     0.56056,     0.56156,     0.56256,     0.56356,     0.56456,     0.56557,     0.56657,     0.56757,     0.56857,     0.56957,     0.57057,     0.57157,     0.57257,     0.57357,     0.57457,     0.57558,\n",
       "           0.57658,     0.57758,     0.57858,     0.57958,     0.58058,     0.58158,     0.58258,     0.58358,     0.58458,     0.58559,     0.58659,     0.58759,     0.58859,     0.58959,     0.59059,     0.59159,     0.59259,     0.59359,     0.59459,      0.5956,      0.5966,      0.5976,      0.5986,      0.5996,\n",
       "            0.6006,      0.6016,      0.6026,      0.6036,      0.6046,     0.60561,     0.60661,     0.60761,     0.60861,     0.60961,     0.61061,     0.61161,     0.61261,     0.61361,     0.61461,     0.61562,     0.61662,     0.61762,     0.61862,     0.61962,     0.62062,     0.62162,     0.62262,     0.62362,\n",
       "           0.62462,     0.62563,     0.62663,     0.62763,     0.62863,     0.62963,     0.63063,     0.63163,     0.63263,     0.63363,     0.63463,     0.63564,     0.63664,     0.63764,     0.63864,     0.63964,     0.64064,     0.64164,     0.64264,     0.64364,     0.64464,     0.64565,     0.64665,     0.64765,\n",
       "           0.64865,     0.64965,     0.65065,     0.65165,     0.65265,     0.65365,     0.65465,     0.65566,     0.65666,     0.65766,     0.65866,     0.65966,     0.66066,     0.66166,     0.66266,     0.66366,     0.66466,     0.66567,     0.66667,     0.66767,     0.66867,     0.66967,     0.67067,     0.67167,\n",
       "           0.67267,     0.67367,     0.67467,     0.67568,     0.67668,     0.67768,     0.67868,     0.67968,     0.68068,     0.68168,     0.68268,     0.68368,     0.68468,     0.68569,     0.68669,     0.68769,     0.68869,     0.68969,     0.69069,     0.69169,     0.69269,     0.69369,     0.69469,      0.6957,\n",
       "            0.6967,      0.6977,      0.6987,      0.6997,      0.7007,      0.7017,      0.7027,      0.7037,      0.7047,     0.70571,     0.70671,     0.70771,     0.70871,     0.70971,     0.71071,     0.71171,     0.71271,     0.71371,     0.71471,     0.71572,     0.71672,     0.71772,     0.71872,     0.71972,\n",
       "           0.72072,     0.72172,     0.72272,     0.72372,     0.72472,     0.72573,     0.72673,     0.72773,     0.72873,     0.72973,     0.73073,     0.73173,     0.73273,     0.73373,     0.73473,     0.73574,     0.73674,     0.73774,     0.73874,     0.73974,     0.74074,     0.74174,     0.74274,     0.74374,\n",
       "           0.74474,     0.74575,     0.74675,     0.74775,     0.74875,     0.74975,     0.75075,     0.75175,     0.75275,     0.75375,     0.75475,     0.75576,     0.75676,     0.75776,     0.75876,     0.75976,     0.76076,     0.76176,     0.76276,     0.76376,     0.76476,     0.76577,     0.76677,     0.76777,\n",
       "           0.76877,     0.76977,     0.77077,     0.77177,     0.77277,     0.77377,     0.77477,     0.77578,     0.77678,     0.77778,     0.77878,     0.77978,     0.78078,     0.78178,     0.78278,     0.78378,     0.78478,     0.78579,     0.78679,     0.78779,     0.78879,     0.78979,     0.79079,     0.79179,\n",
       "           0.79279,     0.79379,     0.79479,      0.7958,      0.7968,      0.7978,      0.7988,      0.7998,      0.8008,      0.8018,      0.8028,      0.8038,      0.8048,     0.80581,     0.80681,     0.80781,     0.80881,     0.80981,     0.81081,     0.81181,     0.81281,     0.81381,     0.81481,     0.81582,\n",
       "           0.81682,     0.81782,     0.81882,     0.81982,     0.82082,     0.82182,     0.82282,     0.82382,     0.82482,     0.82583,     0.82683,     0.82783,     0.82883,     0.82983,     0.83083,     0.83183,     0.83283,     0.83383,     0.83483,     0.83584,     0.83684,     0.83784,     0.83884,     0.83984,\n",
       "           0.84084,     0.84184,     0.84284,     0.84384,     0.84484,     0.84585,     0.84685,     0.84785,     0.84885,     0.84985,     0.85085,     0.85185,     0.85285,     0.85385,     0.85485,     0.85586,     0.85686,     0.85786,     0.85886,     0.85986,     0.86086,     0.86186,     0.86286,     0.86386,\n",
       "           0.86486,     0.86587,     0.86687,     0.86787,     0.86887,     0.86987,     0.87087,     0.87187,     0.87287,     0.87387,     0.87487,     0.87588,     0.87688,     0.87788,     0.87888,     0.87988,     0.88088,     0.88188,     0.88288,     0.88388,     0.88488,     0.88589,     0.88689,     0.88789,\n",
       "           0.88889,     0.88989,     0.89089,     0.89189,     0.89289,     0.89389,     0.89489,      0.8959,      0.8969,      0.8979,      0.8989,      0.8999,      0.9009,      0.9019,      0.9029,      0.9039,      0.9049,     0.90591,     0.90691,     0.90791,     0.90891,     0.90991,     0.91091,     0.91191,\n",
       "           0.91291,     0.91391,     0.91491,     0.91592,     0.91692,     0.91792,     0.91892,     0.91992,     0.92092,     0.92192,     0.92292,     0.92392,     0.92492,     0.92593,     0.92693,     0.92793,     0.92893,     0.92993,     0.93093,     0.93193,     0.93293,     0.93393,     0.93493,     0.93594,\n",
       "           0.93694,     0.93794,     0.93894,     0.93994,     0.94094,     0.94194,     0.94294,     0.94394,     0.94494,     0.94595,     0.94695,     0.94795,     0.94895,     0.94995,     0.95095,     0.95195,     0.95295,     0.95395,     0.95495,     0.95596,     0.95696,     0.95796,     0.95896,     0.95996,\n",
       "           0.96096,     0.96196,     0.96296,     0.96396,     0.96496,     0.96597,     0.96697,     0.96797,     0.96897,     0.96997,     0.97097,     0.97197,     0.97297,     0.97397,     0.97497,     0.97598,     0.97698,     0.97798,     0.97898,     0.97998,     0.98098,     0.98198,     0.98298,     0.98398,\n",
       "           0.98498,     0.98599,     0.98699,     0.98799,     0.98899,     0.98999,     0.99099,     0.99199,     0.99299,     0.99399,     0.99499,       0.996,       0.997,       0.998,       0.999,           1]), array([[          1,           1,           1, ...,           1,           1,           0],\n",
       "       [          1,           1,           1, ...,     0.71429,     0.71429,           0],\n",
       "       [          1,           1,           1, ...,     0.13067,     0.13067,           0],\n",
       "       [          1,           1,           1, ...,     0.12903,     0.12903,           0],\n",
       "       [          1,           1,           1, ...,   0.0013012,  0.00065062,           0]]), 'Recall', 'Precision'], [array([          0,    0.001001,    0.002002,    0.003003,    0.004004,    0.005005,    0.006006,    0.007007,    0.008008,    0.009009,     0.01001,    0.011011,    0.012012,    0.013013,    0.014014,    0.015015,    0.016016,    0.017017,    0.018018,    0.019019,     0.02002,    0.021021,    0.022022,    0.023023,\n",
       "          0.024024,    0.025025,    0.026026,    0.027027,    0.028028,    0.029029,     0.03003,    0.031031,    0.032032,    0.033033,    0.034034,    0.035035,    0.036036,    0.037037,    0.038038,    0.039039,     0.04004,    0.041041,    0.042042,    0.043043,    0.044044,    0.045045,    0.046046,    0.047047,\n",
       "          0.048048,    0.049049,     0.05005,    0.051051,    0.052052,    0.053053,    0.054054,    0.055055,    0.056056,    0.057057,    0.058058,    0.059059,     0.06006,    0.061061,    0.062062,    0.063063,    0.064064,    0.065065,    0.066066,    0.067067,    0.068068,    0.069069,     0.07007,    0.071071,\n",
       "          0.072072,    0.073073,    0.074074,    0.075075,    0.076076,    0.077077,    0.078078,    0.079079,     0.08008,    0.081081,    0.082082,    0.083083,    0.084084,    0.085085,    0.086086,    0.087087,    0.088088,    0.089089,     0.09009,    0.091091,    0.092092,    0.093093,    0.094094,    0.095095,\n",
       "          0.096096,    0.097097,    0.098098,    0.099099,      0.1001,      0.1011,      0.1021,      0.1031,      0.1041,     0.10511,     0.10611,     0.10711,     0.10811,     0.10911,     0.11011,     0.11111,     0.11211,     0.11311,     0.11411,     0.11512,     0.11612,     0.11712,     0.11812,     0.11912,\n",
       "           0.12012,     0.12112,     0.12212,     0.12312,     0.12412,     0.12513,     0.12613,     0.12713,     0.12813,     0.12913,     0.13013,     0.13113,     0.13213,     0.13313,     0.13413,     0.13514,     0.13614,     0.13714,     0.13814,     0.13914,     0.14014,     0.14114,     0.14214,     0.14314,\n",
       "           0.14414,     0.14515,     0.14615,     0.14715,     0.14815,     0.14915,     0.15015,     0.15115,     0.15215,     0.15315,     0.15415,     0.15516,     0.15616,     0.15716,     0.15816,     0.15916,     0.16016,     0.16116,     0.16216,     0.16316,     0.16416,     0.16517,     0.16617,     0.16717,\n",
       "           0.16817,     0.16917,     0.17017,     0.17117,     0.17217,     0.17317,     0.17417,     0.17518,     0.17618,     0.17718,     0.17818,     0.17918,     0.18018,     0.18118,     0.18218,     0.18318,     0.18418,     0.18519,     0.18619,     0.18719,     0.18819,     0.18919,     0.19019,     0.19119,\n",
       "           0.19219,     0.19319,     0.19419,      0.1952,      0.1962,      0.1972,      0.1982,      0.1992,      0.2002,      0.2012,      0.2022,      0.2032,      0.2042,     0.20521,     0.20621,     0.20721,     0.20821,     0.20921,     0.21021,     0.21121,     0.21221,     0.21321,     0.21421,     0.21522,\n",
       "           0.21622,     0.21722,     0.21822,     0.21922,     0.22022,     0.22122,     0.22222,     0.22322,     0.22422,     0.22523,     0.22623,     0.22723,     0.22823,     0.22923,     0.23023,     0.23123,     0.23223,     0.23323,     0.23423,     0.23524,     0.23624,     0.23724,     0.23824,     0.23924,\n",
       "           0.24024,     0.24124,     0.24224,     0.24324,     0.24424,     0.24525,     0.24625,     0.24725,     0.24825,     0.24925,     0.25025,     0.25125,     0.25225,     0.25325,     0.25425,     0.25526,     0.25626,     0.25726,     0.25826,     0.25926,     0.26026,     0.26126,     0.26226,     0.26326,\n",
       "           0.26426,     0.26527,     0.26627,     0.26727,     0.26827,     0.26927,     0.27027,     0.27127,     0.27227,     0.27327,     0.27427,     0.27528,     0.27628,     0.27728,     0.27828,     0.27928,     0.28028,     0.28128,     0.28228,     0.28328,     0.28428,     0.28529,     0.28629,     0.28729,\n",
       "           0.28829,     0.28929,     0.29029,     0.29129,     0.29229,     0.29329,     0.29429,      0.2953,      0.2963,      0.2973,      0.2983,      0.2993,      0.3003,      0.3013,      0.3023,      0.3033,      0.3043,     0.30531,     0.30631,     0.30731,     0.30831,     0.30931,     0.31031,     0.31131,\n",
       "           0.31231,     0.31331,     0.31431,     0.31532,     0.31632,     0.31732,     0.31832,     0.31932,     0.32032,     0.32132,     0.32232,     0.32332,     0.32432,     0.32533,     0.32633,     0.32733,     0.32833,     0.32933,     0.33033,     0.33133,     0.33233,     0.33333,     0.33433,     0.33534,\n",
       "           0.33634,     0.33734,     0.33834,     0.33934,     0.34034,     0.34134,     0.34234,     0.34334,     0.34434,     0.34535,     0.34635,     0.34735,     0.34835,     0.34935,     0.35035,     0.35135,     0.35235,     0.35335,     0.35435,     0.35536,     0.35636,     0.35736,     0.35836,     0.35936,\n",
       "           0.36036,     0.36136,     0.36236,     0.36336,     0.36436,     0.36537,     0.36637,     0.36737,     0.36837,     0.36937,     0.37037,     0.37137,     0.37237,     0.37337,     0.37437,     0.37538,     0.37638,     0.37738,     0.37838,     0.37938,     0.38038,     0.38138,     0.38238,     0.38338,\n",
       "           0.38438,     0.38539,     0.38639,     0.38739,     0.38839,     0.38939,     0.39039,     0.39139,     0.39239,     0.39339,     0.39439,      0.3954,      0.3964,      0.3974,      0.3984,      0.3994,      0.4004,      0.4014,      0.4024,      0.4034,      0.4044,     0.40541,     0.40641,     0.40741,\n",
       "           0.40841,     0.40941,     0.41041,     0.41141,     0.41241,     0.41341,     0.41441,     0.41542,     0.41642,     0.41742,     0.41842,     0.41942,     0.42042,     0.42142,     0.42242,     0.42342,     0.42442,     0.42543,     0.42643,     0.42743,     0.42843,     0.42943,     0.43043,     0.43143,\n",
       "           0.43243,     0.43343,     0.43443,     0.43544,     0.43644,     0.43744,     0.43844,     0.43944,     0.44044,     0.44144,     0.44244,     0.44344,     0.44444,     0.44545,     0.44645,     0.44745,     0.44845,     0.44945,     0.45045,     0.45145,     0.45245,     0.45345,     0.45445,     0.45546,\n",
       "           0.45646,     0.45746,     0.45846,     0.45946,     0.46046,     0.46146,     0.46246,     0.46346,     0.46446,     0.46547,     0.46647,     0.46747,     0.46847,     0.46947,     0.47047,     0.47147,     0.47247,     0.47347,     0.47447,     0.47548,     0.47648,     0.47748,     0.47848,     0.47948,\n",
       "           0.48048,     0.48148,     0.48248,     0.48348,     0.48448,     0.48549,     0.48649,     0.48749,     0.48849,     0.48949,     0.49049,     0.49149,     0.49249,     0.49349,     0.49449,      0.4955,      0.4965,      0.4975,      0.4985,      0.4995,      0.5005,      0.5015,      0.5025,      0.5035,\n",
       "            0.5045,     0.50551,     0.50651,     0.50751,     0.50851,     0.50951,     0.51051,     0.51151,     0.51251,     0.51351,     0.51451,     0.51552,     0.51652,     0.51752,     0.51852,     0.51952,     0.52052,     0.52152,     0.52252,     0.52352,     0.52452,     0.52553,     0.52653,     0.52753,\n",
       "           0.52853,     0.52953,     0.53053,     0.53153,     0.53253,     0.53353,     0.53453,     0.53554,     0.53654,     0.53754,     0.53854,     0.53954,     0.54054,     0.54154,     0.54254,     0.54354,     0.54454,     0.54555,     0.54655,     0.54755,     0.54855,     0.54955,     0.55055,     0.55155,\n",
       "           0.55255,     0.55355,     0.55455,     0.55556,     0.55656,     0.55756,     0.55856,     0.55956,     0.56056,     0.56156,     0.56256,     0.56356,     0.56456,     0.56557,     0.56657,     0.56757,     0.56857,     0.56957,     0.57057,     0.57157,     0.57257,     0.57357,     0.57457,     0.57558,\n",
       "           0.57658,     0.57758,     0.57858,     0.57958,     0.58058,     0.58158,     0.58258,     0.58358,     0.58458,     0.58559,     0.58659,     0.58759,     0.58859,     0.58959,     0.59059,     0.59159,     0.59259,     0.59359,     0.59459,      0.5956,      0.5966,      0.5976,      0.5986,      0.5996,\n",
       "            0.6006,      0.6016,      0.6026,      0.6036,      0.6046,     0.60561,     0.60661,     0.60761,     0.60861,     0.60961,     0.61061,     0.61161,     0.61261,     0.61361,     0.61461,     0.61562,     0.61662,     0.61762,     0.61862,     0.61962,     0.62062,     0.62162,     0.62262,     0.62362,\n",
       "           0.62462,     0.62563,     0.62663,     0.62763,     0.62863,     0.62963,     0.63063,     0.63163,     0.63263,     0.63363,     0.63463,     0.63564,     0.63664,     0.63764,     0.63864,     0.63964,     0.64064,     0.64164,     0.64264,     0.64364,     0.64464,     0.64565,     0.64665,     0.64765,\n",
       "           0.64865,     0.64965,     0.65065,     0.65165,     0.65265,     0.65365,     0.65465,     0.65566,     0.65666,     0.65766,     0.65866,     0.65966,     0.66066,     0.66166,     0.66266,     0.66366,     0.66466,     0.66567,     0.66667,     0.66767,     0.66867,     0.66967,     0.67067,     0.67167,\n",
       "           0.67267,     0.67367,     0.67467,     0.67568,     0.67668,     0.67768,     0.67868,     0.67968,     0.68068,     0.68168,     0.68268,     0.68368,     0.68468,     0.68569,     0.68669,     0.68769,     0.68869,     0.68969,     0.69069,     0.69169,     0.69269,     0.69369,     0.69469,      0.6957,\n",
       "            0.6967,      0.6977,      0.6987,      0.6997,      0.7007,      0.7017,      0.7027,      0.7037,      0.7047,     0.70571,     0.70671,     0.70771,     0.70871,     0.70971,     0.71071,     0.71171,     0.71271,     0.71371,     0.71471,     0.71572,     0.71672,     0.71772,     0.71872,     0.71972,\n",
       "           0.72072,     0.72172,     0.72272,     0.72372,     0.72472,     0.72573,     0.72673,     0.72773,     0.72873,     0.72973,     0.73073,     0.73173,     0.73273,     0.73373,     0.73473,     0.73574,     0.73674,     0.73774,     0.73874,     0.73974,     0.74074,     0.74174,     0.74274,     0.74374,\n",
       "           0.74474,     0.74575,     0.74675,     0.74775,     0.74875,     0.74975,     0.75075,     0.75175,     0.75275,     0.75375,     0.75475,     0.75576,     0.75676,     0.75776,     0.75876,     0.75976,     0.76076,     0.76176,     0.76276,     0.76376,     0.76476,     0.76577,     0.76677,     0.76777,\n",
       "           0.76877,     0.76977,     0.77077,     0.77177,     0.77277,     0.77377,     0.77477,     0.77578,     0.77678,     0.77778,     0.77878,     0.77978,     0.78078,     0.78178,     0.78278,     0.78378,     0.78478,     0.78579,     0.78679,     0.78779,     0.78879,     0.78979,     0.79079,     0.79179,\n",
       "           0.79279,     0.79379,     0.79479,      0.7958,      0.7968,      0.7978,      0.7988,      0.7998,      0.8008,      0.8018,      0.8028,      0.8038,      0.8048,     0.80581,     0.80681,     0.80781,     0.80881,     0.80981,     0.81081,     0.81181,     0.81281,     0.81381,     0.81481,     0.81582,\n",
       "           0.81682,     0.81782,     0.81882,     0.81982,     0.82082,     0.82182,     0.82282,     0.82382,     0.82482,     0.82583,     0.82683,     0.82783,     0.82883,     0.82983,     0.83083,     0.83183,     0.83283,     0.83383,     0.83483,     0.83584,     0.83684,     0.83784,     0.83884,     0.83984,\n",
       "           0.84084,     0.84184,     0.84284,     0.84384,     0.84484,     0.84585,     0.84685,     0.84785,     0.84885,     0.84985,     0.85085,     0.85185,     0.85285,     0.85385,     0.85485,     0.85586,     0.85686,     0.85786,     0.85886,     0.85986,     0.86086,     0.86186,     0.86286,     0.86386,\n",
       "           0.86486,     0.86587,     0.86687,     0.86787,     0.86887,     0.86987,     0.87087,     0.87187,     0.87287,     0.87387,     0.87487,     0.87588,     0.87688,     0.87788,     0.87888,     0.87988,     0.88088,     0.88188,     0.88288,     0.88388,     0.88488,     0.88589,     0.88689,     0.88789,\n",
       "           0.88889,     0.88989,     0.89089,     0.89189,     0.89289,     0.89389,     0.89489,      0.8959,      0.8969,      0.8979,      0.8989,      0.8999,      0.9009,      0.9019,      0.9029,      0.9039,      0.9049,     0.90591,     0.90691,     0.90791,     0.90891,     0.90991,     0.91091,     0.91191,\n",
       "           0.91291,     0.91391,     0.91491,     0.91592,     0.91692,     0.91792,     0.91892,     0.91992,     0.92092,     0.92192,     0.92292,     0.92392,     0.92492,     0.92593,     0.92693,     0.92793,     0.92893,     0.92993,     0.93093,     0.93193,     0.93293,     0.93393,     0.93493,     0.93594,\n",
       "           0.93694,     0.93794,     0.93894,     0.93994,     0.94094,     0.94194,     0.94294,     0.94394,     0.94494,     0.94595,     0.94695,     0.94795,     0.94895,     0.94995,     0.95095,     0.95195,     0.95295,     0.95395,     0.95495,     0.95596,     0.95696,     0.95796,     0.95896,     0.95996,\n",
       "           0.96096,     0.96196,     0.96296,     0.96396,     0.96496,     0.96597,     0.96697,     0.96797,     0.96897,     0.96997,     0.97097,     0.97197,     0.97297,     0.97397,     0.97497,     0.97598,     0.97698,     0.97798,     0.97898,     0.97998,     0.98098,     0.98198,     0.98298,     0.98398,\n",
       "           0.98498,     0.98599,     0.98699,     0.98799,     0.98899,     0.98999,     0.99099,     0.99199,     0.99299,     0.99399,     0.99499,       0.996,       0.997,       0.998,       0.999,           1]), array([[  0.0043197,   0.0043197,   0.0064047, ...,           0,           0,           0],\n",
       "       [   0.060423,    0.060423,    0.079781, ...,           0,           0,           0],\n",
       "       [    0.13425,     0.13425,     0.17867, ...,           0,           0,           0],\n",
       "       [   0.010811,    0.010811,     0.01655, ...,           0,           0,           0],\n",
       "       [   0.077872,    0.077872,    0.093145, ...,           0,           0,           0]]), 'Confidence', 'F1'], [array([          0,    0.001001,    0.002002,    0.003003,    0.004004,    0.005005,    0.006006,    0.007007,    0.008008,    0.009009,     0.01001,    0.011011,    0.012012,    0.013013,    0.014014,    0.015015,    0.016016,    0.017017,    0.018018,    0.019019,     0.02002,    0.021021,    0.022022,    0.023023,\n",
       "          0.024024,    0.025025,    0.026026,    0.027027,    0.028028,    0.029029,     0.03003,    0.031031,    0.032032,    0.033033,    0.034034,    0.035035,    0.036036,    0.037037,    0.038038,    0.039039,     0.04004,    0.041041,    0.042042,    0.043043,    0.044044,    0.045045,    0.046046,    0.047047,\n",
       "          0.048048,    0.049049,     0.05005,    0.051051,    0.052052,    0.053053,    0.054054,    0.055055,    0.056056,    0.057057,    0.058058,    0.059059,     0.06006,    0.061061,    0.062062,    0.063063,    0.064064,    0.065065,    0.066066,    0.067067,    0.068068,    0.069069,     0.07007,    0.071071,\n",
       "          0.072072,    0.073073,    0.074074,    0.075075,    0.076076,    0.077077,    0.078078,    0.079079,     0.08008,    0.081081,    0.082082,    0.083083,    0.084084,    0.085085,    0.086086,    0.087087,    0.088088,    0.089089,     0.09009,    0.091091,    0.092092,    0.093093,    0.094094,    0.095095,\n",
       "          0.096096,    0.097097,    0.098098,    0.099099,      0.1001,      0.1011,      0.1021,      0.1031,      0.1041,     0.10511,     0.10611,     0.10711,     0.10811,     0.10911,     0.11011,     0.11111,     0.11211,     0.11311,     0.11411,     0.11512,     0.11612,     0.11712,     0.11812,     0.11912,\n",
       "           0.12012,     0.12112,     0.12212,     0.12312,     0.12412,     0.12513,     0.12613,     0.12713,     0.12813,     0.12913,     0.13013,     0.13113,     0.13213,     0.13313,     0.13413,     0.13514,     0.13614,     0.13714,     0.13814,     0.13914,     0.14014,     0.14114,     0.14214,     0.14314,\n",
       "           0.14414,     0.14515,     0.14615,     0.14715,     0.14815,     0.14915,     0.15015,     0.15115,     0.15215,     0.15315,     0.15415,     0.15516,     0.15616,     0.15716,     0.15816,     0.15916,     0.16016,     0.16116,     0.16216,     0.16316,     0.16416,     0.16517,     0.16617,     0.16717,\n",
       "           0.16817,     0.16917,     0.17017,     0.17117,     0.17217,     0.17317,     0.17417,     0.17518,     0.17618,     0.17718,     0.17818,     0.17918,     0.18018,     0.18118,     0.18218,     0.18318,     0.18418,     0.18519,     0.18619,     0.18719,     0.18819,     0.18919,     0.19019,     0.19119,\n",
       "           0.19219,     0.19319,     0.19419,      0.1952,      0.1962,      0.1972,      0.1982,      0.1992,      0.2002,      0.2012,      0.2022,      0.2032,      0.2042,     0.20521,     0.20621,     0.20721,     0.20821,     0.20921,     0.21021,     0.21121,     0.21221,     0.21321,     0.21421,     0.21522,\n",
       "           0.21622,     0.21722,     0.21822,     0.21922,     0.22022,     0.22122,     0.22222,     0.22322,     0.22422,     0.22523,     0.22623,     0.22723,     0.22823,     0.22923,     0.23023,     0.23123,     0.23223,     0.23323,     0.23423,     0.23524,     0.23624,     0.23724,     0.23824,     0.23924,\n",
       "           0.24024,     0.24124,     0.24224,     0.24324,     0.24424,     0.24525,     0.24625,     0.24725,     0.24825,     0.24925,     0.25025,     0.25125,     0.25225,     0.25325,     0.25425,     0.25526,     0.25626,     0.25726,     0.25826,     0.25926,     0.26026,     0.26126,     0.26226,     0.26326,\n",
       "           0.26426,     0.26527,     0.26627,     0.26727,     0.26827,     0.26927,     0.27027,     0.27127,     0.27227,     0.27327,     0.27427,     0.27528,     0.27628,     0.27728,     0.27828,     0.27928,     0.28028,     0.28128,     0.28228,     0.28328,     0.28428,     0.28529,     0.28629,     0.28729,\n",
       "           0.28829,     0.28929,     0.29029,     0.29129,     0.29229,     0.29329,     0.29429,      0.2953,      0.2963,      0.2973,      0.2983,      0.2993,      0.3003,      0.3013,      0.3023,      0.3033,      0.3043,     0.30531,     0.30631,     0.30731,     0.30831,     0.30931,     0.31031,     0.31131,\n",
       "           0.31231,     0.31331,     0.31431,     0.31532,     0.31632,     0.31732,     0.31832,     0.31932,     0.32032,     0.32132,     0.32232,     0.32332,     0.32432,     0.32533,     0.32633,     0.32733,     0.32833,     0.32933,     0.33033,     0.33133,     0.33233,     0.33333,     0.33433,     0.33534,\n",
       "           0.33634,     0.33734,     0.33834,     0.33934,     0.34034,     0.34134,     0.34234,     0.34334,     0.34434,     0.34535,     0.34635,     0.34735,     0.34835,     0.34935,     0.35035,     0.35135,     0.35235,     0.35335,     0.35435,     0.35536,     0.35636,     0.35736,     0.35836,     0.35936,\n",
       "           0.36036,     0.36136,     0.36236,     0.36336,     0.36436,     0.36537,     0.36637,     0.36737,     0.36837,     0.36937,     0.37037,     0.37137,     0.37237,     0.37337,     0.37437,     0.37538,     0.37638,     0.37738,     0.37838,     0.37938,     0.38038,     0.38138,     0.38238,     0.38338,\n",
       "           0.38438,     0.38539,     0.38639,     0.38739,     0.38839,     0.38939,     0.39039,     0.39139,     0.39239,     0.39339,     0.39439,      0.3954,      0.3964,      0.3974,      0.3984,      0.3994,      0.4004,      0.4014,      0.4024,      0.4034,      0.4044,     0.40541,     0.40641,     0.40741,\n",
       "           0.40841,     0.40941,     0.41041,     0.41141,     0.41241,     0.41341,     0.41441,     0.41542,     0.41642,     0.41742,     0.41842,     0.41942,     0.42042,     0.42142,     0.42242,     0.42342,     0.42442,     0.42543,     0.42643,     0.42743,     0.42843,     0.42943,     0.43043,     0.43143,\n",
       "           0.43243,     0.43343,     0.43443,     0.43544,     0.43644,     0.43744,     0.43844,     0.43944,     0.44044,     0.44144,     0.44244,     0.44344,     0.44444,     0.44545,     0.44645,     0.44745,     0.44845,     0.44945,     0.45045,     0.45145,     0.45245,     0.45345,     0.45445,     0.45546,\n",
       "           0.45646,     0.45746,     0.45846,     0.45946,     0.46046,     0.46146,     0.46246,     0.46346,     0.46446,     0.46547,     0.46647,     0.46747,     0.46847,     0.46947,     0.47047,     0.47147,     0.47247,     0.47347,     0.47447,     0.47548,     0.47648,     0.47748,     0.47848,     0.47948,\n",
       "           0.48048,     0.48148,     0.48248,     0.48348,     0.48448,     0.48549,     0.48649,     0.48749,     0.48849,     0.48949,     0.49049,     0.49149,     0.49249,     0.49349,     0.49449,      0.4955,      0.4965,      0.4975,      0.4985,      0.4995,      0.5005,      0.5015,      0.5025,      0.5035,\n",
       "            0.5045,     0.50551,     0.50651,     0.50751,     0.50851,     0.50951,     0.51051,     0.51151,     0.51251,     0.51351,     0.51451,     0.51552,     0.51652,     0.51752,     0.51852,     0.51952,     0.52052,     0.52152,     0.52252,     0.52352,     0.52452,     0.52553,     0.52653,     0.52753,\n",
       "           0.52853,     0.52953,     0.53053,     0.53153,     0.53253,     0.53353,     0.53453,     0.53554,     0.53654,     0.53754,     0.53854,     0.53954,     0.54054,     0.54154,     0.54254,     0.54354,     0.54454,     0.54555,     0.54655,     0.54755,     0.54855,     0.54955,     0.55055,     0.55155,\n",
       "           0.55255,     0.55355,     0.55455,     0.55556,     0.55656,     0.55756,     0.55856,     0.55956,     0.56056,     0.56156,     0.56256,     0.56356,     0.56456,     0.56557,     0.56657,     0.56757,     0.56857,     0.56957,     0.57057,     0.57157,     0.57257,     0.57357,     0.57457,     0.57558,\n",
       "           0.57658,     0.57758,     0.57858,     0.57958,     0.58058,     0.58158,     0.58258,     0.58358,     0.58458,     0.58559,     0.58659,     0.58759,     0.58859,     0.58959,     0.59059,     0.59159,     0.59259,     0.59359,     0.59459,      0.5956,      0.5966,      0.5976,      0.5986,      0.5996,\n",
       "            0.6006,      0.6016,      0.6026,      0.6036,      0.6046,     0.60561,     0.60661,     0.60761,     0.60861,     0.60961,     0.61061,     0.61161,     0.61261,     0.61361,     0.61461,     0.61562,     0.61662,     0.61762,     0.61862,     0.61962,     0.62062,     0.62162,     0.62262,     0.62362,\n",
       "           0.62462,     0.62563,     0.62663,     0.62763,     0.62863,     0.62963,     0.63063,     0.63163,     0.63263,     0.63363,     0.63463,     0.63564,     0.63664,     0.63764,     0.63864,     0.63964,     0.64064,     0.64164,     0.64264,     0.64364,     0.64464,     0.64565,     0.64665,     0.64765,\n",
       "           0.64865,     0.64965,     0.65065,     0.65165,     0.65265,     0.65365,     0.65465,     0.65566,     0.65666,     0.65766,     0.65866,     0.65966,     0.66066,     0.66166,     0.66266,     0.66366,     0.66466,     0.66567,     0.66667,     0.66767,     0.66867,     0.66967,     0.67067,     0.67167,\n",
       "           0.67267,     0.67367,     0.67467,     0.67568,     0.67668,     0.67768,     0.67868,     0.67968,     0.68068,     0.68168,     0.68268,     0.68368,     0.68468,     0.68569,     0.68669,     0.68769,     0.68869,     0.68969,     0.69069,     0.69169,     0.69269,     0.69369,     0.69469,      0.6957,\n",
       "            0.6967,      0.6977,      0.6987,      0.6997,      0.7007,      0.7017,      0.7027,      0.7037,      0.7047,     0.70571,     0.70671,     0.70771,     0.70871,     0.70971,     0.71071,     0.71171,     0.71271,     0.71371,     0.71471,     0.71572,     0.71672,     0.71772,     0.71872,     0.71972,\n",
       "           0.72072,     0.72172,     0.72272,     0.72372,     0.72472,     0.72573,     0.72673,     0.72773,     0.72873,     0.72973,     0.73073,     0.73173,     0.73273,     0.73373,     0.73473,     0.73574,     0.73674,     0.73774,     0.73874,     0.73974,     0.74074,     0.74174,     0.74274,     0.74374,\n",
       "           0.74474,     0.74575,     0.74675,     0.74775,     0.74875,     0.74975,     0.75075,     0.75175,     0.75275,     0.75375,     0.75475,     0.75576,     0.75676,     0.75776,     0.75876,     0.75976,     0.76076,     0.76176,     0.76276,     0.76376,     0.76476,     0.76577,     0.76677,     0.76777,\n",
       "           0.76877,     0.76977,     0.77077,     0.77177,     0.77277,     0.77377,     0.77477,     0.77578,     0.77678,     0.77778,     0.77878,     0.77978,     0.78078,     0.78178,     0.78278,     0.78378,     0.78478,     0.78579,     0.78679,     0.78779,     0.78879,     0.78979,     0.79079,     0.79179,\n",
       "           0.79279,     0.79379,     0.79479,      0.7958,      0.7968,      0.7978,      0.7988,      0.7998,      0.8008,      0.8018,      0.8028,      0.8038,      0.8048,     0.80581,     0.80681,     0.80781,     0.80881,     0.80981,     0.81081,     0.81181,     0.81281,     0.81381,     0.81481,     0.81582,\n",
       "           0.81682,     0.81782,     0.81882,     0.81982,     0.82082,     0.82182,     0.82282,     0.82382,     0.82482,     0.82583,     0.82683,     0.82783,     0.82883,     0.82983,     0.83083,     0.83183,     0.83283,     0.83383,     0.83483,     0.83584,     0.83684,     0.83784,     0.83884,     0.83984,\n",
       "           0.84084,     0.84184,     0.84284,     0.84384,     0.84484,     0.84585,     0.84685,     0.84785,     0.84885,     0.84985,     0.85085,     0.85185,     0.85285,     0.85385,     0.85485,     0.85586,     0.85686,     0.85786,     0.85886,     0.85986,     0.86086,     0.86186,     0.86286,     0.86386,\n",
       "           0.86486,     0.86587,     0.86687,     0.86787,     0.86887,     0.86987,     0.87087,     0.87187,     0.87287,     0.87387,     0.87487,     0.87588,     0.87688,     0.87788,     0.87888,     0.87988,     0.88088,     0.88188,     0.88288,     0.88388,     0.88488,     0.88589,     0.88689,     0.88789,\n",
       "           0.88889,     0.88989,     0.89089,     0.89189,     0.89289,     0.89389,     0.89489,      0.8959,      0.8969,      0.8979,      0.8989,      0.8999,      0.9009,      0.9019,      0.9029,      0.9039,      0.9049,     0.90591,     0.90691,     0.90791,     0.90891,     0.90991,     0.91091,     0.91191,\n",
       "           0.91291,     0.91391,     0.91491,     0.91592,     0.91692,     0.91792,     0.91892,     0.91992,     0.92092,     0.92192,     0.92292,     0.92392,     0.92492,     0.92593,     0.92693,     0.92793,     0.92893,     0.92993,     0.93093,     0.93193,     0.93293,     0.93393,     0.93493,     0.93594,\n",
       "           0.93694,     0.93794,     0.93894,     0.93994,     0.94094,     0.94194,     0.94294,     0.94394,     0.94494,     0.94595,     0.94695,     0.94795,     0.94895,     0.94995,     0.95095,     0.95195,     0.95295,     0.95395,     0.95495,     0.95596,     0.95696,     0.95796,     0.95896,     0.95996,\n",
       "           0.96096,     0.96196,     0.96296,     0.96396,     0.96496,     0.96597,     0.96697,     0.96797,     0.96897,     0.96997,     0.97097,     0.97197,     0.97297,     0.97397,     0.97497,     0.97598,     0.97698,     0.97798,     0.97898,     0.97998,     0.98098,     0.98198,     0.98298,     0.98398,\n",
       "           0.98498,     0.98599,     0.98699,     0.98799,     0.98899,     0.98999,     0.99099,     0.99199,     0.99299,     0.99399,     0.99499,       0.996,       0.997,       0.998,       0.999,           1]), array([[  0.0021645,   0.0021645,   0.0032126, ...,           1,           1,           1],\n",
       "       [   0.031153,    0.031153,    0.041548, ...,           1,           1,           1],\n",
       "       [   0.071953,    0.071953,    0.098099, ...,           1,           1,           1],\n",
       "       [  0.0054348,   0.0054348,   0.0083442, ...,           1,           1,           1],\n",
       "       [   0.040623,    0.040623,    0.049007, ...,           1,           1,           1]]), 'Confidence', 'Precision'], [array([          0,    0.001001,    0.002002,    0.003003,    0.004004,    0.005005,    0.006006,    0.007007,    0.008008,    0.009009,     0.01001,    0.011011,    0.012012,    0.013013,    0.014014,    0.015015,    0.016016,    0.017017,    0.018018,    0.019019,     0.02002,    0.021021,    0.022022,    0.023023,\n",
       "          0.024024,    0.025025,    0.026026,    0.027027,    0.028028,    0.029029,     0.03003,    0.031031,    0.032032,    0.033033,    0.034034,    0.035035,    0.036036,    0.037037,    0.038038,    0.039039,     0.04004,    0.041041,    0.042042,    0.043043,    0.044044,    0.045045,    0.046046,    0.047047,\n",
       "          0.048048,    0.049049,     0.05005,    0.051051,    0.052052,    0.053053,    0.054054,    0.055055,    0.056056,    0.057057,    0.058058,    0.059059,     0.06006,    0.061061,    0.062062,    0.063063,    0.064064,    0.065065,    0.066066,    0.067067,    0.068068,    0.069069,     0.07007,    0.071071,\n",
       "          0.072072,    0.073073,    0.074074,    0.075075,    0.076076,    0.077077,    0.078078,    0.079079,     0.08008,    0.081081,    0.082082,    0.083083,    0.084084,    0.085085,    0.086086,    0.087087,    0.088088,    0.089089,     0.09009,    0.091091,    0.092092,    0.093093,    0.094094,    0.095095,\n",
       "          0.096096,    0.097097,    0.098098,    0.099099,      0.1001,      0.1011,      0.1021,      0.1031,      0.1041,     0.10511,     0.10611,     0.10711,     0.10811,     0.10911,     0.11011,     0.11111,     0.11211,     0.11311,     0.11411,     0.11512,     0.11612,     0.11712,     0.11812,     0.11912,\n",
       "           0.12012,     0.12112,     0.12212,     0.12312,     0.12412,     0.12513,     0.12613,     0.12713,     0.12813,     0.12913,     0.13013,     0.13113,     0.13213,     0.13313,     0.13413,     0.13514,     0.13614,     0.13714,     0.13814,     0.13914,     0.14014,     0.14114,     0.14214,     0.14314,\n",
       "           0.14414,     0.14515,     0.14615,     0.14715,     0.14815,     0.14915,     0.15015,     0.15115,     0.15215,     0.15315,     0.15415,     0.15516,     0.15616,     0.15716,     0.15816,     0.15916,     0.16016,     0.16116,     0.16216,     0.16316,     0.16416,     0.16517,     0.16617,     0.16717,\n",
       "           0.16817,     0.16917,     0.17017,     0.17117,     0.17217,     0.17317,     0.17417,     0.17518,     0.17618,     0.17718,     0.17818,     0.17918,     0.18018,     0.18118,     0.18218,     0.18318,     0.18418,     0.18519,     0.18619,     0.18719,     0.18819,     0.18919,     0.19019,     0.19119,\n",
       "           0.19219,     0.19319,     0.19419,      0.1952,      0.1962,      0.1972,      0.1982,      0.1992,      0.2002,      0.2012,      0.2022,      0.2032,      0.2042,     0.20521,     0.20621,     0.20721,     0.20821,     0.20921,     0.21021,     0.21121,     0.21221,     0.21321,     0.21421,     0.21522,\n",
       "           0.21622,     0.21722,     0.21822,     0.21922,     0.22022,     0.22122,     0.22222,     0.22322,     0.22422,     0.22523,     0.22623,     0.22723,     0.22823,     0.22923,     0.23023,     0.23123,     0.23223,     0.23323,     0.23423,     0.23524,     0.23624,     0.23724,     0.23824,     0.23924,\n",
       "           0.24024,     0.24124,     0.24224,     0.24324,     0.24424,     0.24525,     0.24625,     0.24725,     0.24825,     0.24925,     0.25025,     0.25125,     0.25225,     0.25325,     0.25425,     0.25526,     0.25626,     0.25726,     0.25826,     0.25926,     0.26026,     0.26126,     0.26226,     0.26326,\n",
       "           0.26426,     0.26527,     0.26627,     0.26727,     0.26827,     0.26927,     0.27027,     0.27127,     0.27227,     0.27327,     0.27427,     0.27528,     0.27628,     0.27728,     0.27828,     0.27928,     0.28028,     0.28128,     0.28228,     0.28328,     0.28428,     0.28529,     0.28629,     0.28729,\n",
       "           0.28829,     0.28929,     0.29029,     0.29129,     0.29229,     0.29329,     0.29429,      0.2953,      0.2963,      0.2973,      0.2983,      0.2993,      0.3003,      0.3013,      0.3023,      0.3033,      0.3043,     0.30531,     0.30631,     0.30731,     0.30831,     0.30931,     0.31031,     0.31131,\n",
       "           0.31231,     0.31331,     0.31431,     0.31532,     0.31632,     0.31732,     0.31832,     0.31932,     0.32032,     0.32132,     0.32232,     0.32332,     0.32432,     0.32533,     0.32633,     0.32733,     0.32833,     0.32933,     0.33033,     0.33133,     0.33233,     0.33333,     0.33433,     0.33534,\n",
       "           0.33634,     0.33734,     0.33834,     0.33934,     0.34034,     0.34134,     0.34234,     0.34334,     0.34434,     0.34535,     0.34635,     0.34735,     0.34835,     0.34935,     0.35035,     0.35135,     0.35235,     0.35335,     0.35435,     0.35536,     0.35636,     0.35736,     0.35836,     0.35936,\n",
       "           0.36036,     0.36136,     0.36236,     0.36336,     0.36436,     0.36537,     0.36637,     0.36737,     0.36837,     0.36937,     0.37037,     0.37137,     0.37237,     0.37337,     0.37437,     0.37538,     0.37638,     0.37738,     0.37838,     0.37938,     0.38038,     0.38138,     0.38238,     0.38338,\n",
       "           0.38438,     0.38539,     0.38639,     0.38739,     0.38839,     0.38939,     0.39039,     0.39139,     0.39239,     0.39339,     0.39439,      0.3954,      0.3964,      0.3974,      0.3984,      0.3994,      0.4004,      0.4014,      0.4024,      0.4034,      0.4044,     0.40541,     0.40641,     0.40741,\n",
       "           0.40841,     0.40941,     0.41041,     0.41141,     0.41241,     0.41341,     0.41441,     0.41542,     0.41642,     0.41742,     0.41842,     0.41942,     0.42042,     0.42142,     0.42242,     0.42342,     0.42442,     0.42543,     0.42643,     0.42743,     0.42843,     0.42943,     0.43043,     0.43143,\n",
       "           0.43243,     0.43343,     0.43443,     0.43544,     0.43644,     0.43744,     0.43844,     0.43944,     0.44044,     0.44144,     0.44244,     0.44344,     0.44444,     0.44545,     0.44645,     0.44745,     0.44845,     0.44945,     0.45045,     0.45145,     0.45245,     0.45345,     0.45445,     0.45546,\n",
       "           0.45646,     0.45746,     0.45846,     0.45946,     0.46046,     0.46146,     0.46246,     0.46346,     0.46446,     0.46547,     0.46647,     0.46747,     0.46847,     0.46947,     0.47047,     0.47147,     0.47247,     0.47347,     0.47447,     0.47548,     0.47648,     0.47748,     0.47848,     0.47948,\n",
       "           0.48048,     0.48148,     0.48248,     0.48348,     0.48448,     0.48549,     0.48649,     0.48749,     0.48849,     0.48949,     0.49049,     0.49149,     0.49249,     0.49349,     0.49449,      0.4955,      0.4965,      0.4975,      0.4985,      0.4995,      0.5005,      0.5015,      0.5025,      0.5035,\n",
       "            0.5045,     0.50551,     0.50651,     0.50751,     0.50851,     0.50951,     0.51051,     0.51151,     0.51251,     0.51351,     0.51451,     0.51552,     0.51652,     0.51752,     0.51852,     0.51952,     0.52052,     0.52152,     0.52252,     0.52352,     0.52452,     0.52553,     0.52653,     0.52753,\n",
       "           0.52853,     0.52953,     0.53053,     0.53153,     0.53253,     0.53353,     0.53453,     0.53554,     0.53654,     0.53754,     0.53854,     0.53954,     0.54054,     0.54154,     0.54254,     0.54354,     0.54454,     0.54555,     0.54655,     0.54755,     0.54855,     0.54955,     0.55055,     0.55155,\n",
       "           0.55255,     0.55355,     0.55455,     0.55556,     0.55656,     0.55756,     0.55856,     0.55956,     0.56056,     0.56156,     0.56256,     0.56356,     0.56456,     0.56557,     0.56657,     0.56757,     0.56857,     0.56957,     0.57057,     0.57157,     0.57257,     0.57357,     0.57457,     0.57558,\n",
       "           0.57658,     0.57758,     0.57858,     0.57958,     0.58058,     0.58158,     0.58258,     0.58358,     0.58458,     0.58559,     0.58659,     0.58759,     0.58859,     0.58959,     0.59059,     0.59159,     0.59259,     0.59359,     0.59459,      0.5956,      0.5966,      0.5976,      0.5986,      0.5996,\n",
       "            0.6006,      0.6016,      0.6026,      0.6036,      0.6046,     0.60561,     0.60661,     0.60761,     0.60861,     0.60961,     0.61061,     0.61161,     0.61261,     0.61361,     0.61461,     0.61562,     0.61662,     0.61762,     0.61862,     0.61962,     0.62062,     0.62162,     0.62262,     0.62362,\n",
       "           0.62462,     0.62563,     0.62663,     0.62763,     0.62863,     0.62963,     0.63063,     0.63163,     0.63263,     0.63363,     0.63463,     0.63564,     0.63664,     0.63764,     0.63864,     0.63964,     0.64064,     0.64164,     0.64264,     0.64364,     0.64464,     0.64565,     0.64665,     0.64765,\n",
       "           0.64865,     0.64965,     0.65065,     0.65165,     0.65265,     0.65365,     0.65465,     0.65566,     0.65666,     0.65766,     0.65866,     0.65966,     0.66066,     0.66166,     0.66266,     0.66366,     0.66466,     0.66567,     0.66667,     0.66767,     0.66867,     0.66967,     0.67067,     0.67167,\n",
       "           0.67267,     0.67367,     0.67467,     0.67568,     0.67668,     0.67768,     0.67868,     0.67968,     0.68068,     0.68168,     0.68268,     0.68368,     0.68468,     0.68569,     0.68669,     0.68769,     0.68869,     0.68969,     0.69069,     0.69169,     0.69269,     0.69369,     0.69469,      0.6957,\n",
       "            0.6967,      0.6977,      0.6987,      0.6997,      0.7007,      0.7017,      0.7027,      0.7037,      0.7047,     0.70571,     0.70671,     0.70771,     0.70871,     0.70971,     0.71071,     0.71171,     0.71271,     0.71371,     0.71471,     0.71572,     0.71672,     0.71772,     0.71872,     0.71972,\n",
       "           0.72072,     0.72172,     0.72272,     0.72372,     0.72472,     0.72573,     0.72673,     0.72773,     0.72873,     0.72973,     0.73073,     0.73173,     0.73273,     0.73373,     0.73473,     0.73574,     0.73674,     0.73774,     0.73874,     0.73974,     0.74074,     0.74174,     0.74274,     0.74374,\n",
       "           0.74474,     0.74575,     0.74675,     0.74775,     0.74875,     0.74975,     0.75075,     0.75175,     0.75275,     0.75375,     0.75475,     0.75576,     0.75676,     0.75776,     0.75876,     0.75976,     0.76076,     0.76176,     0.76276,     0.76376,     0.76476,     0.76577,     0.76677,     0.76777,\n",
       "           0.76877,     0.76977,     0.77077,     0.77177,     0.77277,     0.77377,     0.77477,     0.77578,     0.77678,     0.77778,     0.77878,     0.77978,     0.78078,     0.78178,     0.78278,     0.78378,     0.78478,     0.78579,     0.78679,     0.78779,     0.78879,     0.78979,     0.79079,     0.79179,\n",
       "           0.79279,     0.79379,     0.79479,      0.7958,      0.7968,      0.7978,      0.7988,      0.7998,      0.8008,      0.8018,      0.8028,      0.8038,      0.8048,     0.80581,     0.80681,     0.80781,     0.80881,     0.80981,     0.81081,     0.81181,     0.81281,     0.81381,     0.81481,     0.81582,\n",
       "           0.81682,     0.81782,     0.81882,     0.81982,     0.82082,     0.82182,     0.82282,     0.82382,     0.82482,     0.82583,     0.82683,     0.82783,     0.82883,     0.82983,     0.83083,     0.83183,     0.83283,     0.83383,     0.83483,     0.83584,     0.83684,     0.83784,     0.83884,     0.83984,\n",
       "           0.84084,     0.84184,     0.84284,     0.84384,     0.84484,     0.84585,     0.84685,     0.84785,     0.84885,     0.84985,     0.85085,     0.85185,     0.85285,     0.85385,     0.85485,     0.85586,     0.85686,     0.85786,     0.85886,     0.85986,     0.86086,     0.86186,     0.86286,     0.86386,\n",
       "           0.86486,     0.86587,     0.86687,     0.86787,     0.86887,     0.86987,     0.87087,     0.87187,     0.87287,     0.87387,     0.87487,     0.87588,     0.87688,     0.87788,     0.87888,     0.87988,     0.88088,     0.88188,     0.88288,     0.88388,     0.88488,     0.88589,     0.88689,     0.88789,\n",
       "           0.88889,     0.88989,     0.89089,     0.89189,     0.89289,     0.89389,     0.89489,      0.8959,      0.8969,      0.8979,      0.8989,      0.8999,      0.9009,      0.9019,      0.9029,      0.9039,      0.9049,     0.90591,     0.90691,     0.90791,     0.90891,     0.90991,     0.91091,     0.91191,\n",
       "           0.91291,     0.91391,     0.91491,     0.91592,     0.91692,     0.91792,     0.91892,     0.91992,     0.92092,     0.92192,     0.92292,     0.92392,     0.92492,     0.92593,     0.92693,     0.92793,     0.92893,     0.92993,     0.93093,     0.93193,     0.93293,     0.93393,     0.93493,     0.93594,\n",
       "           0.93694,     0.93794,     0.93894,     0.93994,     0.94094,     0.94194,     0.94294,     0.94394,     0.94494,     0.94595,     0.94695,     0.94795,     0.94895,     0.94995,     0.95095,     0.95195,     0.95295,     0.95395,     0.95495,     0.95596,     0.95696,     0.95796,     0.95896,     0.95996,\n",
       "           0.96096,     0.96196,     0.96296,     0.96396,     0.96496,     0.96597,     0.96697,     0.96797,     0.96897,     0.96997,     0.97097,     0.97197,     0.97297,     0.97397,     0.97497,     0.97598,     0.97698,     0.97798,     0.97898,     0.97998,     0.98098,     0.98198,     0.98298,     0.98398,\n",
       "           0.98498,     0.98599,     0.98699,     0.98799,     0.98899,     0.98999,     0.99099,     0.99199,     0.99299,     0.99399,     0.99499,       0.996,       0.997,       0.998,       0.999,           1]), array([[          1,           1,           1, ...,           0,           0,           0],\n",
       "       [          1,           1,           1, ...,           0,           0,           0],\n",
       "       [          1,           1,           1, ...,           0,           0,           0],\n",
       "       [          1,           1,           1, ...,           0,           0,           0],\n",
       "       [     0.9375,      0.9375,      0.9375, ...,           0,           0,           0]]), 'Confidence', 'Recall']]\n",
       "fitness: 0.5863358343887548\n",
       "keys: ['metrics/precision(B)', 'metrics/recall(B)', 'metrics/mAP50(B)', 'metrics/mAP50-95(B)']\n",
       "maps: array([      0.796,     0.55491,     0.71417,     0.41122,     0.59048,     0.26266])\n",
       "names: {0: 'Bajaj', 1: 'Bus', 2: 'Mobil', 3: 'Motor', 4: 'Truk', 5: 'plat'}\n",
       "plot: True\n",
       "results_dict: {'metrics/precision(B)': 0.8559610799805257, 'metrics/recall(B)': 0.8335141005370904, 'metrics/mAP50(B)': 0.8692129270068947, 'metrics/mAP50-95(B)': 0.5549050463200725, 'fitness': 0.5863358343887548}\n",
       "save_dir: WindowsPath('runs/detect/train')\n",
       "speed: {'preprocess': 0.5793822439093338, 'inference': 33.231797971223536, 'loss': 0.0, 'postprocess': 3.0495994969418176}\n",
       "task: 'detect'"
      ]
     },
     "execution_count": 1,
     "metadata": {},
     "output_type": "execute_result"
    }
   ],
   "source": [
    "from ultralytics import YOLO\n",
    "\n",
    "# Load model YOLOv8 pre-trained\n",
    "model = YOLO(\"C:/SEMESTER 5/PCD (Image Processing)/Plat Nomor2/yolov8n.pt\")  # Model dasar\n",
    "\n",
    "# Train model dengan dataset plat nomor\n",
    "model.train(\n",
    "    data=\"C:/SEMESTER 5/PCD (Image Processing)/Plat Nomor2/data.yaml\",   # Path ke file data.yaml\n",
    "    epochs=50,          # Jumlah epoch untuk pelatihan\n",
    "    imgsz=640           # Ukuran gambar\n",
    ")\n"
   ]
  },
  {
   "cell_type": "code",
   "execution_count": 2,
   "metadata": {},
   "outputs": [
    {
     "name": "stdout",
     "output_type": "stream",
     "text": [
      "\n",
      "image 1/1 C:\\SEMESTER 5\\PCD (Image Processing)\\Plat Nomor2\\test\\images\\0_IDN_220113012101_20240619083857296_X944Y328W35H12_Motorcycle_Audi_unknown_057_03_09745_jpg.rf.1b4b7ea93d080337cfb58eeb73f67e73.jpg: 384x640 1 Mobil, 5 Motors, 3 plats, 79.7ms\n",
      "Speed: 5.2ms preprocess, 79.7ms inference, 1.3ms postprocess per image at shape (1, 3, 384, 640)\n",
      "[[     353.17      24.144      574.01      331.62]\n",
      " [     755.72       422.8      809.17      444.98]\n",
      " [     738.37      390.79      828.56      559.38]\n",
      " [     885.51      102.13      949.92      220.37]\n",
      " [     415.98      291.43      478.03      316.73]\n",
      " [     905.92      301.08      1007.3      456.92]\n",
      " [     750.18        1.55      812.23      104.09]\n",
      " [     1052.3      1.7369      1109.7      84.049]\n",
      " [     943.22      333.91      983.49      351.43]]\n"
     ]
    }
   ],
   "source": [
    "from ultralytics import YOLO\n",
    "model = YOLO(\"C:/SEMESTER 5/PCD (Image Processing)/Plat Nomor2/runs/detect/train/weights/best.pt\")\n",
    "results = model('C:/SEMESTER 5/PCD (Image Processing)/Plat Nomor2/test/images/0_IDN_220113012101_20240619083857296_X944Y328W35H12_Motorcycle_Audi_unknown_057_03_09745_jpg.rf.1b4b7ea93d080337cfb58eeb73f67e73.jpg')\n",
    "xyxy = results[0].boxes.xyxy.cpu().numpy()\n",
    "\n",
    "print(xyxy)"
   ]
  },
  {
   "cell_type": "markdown",
   "metadata": {},
   "source": [
    "## Membuat Box untuk Plat Nomer dan Kendaraan"
   ]
  },
  {
   "cell_type": "code",
   "execution_count": 7,
   "metadata": {},
   "outputs": [
    {
     "name": "stdout",
     "output_type": "stream",
     "text": [
      "\n",
      "image 1/1 C:\\SEMESTER 5\\PCD (Image Processing)\\Plat Nomor2\\valid\\images\\0_AUS_220113012101_20240619180311560_X483Y537W29H11_Motorcycle_Audi_unknown_074_02_04640_jpg.rf.a4b60458d0903334af86eb182d28f0db.jpg: 384x640 2 Motors, 3 plats, 57.0ms\n",
      "Speed: 1.0ms preprocess, 57.0ms inference, 1.0ms postprocess per image at shape (1, 3, 384, 640)\n",
      "Hasil deteksi disimpan di: C:/SEMESTER 5/PCD (Image Processing)/Plat Nomor2/valid/results\\0_AUS_220113012101_20240619180311560_X483Y537W29H11_Motorcycle_Audi_unknown_074_02_04640_jpg.rf.a4b60458d0903334af86eb182d28f0db.jpg\n",
      "\n",
      "image 1/1 C:\\SEMESTER 5\\PCD (Image Processing)\\Plat Nomor2\\valid\\images\\119005_IDN_220113012101_20240619135620295_X744Y537W72H20_SUV_MPV_Honda_white_066_02_01767_jpg.rf.c007cbedfd35a749cdd6608524c7c11f.jpg: 384x640 2 Mobils, 7 Motors, 6 plats, 50.9ms\n",
      "Speed: 2.0ms preprocess, 50.9ms inference, 1.0ms postprocess per image at shape (1, 3, 384, 640)\n",
      "Hasil deteksi disimpan di: C:/SEMESTER 5/PCD (Image Processing)/Plat Nomor2/valid/results\\119005_IDN_220113012101_20240619135620295_X744Y537W72H20_SUV_MPV_Honda_white_066_02_01767_jpg.rf.c007cbedfd35a749cdd6608524c7c11f.jpg\n",
      "\n",
      "image 1/1 C:\\SEMESTER 5\\PCD (Image Processing)\\Plat Nomor2\\valid\\images\\119005_IDN_220313032101_20240619131622694_X973Y781W105H28_SUV_MPV_Honda_white_066_02_01439_jpg.rf.aba42612a0fd92f5a93daa0951d2fc75.jpg: 384x640 1 Bajaj, 2 Mobils, 2 Motors, 2 plats, 51.1ms\n",
      "Speed: 2.0ms preprocess, 51.1ms inference, 0.0ms postprocess per image at shape (1, 3, 384, 640)\n",
      "Hasil deteksi disimpan di: C:/SEMESTER 5/PCD (Image Processing)/Plat Nomor2/valid/results\\119005_IDN_220313032101_20240619131622694_X973Y781W105H28_SUV_MPV_Honda_white_066_02_01439_jpg.rf.aba42612a0fd92f5a93daa0951d2fc75.jpg\n",
      "\n",
      "image 1/1 C:\\SEMESTER 5\\PCD (Image Processing)\\Plat Nomor2\\valid\\images\\121108VII_IDN_220113012101_20240619130123079_X670Y581W58H15_Light_Truck_Nissan_blue_038_02_03994_jpg.rf.6f25d7beee98d89ae547e10881ede8c3.jpg: 384x640 2 Mobils, 2 plats, 51.9ms\n",
      "Speed: 2.0ms preprocess, 51.9ms inference, 0.0ms postprocess per image at shape (1, 3, 384, 640)\n",
      "Hasil deteksi disimpan di: C:/SEMESTER 5/PCD (Image Processing)/Plat Nomor2/valid/results\\121108VII_IDN_220113012101_20240619130123079_X670Y581W58H15_Light_Truck_Nissan_blue_038_02_03994_jpg.rf.6f25d7beee98d89ae547e10881ede8c3.jpg\n",
      "\n",
      "image 1/1 C:\\SEMESTER 5\\PCD (Image Processing)\\Plat Nomor2\\valid\\images\\2128III_IDN_220113012101_20240619103231571_X851Y444W38H17_Motorcycle_Audi_unknown_075_02_03804_jpg.rf.e33bfd3769d4d787b49b8a1034042f6c.jpg: 384x640 1 Motor, 1 plat, 52.3ms\n",
      "Speed: 1.0ms preprocess, 52.3ms inference, 0.0ms postprocess per image at shape (1, 3, 384, 640)\n",
      "Hasil deteksi disimpan di: C:/SEMESTER 5/PCD (Image Processing)/Plat Nomor2/valid/results\\2128III_IDN_220113012101_20240619103231571_X851Y444W38H17_Motorcycle_Audi_unknown_075_02_03804_jpg.rf.e33bfd3769d4d787b49b8a1034042f6c.jpg\n",
      "\n",
      "image 1/1 C:\\SEMESTER 5\\PCD (Image Processing)\\Plat Nomor2\\valid\\images\\221128_IDN_220313032101_20240619003200778_X814Y797W109H35_SUV_MPV_Daihatsu_white_050_02_07836_jpg.rf.12844eaec59cc390e9756dfaa19e7081.jpg: 384x640 1 Mobil, 1 plat, 50.8ms\n",
      "Speed: 2.0ms preprocess, 50.8ms inference, 0.0ms postprocess per image at shape (1, 3, 384, 640)\n",
      "Hasil deteksi disimpan di: C:/SEMESTER 5/PCD (Image Processing)/Plat Nomor2/valid/results\\221128_IDN_220313032101_20240619003200778_X814Y797W109H35_SUV_MPV_Daihatsu_white_050_02_07836_jpg.rf.12844eaec59cc390e9756dfaa19e7081.jpg\n",
      "\n",
      "image 1/1 C:\\SEMESTER 5\\PCD (Image Processing)\\Plat Nomor2\\valid\\images\\3126600_IDN_220113012101_20240619152351300_X720Y529W70H18_Car_Honda_grey_073_02_03276_jpg.rf.a9e45b1dcd3c66758637de72c02d2645.jpg: 384x640 2 Mobils, 2 plats, 45.6ms\n",
      "Speed: 1.4ms preprocess, 45.6ms inference, 1.0ms postprocess per image at shape (1, 3, 384, 640)\n",
      "Hasil deteksi disimpan di: C:/SEMESTER 5/PCD (Image Processing)/Plat Nomor2/valid/results\\3126600_IDN_220113012101_20240619152351300_X720Y529W70H18_Car_Honda_grey_073_02_03276_jpg.rf.a9e45b1dcd3c66758637de72c02d2645.jpg\n",
      "\n",
      "image 1/1 C:\\SEMESTER 5\\PCD (Image Processing)\\Plat Nomor2\\valid\\images\\3130100_IDN_220113012101_20240619075120416_X570Y538W71H21_Car_Toyota_grey_112_02_03869_jpg.rf.d33fcd7bc6102d9299bf776902a39314.jpg: 384x640 1 Mobil, 1 plat, 49.3ms\n",
      "Speed: 1.1ms preprocess, 49.3ms inference, 1.1ms postprocess per image at shape (1, 3, 384, 640)\n",
      "Hasil deteksi disimpan di: C:/SEMESTER 5/PCD (Image Processing)/Plat Nomor2/valid/results\\3130100_IDN_220113012101_20240619075120416_X570Y538W71H21_Car_Toyota_grey_112_02_03869_jpg.rf.d33fcd7bc6102d9299bf776902a39314.jpg\n",
      "\n",
      "image 1/1 C:\\SEMESTER 5\\PCD (Image Processing)\\Plat Nomor2\\valid\\images\\3246PLW_IDN_220313032101_20240619150552503_X180Y983W53H33_Motorcycle_Audi_unknown_000_01_08953_jpg.rf.db7c47c90b847aeb77987ee07cd72cea.jpg: 384x640 3 Mobils, 6 Motors, 5 plats, 43.7ms\n",
      "Speed: 1.4ms preprocess, 43.7ms inference, 1.1ms postprocess per image at shape (1, 3, 384, 640)\n",
      "Hasil deteksi disimpan di: C:/SEMESTER 5/PCD (Image Processing)/Plat Nomor2/valid/results\\3246PLW_IDN_220313032101_20240619150552503_X180Y983W53H33_Motorcycle_Audi_unknown_000_01_08953_jpg.rf.db7c47c90b847aeb77987ee07cd72cea.jpg\n",
      "\n",
      "image 1/1 C:\\SEMESTER 5\\PCD (Image Processing)\\Plat Nomor2\\valid\\images\\3281ULR_IDN_220113012101_20240619170035864_X555Y533W35H15_Motorcycle_Audi_unknown_087_02_05243_jpg.rf.6a38b25c66969469c98414a3a39e57f0.jpg: 384x640 1 Mobil, 4 Motors, 4 plats, 47.8ms\n",
      "Speed: 1.0ms preprocess, 47.8ms inference, 0.0ms postprocess per image at shape (1, 3, 384, 640)\n",
      "Hasil deteksi disimpan di: C:/SEMESTER 5/PCD (Image Processing)/Plat Nomor2/valid/results\\3281ULR_IDN_220113012101_20240619170035864_X555Y533W35H15_Motorcycle_Audi_unknown_087_02_05243_jpg.rf.6a38b25c66969469c98414a3a39e57f0.jpg\n",
      "\n",
      "image 1/1 C:\\SEMESTER 5\\PCD (Image Processing)\\Plat Nomor2\\valid\\images\\3299_MYS_220313032101_20240619081801170_X1340Y511W34H18_Motorcycle_Audi_unknown_075_03_02437_jpg.rf.83568e2d29b64b694770d99efc0bd76d.jpg: 384x640 3 Motors, 1 plat, 48.8ms\n",
      "Speed: 1.0ms preprocess, 48.8ms inference, 0.0ms postprocess per image at shape (1, 3, 384, 640)\n",
      "Hasil deteksi disimpan di: C:/SEMESTER 5/PCD (Image Processing)/Plat Nomor2/valid/results\\3299_MYS_220313032101_20240619081801170_X1340Y511W34H18_Motorcycle_Audi_unknown_075_03_02437_jpg.rf.83568e2d29b64b694770d99efc0bd76d.jpg\n",
      "\n",
      "image 1/1 C:\\SEMESTER 5\\PCD (Image Processing)\\Plat Nomor2\\valid\\images\\3322EWZ_IDN_220313032101_20240619045036440_X650Y597W63H15_Motorcycle_Audi_unknown_089_02_00721_jpg.rf.cbd97f345b0b7e7fb513796e749921f8.jpg: 384x640 2 Motors, 1 plat, 46.9ms\n",
      "Speed: 3.0ms preprocess, 46.9ms inference, 1.0ms postprocess per image at shape (1, 3, 384, 640)\n",
      "Hasil deteksi disimpan di: C:/SEMESTER 5/PCD (Image Processing)/Plat Nomor2/valid/results\\3322EWZ_IDN_220313032101_20240619045036440_X650Y597W63H15_Motorcycle_Audi_unknown_089_02_00721_jpg.rf.cbd97f345b0b7e7fb513796e749921f8.jpg\n",
      "\n",
      "image 1/1 C:\\SEMESTER 5\\PCD (Image Processing)\\Plat Nomor2\\valid\\images\\3450UHF_IDN_220113012101_20240619071514359_X483Y473W34H15_Motorcycle_Audi_unknown_100_02_08057_jpg.rf.2e40f148f92447a48e9dc3af84cb2e3c.jpg: 384x640 2 Motors, 41.2ms\n",
      "Speed: 1.3ms preprocess, 41.2ms inference, 1.1ms postprocess per image at shape (1, 3, 384, 640)\n",
      "Hasil deteksi disimpan di: C:/SEMESTER 5/PCD (Image Processing)/Plat Nomor2/valid/results\\3450UHF_IDN_220113012101_20240619071514359_X483Y473W34H15_Motorcycle_Audi_unknown_100_02_08057_jpg.rf.2e40f148f92447a48e9dc3af84cb2e3c.jpg\n",
      "\n",
      "image 1/1 C:\\SEMESTER 5\\PCD (Image Processing)\\Plat Nomor2\\valid\\images\\3634CSN_IDN_220313032101_20240619072808894_X1441Y524W42H15_Motorcycle_Audi_unknown_061_03_06732_jpg.rf.a5a007f1416b161e203c5295522f9f99.jpg: 384x640 4 Mobils, 4 Motors, 3 plats, 41.2ms\n",
      "Speed: 1.0ms preprocess, 41.2ms inference, 0.0ms postprocess per image at shape (1, 3, 384, 640)\n",
      "Hasil deteksi disimpan di: C:/SEMESTER 5/PCD (Image Processing)/Plat Nomor2/valid/results\\3634CSN_IDN_220313032101_20240619072808894_X1441Y524W42H15_Motorcycle_Audi_unknown_061_03_06732_jpg.rf.a5a007f1416b161e203c5295522f9f99.jpg\n",
      "\n",
      "image 1/1 C:\\SEMESTER 5\\PCD (Image Processing)\\Plat Nomor2\\valid\\images\\3761PKG_IDN_220113012101_20240619115042934_X412Y472W38H13_Motorcycle_Audi_unknown_068_01_04302_jpg.rf.a7bc9b97bb10f258460234038968e102.jpg: 384x640 1 Mobil, 6 Motors, 4 plats, 52.2ms\n",
      "Speed: 3.0ms preprocess, 52.2ms inference, 0.0ms postprocess per image at shape (1, 3, 384, 640)\n",
      "Hasil deteksi disimpan di: C:/SEMESTER 5/PCD (Image Processing)/Plat Nomor2/valid/results\\3761PKG_IDN_220113012101_20240619115042934_X412Y472W38H13_Motorcycle_Audi_unknown_068_01_04302_jpg.rf.a7bc9b97bb10f258460234038968e102.jpg\n",
      "\n",
      "image 1/1 C:\\SEMESTER 5\\PCD (Image Processing)\\Plat Nomor2\\valid\\images\\3778UTF_IDN_220313032101_20240619144618832_X1176Y723W53H16_Motorcycle_Audi_unknown_046_02_05788_jpg.rf.914f760161e1afbc83e2ae17f29ba910.jpg: 384x640 1 Mobil, 1 Motor, 1 plat, 80.8ms\n",
      "Speed: 2.1ms preprocess, 80.8ms inference, 0.0ms postprocess per image at shape (1, 3, 384, 640)\n",
      "Hasil deteksi disimpan di: C:/SEMESTER 5/PCD (Image Processing)/Plat Nomor2/valid/results\\3778UTF_IDN_220313032101_20240619144618832_X1176Y723W53H16_Motorcycle_Audi_unknown_046_02_05788_jpg.rf.914f760161e1afbc83e2ae17f29ba910.jpg\n",
      "\n",
      "image 1/1 C:\\SEMESTER 5\\PCD (Image Processing)\\Plat Nomor2\\valid\\images\\4570FFT_MYS_220113012101_20240619063949096_X750Y605W25H12_Motorcycle_Audi_unknown_114_02_05043_jpg.rf.71a061fd9e530a31effef550a070fc0e.jpg: 384x640 3 Motors, 53.9ms\n",
      "Speed: 1.0ms preprocess, 53.9ms inference, 0.0ms postprocess per image at shape (1, 3, 384, 640)\n",
      "Hasil deteksi disimpan di: C:/SEMESTER 5/PCD (Image Processing)/Plat Nomor2/valid/results\\4570FFT_MYS_220113012101_20240619063949096_X750Y605W25H12_Motorcycle_Audi_unknown_114_02_05043_jpg.rf.71a061fd9e530a31effef550a070fc0e.jpg\n",
      "\n",
      "image 1/1 C:\\SEMESTER 5\\PCD (Image Processing)\\Plat Nomor2\\valid\\images\\4672UZA_IDN_220313032101_20240619160259744_X954Y641W63H11_Tricycle_Audi_unknown_072_02_07840_jpg.rf.d5813c6476a48625d7578415853d92f7.jpg: 384x640 1 Bajaj, 1 Mobil, 3 Motors, 1 Truk, 1 plat, 63.1ms\n",
      "Speed: 1.4ms preprocess, 63.1ms inference, 1.3ms postprocess per image at shape (1, 3, 384, 640)\n",
      "Hasil deteksi disimpan di: C:/SEMESTER 5/PCD (Image Processing)/Plat Nomor2/valid/results\\4672UZA_IDN_220313032101_20240619160259744_X954Y641W63H11_Tricycle_Audi_unknown_072_02_07840_jpg.rf.d5813c6476a48625d7578415853d92f7.jpg\n",
      "\n",
      "image 1/1 C:\\SEMESTER 5\\PCD (Image Processing)\\Plat Nomor2\\valid\\images\\9614UCD_IDN_220313032101_20240619130738948_X130Y443W67H34_Van_Toyota_green_024_01_00199_jpg.rf.1bfc3294296fd42271cc28d0d7db79b7.jpg: 384x640 1 Mobil, 2 Motors, 1 Truk, 2 plats, 45.2ms\n",
      "Speed: 2.3ms preprocess, 45.2ms inference, 1.0ms postprocess per image at shape (1, 3, 384, 640)\n",
      "Hasil deteksi disimpan di: C:/SEMESTER 5/PCD (Image Processing)/Plat Nomor2/valid/results\\9614UCD_IDN_220313032101_20240619130738948_X130Y443W67H34_Van_Toyota_green_024_01_00199_jpg.rf.1bfc3294296fd42271cc28d0d7db79b7.jpg\n"
     ]
    }
   ],
   "source": [
    "import os\n",
    "import cv2\n",
    "from ultralytics import YOLO\n",
    "\n",
    "# Load model YOLO\n",
    "model = YOLO(\"C:/SEMESTER 5/PCD (Image Processing)/Plat Nomor2/runs/detect/train/weights/best.pt\")\n",
    "\n",
    "# Path folder input dan output\n",
    "input_folder = \"C:/SEMESTER 5/PCD (Image Processing)/Plat Nomor2/valid/images\"\n",
    "output_folder = \"C:/SEMESTER 5/PCD (Image Processing)/Plat Nomor2/valid/results\"\n",
    "\n",
    "# Pastikan folder output ada\n",
    "os.makedirs(output_folder, exist_ok=True)\n",
    "\n",
    "# Nama kelas sesuai data.yaml\n",
    "class_names = ['Bajaj', 'Bus', 'Mobil', 'Motor', 'Truk', 'Plat']\n",
    "\n",
    "# Iterasi setiap file dalam folder input\n",
    "for filename in os.listdir(input_folder):\n",
    "    if filename.endswith(\".jpg\") or filename.endswith(\".png\"):  # Tambahkan format gambar lain jika perlu\n",
    "        try:\n",
    "            image_path = os.path.join(input_folder, filename)\n",
    "            image = cv2.imread(image_path)\n",
    "\n",
    "            if image is None:\n",
    "                raise ValueError(f\"Gambar {filename} tidak dapat dimuat.\")\n",
    "\n",
    "            # Inference dengan YOLO\n",
    "            results = model(image_path)\n",
    "            xyxy = results[0].boxes.xyxy.cpu().numpy()  # Koordinat bounding box\n",
    "            conf = results[0].boxes.conf.cpu().numpy()  # Confidence score\n",
    "            cls = results[0].boxes.cls.cpu().numpy()    # Class indices\n",
    "\n",
    "            # Gambar bounding box pada gambar\n",
    "            for box, confidence, class_id in zip(xyxy, conf, cls):\n",
    "                x_min, y_min, x_max, y_max = map(int, box)  # Konversi ke integer\n",
    "                label = f\"{class_names[int(class_id)]}: {confidence:.2f}\"  # Gunakan nama kelas dari data.yaml\n",
    "                # Gambar kotak\n",
    "                cv2.rectangle(image, (x_min, y_min), (x_max, y_max), (0, 255, 0), 2)\n",
    "                # Tambahkan teks label\n",
    "                cv2.putText(image, label, (x_min, y_min - 10), cv2.FONT_HERSHEY_SIMPLEX, 0.5, (0, 255, 0), 2)\n",
    "\n",
    "            # Simpan gambar hasil ke folder output\n",
    "            output_path = os.path.join(output_folder, filename)\n",
    "            cv2.imwrite(output_path, image)\n",
    "\n",
    "            print(f\"Hasil deteksi disimpan di: {output_path}\")\n",
    "        \n",
    "        except Exception as e:\n",
    "            print(f\"Terjadi error pada file {filename}: {e}\")\n"
   ]
  },
  {
   "cell_type": "markdown",
   "metadata": {},
   "source": [
    "### Crop Objek yang telah terdeteksi"
   ]
  },
  {
   "cell_type": "code",
   "execution_count": 1,
   "metadata": {},
   "outputs": [
    {
     "name": "stdout",
     "output_type": "stream",
     "text": [
      "\n",
      "image 1/1 C:\\SEMESTER 5\\PCD (Image Processing)\\Plat Nomor2\\train\\images\\012TFN_IDN_220113012101_20240619135349974_X921Y521W33H13_Motorcycle_Audi_unknown_058_03_01252_jpg.rf.3de122885fc46aee03d3e5c69f400f84.jpg: 384x640 1 Mobil, 4 Motors, 1 plat, 165.2ms\n",
      "Speed: 14.0ms preprocess, 165.2ms inference, 6.0ms postprocess per image at shape (1, 3, 384, 640)\n",
      "Hasil deteksi disimpan di: C:/SEMESTER 5/PCD (Image Processing)/Plat Nomor2/train/results\\012TFN_IDN_220113012101_20240619135349974_X921Y521W33H13_Motorcycle_Audi_unknown_058_03_01252_jpg.rf.3de122885fc46aee03d3e5c69f400f84.jpg\n",
      "Cropping objek disimpan di folder: C:/SEMESTER 5/PCD (Image Processing)/Plat Nomor2/train/crops\n",
      "\n",
      "image 1/1 C:\\SEMESTER 5\\PCD (Image Processing)\\Plat Nomor2\\train\\images\\0UPW_AUS_220313032101_20240619094952243_X1025Y610W42H16_Motorcycle_Audi_unknown_072_02_03288_jpg.rf.bc1d46be561a781b3ea737e40c450092.jpg: 384x640 2 Motors, 2 plats, 69.1ms\n",
      "Speed: 3.0ms preprocess, 69.1ms inference, 1.0ms postprocess per image at shape (1, 3, 384, 640)\n",
      "Hasil deteksi disimpan di: C:/SEMESTER 5/PCD (Image Processing)/Plat Nomor2/train/results\\0UPW_AUS_220313032101_20240619094952243_X1025Y610W42H16_Motorcycle_Audi_unknown_072_02_03288_jpg.rf.bc1d46be561a781b3ea737e40c450092.jpg\n",
      "Cropping objek disimpan di folder: C:/SEMESTER 5/PCD (Image Processing)/Plat Nomor2/train/crops\n",
      "\n",
      "image 1/1 C:\\SEMESTER 5\\PCD (Image Processing)\\Plat Nomor2\\train\\images\\0_AUS_220113012101_20240619134048079_X0Y0W0H0_Motorcycle_Audi_unknown_010_02_09347_jpg.rf.c8c760796333d3b6071c2be57a12bb71.jpg: 384x640 1 Motor, 79.1ms\n",
      "Speed: 2.0ms preprocess, 79.1ms inference, 1.0ms postprocess per image at shape (1, 3, 384, 640)\n",
      "Hasil deteksi disimpan di: C:/SEMESTER 5/PCD (Image Processing)/Plat Nomor2/train/results\\0_AUS_220113012101_20240619134048079_X0Y0W0H0_Motorcycle_Audi_unknown_010_02_09347_jpg.rf.c8c760796333d3b6071c2be57a12bb71.jpg\n",
      "Cropping objek disimpan di folder: C:/SEMESTER 5/PCD (Image Processing)/Plat Nomor2/train/crops\n",
      "\n",
      "image 1/1 C:\\SEMESTER 5\\PCD (Image Processing)\\Plat Nomor2\\train\\images\\0_AUS_220313032101_20240619102319575_X491Y636W132H92_Tricycle_Audi_unknown_004_02_07454_jpg.rf.2a910af8e8c350fc613268ac9079f592.jpg: 384x640 1 Bajaj, 60.0ms\n",
      "Speed: 2.0ms preprocess, 60.0ms inference, 1.0ms postprocess per image at shape (1, 3, 384, 640)\n",
      "Hasil deteksi disimpan di: C:/SEMESTER 5/PCD (Image Processing)/Plat Nomor2/train/results\\0_AUS_220313032101_20240619102319575_X491Y636W132H92_Tricycle_Audi_unknown_004_02_07454_jpg.rf.2a910af8e8c350fc613268ac9079f592.jpg\n",
      "Cropping objek disimpan di folder: C:/SEMESTER 5/PCD (Image Processing)/Plat Nomor2/train/crops\n",
      "\n",
      "image 1/1 C:\\SEMESTER 5\\PCD (Image Processing)\\Plat Nomor2\\train\\images\\0_IDN_220113012101_20240619071419479_X998Y335W33H11_Motorcycle_Audi_unknown_095_03_07954_jpg.rf.e2dc99375c73b5d12d47f6e380d96855.jpg: 384x640 1 Mobil, 2 Motors, 2 plats, 60.1ms\n",
      "Speed: 2.0ms preprocess, 60.1ms inference, 2.0ms postprocess per image at shape (1, 3, 384, 640)\n",
      "Hasil deteksi disimpan di: C:/SEMESTER 5/PCD (Image Processing)/Plat Nomor2/train/results\\0_IDN_220113012101_20240619071419479_X998Y335W33H11_Motorcycle_Audi_unknown_095_03_07954_jpg.rf.e2dc99375c73b5d12d47f6e380d96855.jpg\n",
      "Cropping objek disimpan di folder: C:/SEMESTER 5/PCD (Image Processing)/Plat Nomor2/train/crops\n",
      "\n",
      "image 1/1 C:\\SEMESTER 5\\PCD (Image Processing)\\Plat Nomor2\\train\\images\\0_IDN_220113012101_20240619135538136_X174Y452W30H10_Motorcycle_Audi_unknown_050_01_01628_jpg.rf.34e0da469f91aea57aec2496444693c5.jpg: 384x640 4 Motors, 4 plats, 58.5ms\n",
      "Speed: 2.0ms preprocess, 58.5ms inference, 1.0ms postprocess per image at shape (1, 3, 384, 640)\n",
      "Hasil deteksi disimpan di: C:/SEMESTER 5/PCD (Image Processing)/Plat Nomor2/train/results\\0_IDN_220113012101_20240619135538136_X174Y452W30H10_Motorcycle_Audi_unknown_050_01_01628_jpg.rf.34e0da469f91aea57aec2496444693c5.jpg\n",
      "Cropping objek disimpan di folder: C:/SEMESTER 5/PCD (Image Processing)/Plat Nomor2/train/crops\n",
      "\n",
      "image 1/1 C:\\SEMESTER 5\\PCD (Image Processing)\\Plat Nomor2\\train\\images\\0_IDN_220313032101_20240619081921737_X266Y333W44H14_Motorcycle_Audi_unknown_001_01_02570_jpg.rf.23e38535a8fe4bd9a69732d39523ccf1.jpg: 384x640 7 Motors, 2 plats, 58.0ms\n",
      "Speed: 2.0ms preprocess, 58.0ms inference, 1.0ms postprocess per image at shape (1, 3, 384, 640)\n",
      "Hasil deteksi disimpan di: C:/SEMESTER 5/PCD (Image Processing)/Plat Nomor2/train/results\\0_IDN_220313032101_20240619081921737_X266Y333W44H14_Motorcycle_Audi_unknown_001_01_02570_jpg.rf.23e38535a8fe4bd9a69732d39523ccf1.jpg\n",
      "Cropping objek disimpan di folder: C:/SEMESTER 5/PCD (Image Processing)/Plat Nomor2/train/crops\n",
      "\n",
      "image 1/1 C:\\SEMESTER 5\\PCD (Image Processing)\\Plat Nomor2\\train\\images\\0_MYS_220113012101_20240619004903098_X328Y312W72H19_SUV_MPV_Toyota_black_091_01_06045_jpg.rf.fbf0f255bc94234e16a91584da7d70ab.jpg: 384x640 1 Mobil, 1 plat, 51.0ms\n",
      "Speed: 2.0ms preprocess, 51.0ms inference, 0.0ms postprocess per image at shape (1, 3, 384, 640)\n",
      "Hasil deteksi disimpan di: C:/SEMESTER 5/PCD (Image Processing)/Plat Nomor2/train/results\\0_MYS_220113012101_20240619004903098_X328Y312W72H19_SUV_MPV_Toyota_black_091_01_06045_jpg.rf.fbf0f255bc94234e16a91584da7d70ab.jpg\n",
      "Cropping objek disimpan di folder: C:/SEMESTER 5/PCD (Image Processing)/Plat Nomor2/train/crops\n",
      "\n",
      "image 1/1 C:\\SEMESTER 5\\PCD (Image Processing)\\Plat Nomor2\\train\\images\\0_MYS_220113012101_20240619060343665_X349Y438W39H11_Van_Isuzu_white_076_01_03036_jpg.rf.eae9c4eac0bbd008da140e31176d172c.jpg: 384x640 1 Mobil, 1 Motor, 1 plat, 58.0ms\n",
      "Speed: 1.0ms preprocess, 58.0ms inference, 1.0ms postprocess per image at shape (1, 3, 384, 640)\n",
      "Hasil deteksi disimpan di: C:/SEMESTER 5/PCD (Image Processing)/Plat Nomor2/train/results\\0_MYS_220113012101_20240619060343665_X349Y438W39H11_Van_Isuzu_white_076_01_03036_jpg.rf.eae9c4eac0bbd008da140e31176d172c.jpg\n",
      "Cropping objek disimpan di folder: C:/SEMESTER 5/PCD (Image Processing)/Plat Nomor2/train/crops\n",
      "\n",
      "image 1/1 C:\\SEMESTER 5\\PCD (Image Processing)\\Plat Nomor2\\train\\images\\0_MYS_220313032101_20240619101234467_X1424Y370W30H10_Motorcycle_Audi_unknown_045_03_06121_jpg.rf.c7d7bee4de2196c9b731e5906fe15bc4.jpg: 384x640 2 Motors, 1 Truk, 1 plat, 59.5ms\n",
      "Speed: 2.0ms preprocess, 59.5ms inference, 0.0ms postprocess per image at shape (1, 3, 384, 640)\n",
      "Hasil deteksi disimpan di: C:/SEMESTER 5/PCD (Image Processing)/Plat Nomor2/train/results\\0_MYS_220313032101_20240619101234467_X1424Y370W30H10_Motorcycle_Audi_unknown_045_03_06121_jpg.rf.c7d7bee4de2196c9b731e5906fe15bc4.jpg\n",
      "Cropping objek disimpan di folder: C:/SEMESTER 5/PCD (Image Processing)/Plat Nomor2/train/crops\n",
      "\n",
      "image 1/1 C:\\SEMESTER 5\\PCD (Image Processing)\\Plat Nomor2\\train\\images\\0_MYS_220313032101_20240619121313477_X312Y491W26H17_Motorcycle_Audi_unknown_008_01_02805_jpg.rf.0a6d965b2d42bb99f6aa116b3cf57add.jpg: 384x640 3 Motors, 1 Truk, 56.0ms\n",
      "Speed: 2.0ms preprocess, 56.0ms inference, 0.0ms postprocess per image at shape (1, 3, 384, 640)\n",
      "Hasil deteksi disimpan di: C:/SEMESTER 5/PCD (Image Processing)/Plat Nomor2/train/results\\0_MYS_220313032101_20240619121313477_X312Y491W26H17_Motorcycle_Audi_unknown_008_01_02805_jpg.rf.0a6d965b2d42bb99f6aa116b3cf57add.jpg\n",
      "Cropping objek disimpan di folder: C:/SEMESTER 5/PCD (Image Processing)/Plat Nomor2/train/crops\n",
      "\n",
      "image 1/1 C:\\SEMESTER 5\\PCD (Image Processing)\\Plat Nomor2\\train\\images\\1008HFO_AUS_220313032101_20240619163003563_X203Y392W21H9_Truck_Infiniti_black_004_01_02222_jpg.rf.bd8aac1d751da5c5c79aa60c720d11f9.jpg: 384x640 1 Mobil, 2 Motors, 1 plat, 55.5ms\n",
      "Speed: 2.0ms preprocess, 55.5ms inference, 1.0ms postprocess per image at shape (1, 3, 384, 640)\n",
      "Hasil deteksi disimpan di: C:/SEMESTER 5/PCD (Image Processing)/Plat Nomor2/train/results\\1008HFO_AUS_220313032101_20240619163003563_X203Y392W21H9_Truck_Infiniti_black_004_01_02222_jpg.rf.bd8aac1d751da5c5c79aa60c720d11f9.jpg\n",
      "Cropping objek disimpan di folder: C:/SEMESTER 5/PCD (Image Processing)/Plat Nomor2/train/crops\n",
      "\n",
      "image 1/1 C:\\SEMESTER 5\\PCD (Image Processing)\\Plat Nomor2\\train\\images\\1039XIV_IDN_220113012101_20240619170753033_X464Y552W66H18_Van_Wuling_grey_073_02_06161_jpg.rf.a52c5b73c6f5d0995c4e286b58e131ba.jpg: 384x640 1 Mobil, 4 Motors, 3 plats, 55.0ms\n",
      "Speed: 1.0ms preprocess, 55.0ms inference, 2.0ms postprocess per image at shape (1, 3, 384, 640)\n",
      "Hasil deteksi disimpan di: C:/SEMESTER 5/PCD (Image Processing)/Plat Nomor2/train/results\\1039XIV_IDN_220113012101_20240619170753033_X464Y552W66H18_Van_Wuling_grey_073_02_06161_jpg.rf.a52c5b73c6f5d0995c4e286b58e131ba.jpg\n",
      "Cropping objek disimpan di folder: C:/SEMESTER 5/PCD (Image Processing)/Plat Nomor2/train/crops\n",
      "\n",
      "image 1/1 C:\\SEMESTER 5\\PCD (Image Processing)\\Plat Nomor2\\train\\images\\120213_VNM_220113012101_20240619170040103_X542Y486W40H11_Motorcycle_Audi_unknown_095_02_05255_jpg.rf.7652a3f9ab076f94625be84b74357340.jpg: 384x640 3 Motors, 1 plat, 57.2ms\n",
      "Speed: 1.0ms preprocess, 57.2ms inference, 1.0ms postprocess per image at shape (1, 3, 384, 640)\n",
      "Hasil deteksi disimpan di: C:/SEMESTER 5/PCD (Image Processing)/Plat Nomor2/train/results\\120213_VNM_220113012101_20240619170040103_X542Y486W40H11_Motorcycle_Audi_unknown_095_02_05255_jpg.rf.7652a3f9ab076f94625be84b74357340.jpg\n",
      "Cropping objek disimpan di folder: C:/SEMESTER 5/PCD (Image Processing)/Plat Nomor2/train/crops\n",
      "\n",
      "image 1/1 C:\\SEMESTER 5\\PCD (Image Processing)\\Plat Nomor2\\train\\images\\120413_IDN_220313032101_20240619162937322_X109Y888W59H43_Motorcycle_Audi_unknown_000_01_02169_jpg.rf.f95d1222bdb0809279556cced8ac74da.jpg: 384x640 1 Mobil, 2 Motors, 1 plat, 55.0ms\n",
      "Speed: 2.0ms preprocess, 55.0ms inference, 1.0ms postprocess per image at shape (1, 3, 384, 640)\n",
      "Hasil deteksi disimpan di: C:/SEMESTER 5/PCD (Image Processing)/Plat Nomor2/train/results\\120413_IDN_220313032101_20240619162937322_X109Y888W59H43_Motorcycle_Audi_unknown_000_01_02169_jpg.rf.f95d1222bdb0809279556cced8ac74da.jpg\n",
      "Cropping objek disimpan di folder: C:/SEMESTER 5/PCD (Image Processing)/Plat Nomor2/train/crops\n",
      "\n",
      "image 1/1 C:\\SEMESTER 5\\PCD (Image Processing)\\Plat Nomor2\\train\\images\\121377_IDN_220313032101_20240619152900818_X888Y739W101H24_SUV_MPV_Mitsubishi_brown_069_02_02571_jpg.rf.2bdeb20785017b7019eb59dae656e213.jpg: 384x640 1 Mobil, 3 Motors, 2 plats, 56.2ms\n",
      "Speed: 2.0ms preprocess, 56.2ms inference, 2.0ms postprocess per image at shape (1, 3, 384, 640)\n",
      "Hasil deteksi disimpan di: C:/SEMESTER 5/PCD (Image Processing)/Plat Nomor2/train/results\\121377_IDN_220313032101_20240619152900818_X888Y739W101H24_SUV_MPV_Mitsubishi_brown_069_02_02571_jpg.rf.2bdeb20785017b7019eb59dae656e213.jpg\n",
      "Cropping objek disimpan di folder: C:/SEMESTER 5/PCD (Image Processing)/Plat Nomor2/train/crops\n",
      "\n",
      "image 1/1 C:\\SEMESTER 5\\PCD (Image Processing)\\Plat Nomor2\\train\\images\\12481VII_IDN_220113012101_20240619065639417_X317Y389W33H12_Motorcycle_Audi_unknown_120_01_06458_jpg.rf.4a7988283ec91621d561111e8b39e9d2.jpg: 384x640 2 Motors, 1 plat, 57.1ms\n",
      "Speed: 2.0ms preprocess, 57.1ms inference, 1.0ms postprocess per image at shape (1, 3, 384, 640)\n",
      "Hasil deteksi disimpan di: C:/SEMESTER 5/PCD (Image Processing)/Plat Nomor2/train/results\\12481VII_IDN_220113012101_20240619065639417_X317Y389W33H12_Motorcycle_Audi_unknown_120_01_06458_jpg.rf.4a7988283ec91621d561111e8b39e9d2.jpg\n",
      "Cropping objek disimpan di folder: C:/SEMESTER 5/PCD (Image Processing)/Plat Nomor2/train/crops\n",
      "\n",
      "image 1/1 C:\\SEMESTER 5\\PCD (Image Processing)\\Plat Nomor2\\train\\images\\1353WJ_IDN_220113012101_20240619004826618_X254Y550W70H21_SUV_MPV_Baojun_white_084_01_06025_jpg.rf.5cc210449b6bb27f3d7c4673ff26330a.jpg: 384x640 1 Mobil, 1 plat, 54.1ms\n",
      "Speed: 1.0ms preprocess, 54.1ms inference, 1.0ms postprocess per image at shape (1, 3, 384, 640)\n",
      "Hasil deteksi disimpan di: C:/SEMESTER 5/PCD (Image Processing)/Plat Nomor2/train/results\\1353WJ_IDN_220113012101_20240619004826618_X254Y550W70H21_SUV_MPV_Baojun_white_084_01_06025_jpg.rf.5cc210449b6bb27f3d7c4673ff26330a.jpg\n",
      "Cropping objek disimpan di folder: C:/SEMESTER 5/PCD (Image Processing)/Plat Nomor2/train/crops\n",
      "\n",
      "image 1/1 C:\\SEMESTER 5\\PCD (Image Processing)\\Plat Nomor2\\train\\images\\1364UYU_MYS_220313032101_20240619175836377_X712Y873W86H30_Van_Honda_black_060_02_01694_jpg.rf.00033f446303f00a1a8c34d1ce0b7b28.jpg: 384x640 1 Mobil, 7 Motors, 2 plats, 53.1ms\n",
      "Speed: 2.0ms preprocess, 53.1ms inference, 1.0ms postprocess per image at shape (1, 3, 384, 640)\n",
      "Hasil deteksi disimpan di: C:/SEMESTER 5/PCD (Image Processing)/Plat Nomor2/train/results\\1364UYU_MYS_220313032101_20240619175836377_X712Y873W86H30_Van_Honda_black_060_02_01694_jpg.rf.00033f446303f00a1a8c34d1ce0b7b28.jpg\n",
      "Cropping objek disimpan di folder: C:/SEMESTER 5/PCD (Image Processing)/Plat Nomor2/train/crops\n",
      "\n",
      "image 1/1 C:\\SEMESTER 5\\PCD (Image Processing)\\Plat Nomor2\\train\\images\\1373WMG_AUS_220113012101_20240619001445474_X302Y508W69H19_SUV_MPV_Wuling_grey_075_01_05016_jpg.rf.39db50c072f7b7e0acf9c5ef12b7dd36.jpg: 384x640 1 Mobil, 1 Motor, 2 plats, 57.3ms\n",
      "Speed: 1.0ms preprocess, 57.3ms inference, 1.0ms postprocess per image at shape (1, 3, 384, 640)\n",
      "Hasil deteksi disimpan di: C:/SEMESTER 5/PCD (Image Processing)/Plat Nomor2/train/results\\1373WMG_AUS_220113012101_20240619001445474_X302Y508W69H19_SUV_MPV_Wuling_grey_075_01_05016_jpg.rf.39db50c072f7b7e0acf9c5ef12b7dd36.jpg\n",
      "Cropping objek disimpan di folder: C:/SEMESTER 5/PCD (Image Processing)/Plat Nomor2/train/crops\n",
      "\n",
      "image 1/1 C:\\SEMESTER 5\\PCD (Image Processing)\\Plat Nomor2\\train\\images\\14III_IDN_220113012101_20240619065100854_X272Y520W71H23_SUV_MPV_Suzuki_grey_086_01_06005_jpg.rf.54401d955164c07a4377fa9931422b32.jpg: 384x640 1 Mobil, 2 Motors, 2 plats, 55.5ms\n",
      "Speed: 1.0ms preprocess, 55.5ms inference, 1.0ms postprocess per image at shape (1, 3, 384, 640)\n",
      "Hasil deteksi disimpan di: C:/SEMESTER 5/PCD (Image Processing)/Plat Nomor2/train/results\\14III_IDN_220113012101_20240619065100854_X272Y520W71H23_SUV_MPV_Suzuki_grey_086_01_06005_jpg.rf.54401d955164c07a4377fa9931422b32.jpg\n",
      "Cropping objek disimpan di folder: C:/SEMESTER 5/PCD (Image Processing)/Plat Nomor2/train/crops\n",
      "\n",
      "image 1/1 C:\\SEMESTER 5\\PCD (Image Processing)\\Plat Nomor2\\train\\images\\1575DZC_IDN_220313032101_20240619082736611_X844Y739W107H32_SUV_MPV_Honda_white_080_02_03512_jpg.rf.d06379fd69db021a4b00105e4d2db433.jpg: 384x640 2 Mobils, 1 Motor, 2 plats, 56.0ms\n",
      "Speed: 1.0ms preprocess, 56.0ms inference, 1.0ms postprocess per image at shape (1, 3, 384, 640)\n",
      "Hasil deteksi disimpan di: C:/SEMESTER 5/PCD (Image Processing)/Plat Nomor2/train/results\\1575DZC_IDN_220313032101_20240619082736611_X844Y739W107H32_SUV_MPV_Honda_white_080_02_03512_jpg.rf.d06379fd69db021a4b00105e4d2db433.jpg\n",
      "Cropping objek disimpan di folder: C:/SEMESTER 5/PCD (Image Processing)/Plat Nomor2/train/crops\n",
      "\n",
      "image 1/1 C:\\SEMESTER 5\\PCD (Image Processing)\\Plat Nomor2\\train\\images\\1638800_IDN_220113012101_20240619103037437_X231Y536W70H23_Truck_Nissan_blue_071_01_03509_jpg.rf.23e5f6899f6628a57445a3a27bbd03f9.jpg: 384x640 1 Mobil, 1 Motor, 1 plat, 58.3ms\n",
      "Speed: 1.0ms preprocess, 58.3ms inference, 1.0ms postprocess per image at shape (1, 3, 384, 640)\n",
      "Hasil deteksi disimpan di: C:/SEMESTER 5/PCD (Image Processing)/Plat Nomor2/train/results\\1638800_IDN_220113012101_20240619103037437_X231Y536W70H23_Truck_Nissan_blue_071_01_03509_jpg.rf.23e5f6899f6628a57445a3a27bbd03f9.jpg\n",
      "Cropping objek disimpan di folder: C:/SEMESTER 5/PCD (Image Processing)/Plat Nomor2/train/crops\n",
      "\n",
      "image 1/1 C:\\SEMESTER 5\\PCD (Image Processing)\\Plat Nomor2\\train\\images\\17PDL_IDN_220313032101_20240619171220656_X1345Y725W48H22_Motorcycle_Audi_unknown_051_03_00746_jpg.rf.5ad10232f42bcfe974f9b462ffc0db80.jpg: 384x640 3 Mobils, 15 Motors, 9 plats, 57.5ms\n",
      "Speed: 2.0ms preprocess, 57.5ms inference, 1.0ms postprocess per image at shape (1, 3, 384, 640)\n",
      "Hasil deteksi disimpan di: C:/SEMESTER 5/PCD (Image Processing)/Plat Nomor2/train/results\\17PDL_IDN_220313032101_20240619171220656_X1345Y725W48H22_Motorcycle_Audi_unknown_051_03_00746_jpg.rf.5ad10232f42bcfe974f9b462ffc0db80.jpg\n",
      "Cropping objek disimpan di folder: C:/SEMESTER 5/PCD (Image Processing)/Plat Nomor2/train/crops\n",
      "\n",
      "image 1/1 C:\\SEMESTER 5\\PCD (Image Processing)\\Plat Nomor2\\train\\images\\1928000_IDN_220113012101_20240619134034158_X495Y545W67H20_Car_Honda_blue_068_02_09445_jpg.rf.2f4ab982372e2a32fde6da2eee1dfcb4.jpg: 384x640 1 Mobil, 5 Motors, 1 Truk, 3 plats, 62.0ms\n",
      "Speed: 1.0ms preprocess, 62.0ms inference, 0.0ms postprocess per image at shape (1, 3, 384, 640)\n",
      "Hasil deteksi disimpan di: C:/SEMESTER 5/PCD (Image Processing)/Plat Nomor2/train/results\\1928000_IDN_220113012101_20240619134034158_X495Y545W67H20_Car_Honda_blue_068_02_09445_jpg.rf.2f4ab982372e2a32fde6da2eee1dfcb4.jpg\n",
      "Cropping objek disimpan di folder: C:/SEMESTER 5/PCD (Image Processing)/Plat Nomor2/train/crops\n",
      "\n",
      "image 1/1 C:\\SEMESTER 5\\PCD (Image Processing)\\Plat Nomor2\\train\\images\\2080II_MMR_220113012101_20240619161647894_X945Y442W28H14_Motorcycle_Audi_unknown_057_03_09884_jpg.rf.d462a995db27efb283a67b6dfd368a6e.jpg: 384x640 6 Motors, 4 plats, 58.5ms\n",
      "Speed: 1.0ms preprocess, 58.5ms inference, 2.0ms postprocess per image at shape (1, 3, 384, 640)\n",
      "Hasil deteksi disimpan di: C:/SEMESTER 5/PCD (Image Processing)/Plat Nomor2/train/results\\2080II_MMR_220113012101_20240619161647894_X945Y442W28H14_Motorcycle_Audi_unknown_057_03_09884_jpg.rf.d462a995db27efb283a67b6dfd368a6e.jpg\n",
      "Cropping objek disimpan di folder: C:/SEMESTER 5/PCD (Image Processing)/Plat Nomor2/train/crops\n",
      "\n",
      "image 1/1 C:\\SEMESTER 5\\PCD (Image Processing)\\Plat Nomor2\\train\\images\\2099III_AUS_220113012101_20240619173256785_X1077Y488W37H13_Motorcycle_Audi_unknown_069_03_09822_jpg.rf.7a82fb4a1cf8e194d9d5136a399cd34e.jpg: 384x640 3 Motors, 2 plats, 58.5ms\n",
      "Speed: 1.0ms preprocess, 58.5ms inference, 1.0ms postprocess per image at shape (1, 3, 384, 640)\n",
      "Hasil deteksi disimpan di: C:/SEMESTER 5/PCD (Image Processing)/Plat Nomor2/train/results\\2099III_AUS_220113012101_20240619173256785_X1077Y488W37H13_Motorcycle_Audi_unknown_069_03_09822_jpg.rf.7a82fb4a1cf8e194d9d5136a399cd34e.jpg\n",
      "Cropping objek disimpan di folder: C:/SEMESTER 5/PCD (Image Processing)/Plat Nomor2/train/crops\n",
      "\n",
      "image 1/1 C:\\SEMESTER 5\\PCD (Image Processing)\\Plat Nomor2\\train\\images\\2184III_IDN_220113012101_20240619125347172_X904Y417W39H14_Motorcycle_Audi_unknown_079_03_02888_jpg.rf.e8c99c843cda334f7ff18bb44bd3ca40.jpg: 384x640 3 Motors, 4 plats, 64.1ms\n",
      "Speed: 2.0ms preprocess, 64.1ms inference, 1.0ms postprocess per image at shape (1, 3, 384, 640)\n",
      "Hasil deteksi disimpan di: C:/SEMESTER 5/PCD (Image Processing)/Plat Nomor2/train/results\\2184III_IDN_220113012101_20240619125347172_X904Y417W39H14_Motorcycle_Audi_unknown_079_03_02888_jpg.rf.e8c99c843cda334f7ff18bb44bd3ca40.jpg\n",
      "Cropping objek disimpan di folder: C:/SEMESTER 5/PCD (Image Processing)/Plat Nomor2/train/crops\n",
      "\n",
      "image 1/1 C:\\SEMESTER 5\\PCD (Image Processing)\\Plat Nomor2\\train\\images\\230335_IDN_220313032101_20240619162358858_X781Y761W88H28_SUV_MPV_Toyota_black_016_02_01194_jpg.rf.a8aec1f1e4dd3b14e52140834da7b11c.jpg: 384x640 3 Mobils, 5 Motors, 2 plats, 62.0ms\n",
      "Speed: 2.0ms preprocess, 62.0ms inference, 2.0ms postprocess per image at shape (1, 3, 384, 640)\n",
      "Hasil deteksi disimpan di: C:/SEMESTER 5/PCD (Image Processing)/Plat Nomor2/train/results\\230335_IDN_220313032101_20240619162358858_X781Y761W88H28_SUV_MPV_Toyota_black_016_02_01194_jpg.rf.a8aec1f1e4dd3b14e52140834da7b11c.jpg\n",
      "Cropping objek disimpan di folder: C:/SEMESTER 5/PCD (Image Processing)/Plat Nomor2/train/crops\n",
      "\n",
      "image 1/1 C:\\SEMESTER 5\\PCD (Image Processing)\\Plat Nomor2\\train\\images\\2441LE_IDN_220313032101_20240619181136132_X1622Y608W48H23_Motorcycle_Audi_unknown_020_03_04059_jpg.rf.de144a0273c461f90d3d947617c04de7.jpg: 384x640 4 Mobils, 7 Motors, 2 plats, 57.2ms\n",
      "Speed: 1.0ms preprocess, 57.2ms inference, 1.0ms postprocess per image at shape (1, 3, 384, 640)\n",
      "Hasil deteksi disimpan di: C:/SEMESTER 5/PCD (Image Processing)/Plat Nomor2/train/results\\2441LE_IDN_220313032101_20240619181136132_X1622Y608W48H23_Motorcycle_Audi_unknown_020_03_04059_jpg.rf.de144a0273c461f90d3d947617c04de7.jpg\n",
      "Cropping objek disimpan di folder: C:/SEMESTER 5/PCD (Image Processing)/Plat Nomor2/train/crops\n",
      "\n",
      "image 1/1 C:\\SEMESTER 5\\PCD (Image Processing)\\Plat Nomor2\\train\\images\\2570ALF_IDN_220313032101_20240619084747559_X1560Y613W48H22_Motorcycle_Audi_unknown_033_03_05981_jpg.rf.6fdfffa5ab425a44eeea03e7c64b4ab7.jpg: 384x640 3 Mobils, 8 Motors, 5 plats, 58.0ms\n",
      "Speed: 1.0ms preprocess, 58.0ms inference, 0.0ms postprocess per image at shape (1, 3, 384, 640)\n",
      "Hasil deteksi disimpan di: C:/SEMESTER 5/PCD (Image Processing)/Plat Nomor2/train/results\\2570ALF_IDN_220313032101_20240619084747559_X1560Y613W48H22_Motorcycle_Audi_unknown_033_03_05981_jpg.rf.6fdfffa5ab425a44eeea03e7c64b4ab7.jpg\n",
      "Cropping objek disimpan di folder: C:/SEMESTER 5/PCD (Image Processing)/Plat Nomor2/train/crops\n",
      "\n",
      "image 1/1 C:\\SEMESTER 5\\PCD (Image Processing)\\Plat Nomor2\\train\\images\\2721UFB_IDN_220113012101_20240619180716919_X284Y576W87H26_SUV_MPV_Honda_grey_068_01_05127_jpg.rf.ee2774daa37eaccff19bd7421c66399c.jpg: 384x640 2 Mobils, 5 Motors, 4 plats, 66.5ms\n",
      "Speed: 2.0ms preprocess, 66.5ms inference, 0.0ms postprocess per image at shape (1, 3, 384, 640)\n",
      "Hasil deteksi disimpan di: C:/SEMESTER 5/PCD (Image Processing)/Plat Nomor2/train/results\\2721UFB_IDN_220113012101_20240619180716919_X284Y576W87H26_SUV_MPV_Honda_grey_068_01_05127_jpg.rf.ee2774daa37eaccff19bd7421c66399c.jpg\n",
      "Cropping objek disimpan di folder: C:/SEMESTER 5/PCD (Image Processing)/Plat Nomor2/train/crops\n",
      "\n",
      "image 1/1 C:\\SEMESTER 5\\PCD (Image Processing)\\Plat Nomor2\\train\\images\\276ROU_IDN_220313032101_20240619153848949_X1180Y776W74H27_SUV_MPV_Toyota_white_058_02_04068_jpg.rf.6d1804558a8507dcffc1dbc3741152a8.jpg: 384x640 2 Mobils, 1 Motor, 2 plats, 61.0ms\n",
      "Speed: 2.0ms preprocess, 61.0ms inference, 2.0ms postprocess per image at shape (1, 3, 384, 640)\n",
      "Hasil deteksi disimpan di: C:/SEMESTER 5/PCD (Image Processing)/Plat Nomor2/train/results\\276ROU_IDN_220313032101_20240619153848949_X1180Y776W74H27_SUV_MPV_Toyota_white_058_02_04068_jpg.rf.6d1804558a8507dcffc1dbc3741152a8.jpg\n",
      "Cropping objek disimpan di folder: C:/SEMESTER 5/PCD (Image Processing)/Plat Nomor2/train/crops\n",
      "\n",
      "image 1/1 C:\\SEMESTER 5\\PCD (Image Processing)\\Plat Nomor2\\train\\images\\2813VR_MYS_220313032101_20240619074108959_X652Y716W32H16_Motorcycle_Audi_unknown_075_02_08002_jpg.rf.cf825502996cd31e51c9122b6a89d7f4.jpg: 384x640 1 Mobil, 5 Motors, 2 plats, 57.1ms\n",
      "Speed: 3.0ms preprocess, 57.1ms inference, 1.0ms postprocess per image at shape (1, 3, 384, 640)\n",
      "Hasil deteksi disimpan di: C:/SEMESTER 5/PCD (Image Processing)/Plat Nomor2/train/results\\2813VR_MYS_220313032101_20240619074108959_X652Y716W32H16_Motorcycle_Audi_unknown_075_02_08002_jpg.rf.cf825502996cd31e51c9122b6a89d7f4.jpg\n",
      "Cropping objek disimpan di folder: C:/SEMESTER 5/PCD (Image Processing)/Plat Nomor2/train/crops\n",
      "\n",
      "image 1/1 C:\\SEMESTER 5\\PCD (Image Processing)\\Plat Nomor2\\train\\images\\3055LKZ_IDN_220313032101_20240619002927660_X881Y714W44H27_Motorcycle_Audi_unknown_000_02_07803_jpg.rf.ea1ed2fed23dfef0d48a337cf09293f8.jpg: 384x640 1 Motor, 61.0ms\n",
      "Speed: 2.0ms preprocess, 61.0ms inference, 1.0ms postprocess per image at shape (1, 3, 384, 640)\n",
      "Hasil deteksi disimpan di: C:/SEMESTER 5/PCD (Image Processing)/Plat Nomor2/train/results\\3055LKZ_IDN_220313032101_20240619002927660_X881Y714W44H27_Motorcycle_Audi_unknown_000_02_07803_jpg.rf.ea1ed2fed23dfef0d48a337cf09293f8.jpg\n",
      "Cropping objek disimpan di folder: C:/SEMESTER 5/PCD (Image Processing)/Plat Nomor2/train/crops\n",
      "\n",
      "image 1/1 C:\\SEMESTER 5\\PCD (Image Processing)\\Plat Nomor2\\train\\images\\3063KWF_IDN_220313032101_20240619104302834_X105Y916W40H28_Motorcycle_Audi_unknown_000_01_00313_jpg.rf.69fee8388417c2bfa48d9eb5fb699c41.jpg: 384x640 1 Mobil, 3 Motors, 2 plats, 57.0ms\n",
      "Speed: 2.0ms preprocess, 57.0ms inference, 1.0ms postprocess per image at shape (1, 3, 384, 640)\n",
      "Hasil deteksi disimpan di: C:/SEMESTER 5/PCD (Image Processing)/Plat Nomor2/train/results\\3063KWF_IDN_220313032101_20240619104302834_X105Y916W40H28_Motorcycle_Audi_unknown_000_01_00313_jpg.rf.69fee8388417c2bfa48d9eb5fb699c41.jpg\n",
      "Cropping objek disimpan di folder: C:/SEMESTER 5/PCD (Image Processing)/Plat Nomor2/train/crops\n",
      "\n",
      "image 1/1 C:\\SEMESTER 5\\PCD (Image Processing)\\Plat Nomor2\\train\\images\\3090BZZ_IDN_220313032101_20240619181128612_X1150Y700W49H18_Motorcycle_Audi_unknown_067_02_04034_jpg.rf.231b25bdbe29cebad0e4237d04b98441.jpg: 384x640 1 Bajaj, 1 Mobil, 4 Motors, 1 plat, 59.0ms\n",
      "Speed: 2.0ms preprocess, 59.0ms inference, 1.0ms postprocess per image at shape (1, 3, 384, 640)\n",
      "Hasil deteksi disimpan di: C:/SEMESTER 5/PCD (Image Processing)/Plat Nomor2/train/results\\3090BZZ_IDN_220313032101_20240619181128612_X1150Y700W49H18_Motorcycle_Audi_unknown_067_02_04034_jpg.rf.231b25bdbe29cebad0e4237d04b98441.jpg\n",
      "Cropping objek disimpan di folder: C:/SEMESTER 5/PCD (Image Processing)/Plat Nomor2/train/crops\n",
      "\n",
      "image 1/1 C:\\SEMESTER 5\\PCD (Image Processing)\\Plat Nomor2\\train\\images\\3096TNE_IDN_220313032101_20240619174534060_X1568Y633W48H14_Motorcycle_Audi_unknown_010_03_08816_jpg.rf.cf958ec84a552e4af66d05634eb5d186.jpg: 384x640 1 Bajaj, 1 Mobil, 8 Motors, 1 Truk, 8 plats, 54.5ms\n",
      "Speed: 2.0ms preprocess, 54.5ms inference, 1.0ms postprocess per image at shape (1, 3, 384, 640)\n",
      "Hasil deteksi disimpan di: C:/SEMESTER 5/PCD (Image Processing)/Plat Nomor2/train/results\\3096TNE_IDN_220313032101_20240619174534060_X1568Y633W48H14_Motorcycle_Audi_unknown_010_03_08816_jpg.rf.cf958ec84a552e4af66d05634eb5d186.jpg\n",
      "Cropping objek disimpan di folder: C:/SEMESTER 5/PCD (Image Processing)/Plat Nomor2/train/crops\n",
      "\n",
      "image 1/1 C:\\SEMESTER 5\\PCD (Image Processing)\\Plat Nomor2\\train\\images\\3130000_IDN_220113012101_20240619075521374_X674Y559W71H21_Car_Toyota_blue_061_02_04142_jpg.rf.f2461af043c1e4f355c99f702d7afb63.jpg: 384x640 2 Mobils, 3 Motors, 2 plats, 50.5ms\n",
      "Speed: 1.0ms preprocess, 50.5ms inference, 1.0ms postprocess per image at shape (1, 3, 384, 640)\n",
      "Hasil deteksi disimpan di: C:/SEMESTER 5/PCD (Image Processing)/Plat Nomor2/train/results\\3130000_IDN_220113012101_20240619075521374_X674Y559W71H21_Car_Toyota_blue_061_02_04142_jpg.rf.f2461af043c1e4f355c99f702d7afb63.jpg\n",
      "Cropping objek disimpan di folder: C:/SEMESTER 5/PCD (Image Processing)/Plat Nomor2/train/crops\n",
      "\n",
      "image 1/1 C:\\SEMESTER 5\\PCD (Image Processing)\\Plat Nomor2\\train\\images\\3142300_IDN_220113012101_20240619141415863_X757Y524W69H19_Car_Toyota_blue_062_02_04148_jpg.rf.1631b833cb6115a592d3631977936c1f.jpg: 384x640 1 Mobil, 1 Motor, 1 plat, 60.0ms\n",
      "Speed: 1.0ms preprocess, 60.0ms inference, 1.0ms postprocess per image at shape (1, 3, 384, 640)\n",
      "Hasil deteksi disimpan di: C:/SEMESTER 5/PCD (Image Processing)/Plat Nomor2/train/results\\3142300_IDN_220113012101_20240619141415863_X757Y524W69H19_Car_Toyota_blue_062_02_04148_jpg.rf.1631b833cb6115a592d3631977936c1f.jpg\n",
      "Cropping objek disimpan di folder: C:/SEMESTER 5/PCD (Image Processing)/Plat Nomor2/train/crops\n",
      "\n",
      "image 1/1 C:\\SEMESTER 5\\PCD (Image Processing)\\Plat Nomor2\\train\\images\\3209UDI_IDN_220113012101_20240619103514211_X463Y265W30H11_Motorcycle_Audi_unknown_109_01_03944_jpg.rf.2350298b7b8087ce5ce5a053f743e21e.jpg: 384x640 5 Motors, 3 plats, 59.5ms\n",
      "Speed: 5.0ms preprocess, 59.5ms inference, 1.0ms postprocess per image at shape (1, 3, 384, 640)\n",
      "Hasil deteksi disimpan di: C:/SEMESTER 5/PCD (Image Processing)/Plat Nomor2/train/results\\3209UDI_IDN_220113012101_20240619103514211_X463Y265W30H11_Motorcycle_Audi_unknown_109_01_03944_jpg.rf.2350298b7b8087ce5ce5a053f743e21e.jpg\n",
      "Cropping objek disimpan di folder: C:/SEMESTER 5/PCD (Image Processing)/Plat Nomor2/train/crops\n",
      "\n",
      "image 1/1 C:\\SEMESTER 5\\PCD (Image Processing)\\Plat Nomor2\\train\\images\\3214P_VNM_220313032101_20240619183631457_X1440Y586W40H20_Motorcycle_Audi_unknown_009_03_09810_jpg.rf.99d49449d13491adc4c2f8101024f775.jpg: 384x640 6 Mobils, 9 Motors, 3 plats, 66.0ms\n",
      "Speed: 2.0ms preprocess, 66.0ms inference, 1.0ms postprocess per image at shape (1, 3, 384, 640)\n",
      "Hasil deteksi disimpan di: C:/SEMESTER 5/PCD (Image Processing)/Plat Nomor2/train/results\\3214P_VNM_220313032101_20240619183631457_X1440Y586W40H20_Motorcycle_Audi_unknown_009_03_09810_jpg.rf.99d49449d13491adc4c2f8101024f775.jpg\n",
      "Cropping objek disimpan di folder: C:/SEMESTER 5/PCD (Image Processing)/Plat Nomor2/train/crops\n",
      "\n",
      "image 1/1 C:\\SEMESTER 5\\PCD (Image Processing)\\Plat Nomor2\\train\\images\\3231YYH_IDN_220113012101_20240619170055223_X1052Y500W37H20_Motorcycle_Audi_unknown_001_03_05264_jpg.rf.fc791744e956ef38c0b2949aaeb137fc.jpg: 384x640 2 Motors, 1 plat, 56.1ms\n",
      "Speed: 2.0ms preprocess, 56.1ms inference, 1.0ms postprocess per image at shape (1, 3, 384, 640)\n",
      "Hasil deteksi disimpan di: C:/SEMESTER 5/PCD (Image Processing)/Plat Nomor2/train/results\\3231YYH_IDN_220113012101_20240619170055223_X1052Y500W37H20_Motorcycle_Audi_unknown_001_03_05264_jpg.rf.fc791744e956ef38c0b2949aaeb137fc.jpg\n",
      "Cropping objek disimpan di folder: C:/SEMESTER 5/PCD (Image Processing)/Plat Nomor2/train/crops\n",
      "\n",
      "image 1/1 C:\\SEMESTER 5\\PCD (Image Processing)\\Plat Nomor2\\train\\images\\3269UDI_IDN_220113012101_20240619063935897_X742Y339W30H11_Motorcycle_Audi_unknown_074_02_05020_jpg.rf.8ac1b78f2781144869e4c021ba3b1001.jpg: 384x640 1 Mobil, 3 Motors, 1 plat, 57.0ms\n",
      "Speed: 2.0ms preprocess, 57.0ms inference, 1.0ms postprocess per image at shape (1, 3, 384, 640)\n",
      "Hasil deteksi disimpan di: C:/SEMESTER 5/PCD (Image Processing)/Plat Nomor2/train/results\\3269UDI_IDN_220113012101_20240619063935897_X742Y339W30H11_Motorcycle_Audi_unknown_074_02_05020_jpg.rf.8ac1b78f2781144869e4c021ba3b1001.jpg\n",
      "Cropping objek disimpan di folder: C:/SEMESTER 5/PCD (Image Processing)/Plat Nomor2/train/crops\n",
      "\n",
      "image 1/1 C:\\SEMESTER 5\\PCD (Image Processing)\\Plat Nomor2\\train\\images\\3363T_MYS_220113012101_20240619182147144_X683Y483W26H15_Motorcycle_Audi_unknown_000_02_07045_jpg.rf.39708ace0ffaae907d5e670936176555.jpg: 384x640 1 Motor, 60.5ms\n",
      "Speed: 1.0ms preprocess, 60.5ms inference, 0.0ms postprocess per image at shape (1, 3, 384, 640)\n",
      "Hasil deteksi disimpan di: C:/SEMESTER 5/PCD (Image Processing)/Plat Nomor2/train/results\\3363T_MYS_220113012101_20240619182147144_X683Y483W26H15_Motorcycle_Audi_unknown_000_02_07045_jpg.rf.39708ace0ffaae907d5e670936176555.jpg\n",
      "Cropping objek disimpan di folder: C:/SEMESTER 5/PCD (Image Processing)/Plat Nomor2/train/crops\n",
      "\n",
      "image 1/1 C:\\SEMESTER 5\\PCD (Image Processing)\\Plat Nomor2\\train\\images\\3399YW_IDN_220313032101_20240619151427147_X1399Y602W42H20_Motorcycle_Audi_unknown_048_03_00317_jpg.rf.ecc42e2b342410b7c10871d97d4be79d.jpg: 384x640 3 Mobils, 3 Motors, 3 plats, 60.0ms\n",
      "Speed: 2.0ms preprocess, 60.0ms inference, 1.0ms postprocess per image at shape (1, 3, 384, 640)\n",
      "Hasil deteksi disimpan di: C:/SEMESTER 5/PCD (Image Processing)/Plat Nomor2/train/results\\3399YW_IDN_220313032101_20240619151427147_X1399Y602W42H20_Motorcycle_Audi_unknown_048_03_00317_jpg.rf.ecc42e2b342410b7c10871d97d4be79d.jpg\n",
      "Cropping objek disimpan di folder: C:/SEMESTER 5/PCD (Image Processing)/Plat Nomor2/train/crops\n",
      "\n",
      "image 1/1 C:\\SEMESTER 5\\PCD (Image Processing)\\Plat Nomor2\\train\\images\\3411U_MYS_220313032101_20240619180918052_X1720Y590W48H18_Motorcycle_Audi_unknown_004_03_03594_jpg.rf.7b8134fc9d04183b0e2991e04f5c6d96.jpg: 384x640 2 Mobils, 3 Motors, 1 plat, 54.0ms\n",
      "Speed: 2.0ms preprocess, 54.0ms inference, 1.0ms postprocess per image at shape (1, 3, 384, 640)\n",
      "Hasil deteksi disimpan di: C:/SEMESTER 5/PCD (Image Processing)/Plat Nomor2/train/results\\3411U_MYS_220313032101_20240619180918052_X1720Y590W48H18_Motorcycle_Audi_unknown_004_03_03594_jpg.rf.7b8134fc9d04183b0e2991e04f5c6d96.jpg\n",
      "Cropping objek disimpan di folder: C:/SEMESTER 5/PCD (Image Processing)/Plat Nomor2/train/crops\n",
      "\n",
      "image 1/1 C:\\SEMESTER 5\\PCD (Image Processing)\\Plat Nomor2\\train\\images\\3411_MYS_220313032101_20240619180851653_X1848Y875W42H18_Motorcycle_Audi_unknown_000_03_03492_jpg.rf.68288f2374cb261277f390139648c8b8.jpg: 384x640 1 Mobil, 8 Motors, 2 plats, 57.5ms\n",
      "Speed: 1.0ms preprocess, 57.5ms inference, 1.0ms postprocess per image at shape (1, 3, 384, 640)\n",
      "Hasil deteksi disimpan di: C:/SEMESTER 5/PCD (Image Processing)/Plat Nomor2/train/results\\3411_MYS_220313032101_20240619180851653_X1848Y875W42H18_Motorcycle_Audi_unknown_000_03_03492_jpg.rf.68288f2374cb261277f390139648c8b8.jpg\n",
      "Cropping objek disimpan di folder: C:/SEMESTER 5/PCD (Image Processing)/Plat Nomor2/train/crops\n",
      "\n",
      "image 1/1 C:\\SEMESTER 5\\PCD (Image Processing)\\Plat Nomor2\\train\\images\\3413UWY_IDN_220313032101_20240619140256415_X1470Y590W42H22_Motorcycle_Audi_unknown_058_03_08787_jpg.rf.d2ad555729dcbc04af1248ea47a58a91.jpg: 384x640 2 Mobils, 3 Motors, 2 plats, 61.1ms\n",
      "Speed: 2.0ms preprocess, 61.1ms inference, 1.0ms postprocess per image at shape (1, 3, 384, 640)\n",
      "Hasil deteksi disimpan di: C:/SEMESTER 5/PCD (Image Processing)/Plat Nomor2/train/results\\3413UWY_IDN_220313032101_20240619140256415_X1470Y590W42H22_Motorcycle_Audi_unknown_058_03_08787_jpg.rf.d2ad555729dcbc04af1248ea47a58a91.jpg\n",
      "Cropping objek disimpan di folder: C:/SEMESTER 5/PCD (Image Processing)/Plat Nomor2/train/crops\n",
      "\n",
      "image 1/1 C:\\SEMESTER 5\\PCD (Image Processing)\\Plat Nomor2\\train\\images\\3424PKF_AUS_220113012101_20240619120910037_X705Y353W35H10_Motorcycle_Audi_unknown_077_02_07024_jpg.rf.c75b355af8948a4158ed6d56e2d79455.jpg: 384x640 1 Mobil, 2 Motors, 3 plats, 66.0ms\n",
      "Speed: 2.0ms preprocess, 66.0ms inference, 1.0ms postprocess per image at shape (1, 3, 384, 640)\n",
      "Hasil deteksi disimpan di: C:/SEMESTER 5/PCD (Image Processing)/Plat Nomor2/train/results\\3424PKF_AUS_220113012101_20240619120910037_X705Y353W35H10_Motorcycle_Audi_unknown_077_02_07024_jpg.rf.c75b355af8948a4158ed6d56e2d79455.jpg\n",
      "Cropping objek disimpan di folder: C:/SEMESTER 5/PCD (Image Processing)/Plat Nomor2/train/crops\n",
      "\n",
      "image 1/1 C:\\SEMESTER 5\\PCD (Image Processing)\\Plat Nomor2\\train\\images\\34MHR_IDN_220313032101_20240619182833559_X714Y762W76H31_SUV_MPV_Honda_grey_025_02_07642_jpg.rf.b72d03dc4c4b88208efad24486d615e1.jpg: 384x640 5 Mobils, 4 Motors, 5 plats, 61.1ms\n",
      "Speed: 2.0ms preprocess, 61.1ms inference, 1.0ms postprocess per image at shape (1, 3, 384, 640)\n",
      "Hasil deteksi disimpan di: C:/SEMESTER 5/PCD (Image Processing)/Plat Nomor2/train/results\\34MHR_IDN_220313032101_20240619182833559_X714Y762W76H31_SUV_MPV_Honda_grey_025_02_07642_jpg.rf.b72d03dc4c4b88208efad24486d615e1.jpg\n",
      "Cropping objek disimpan di folder: C:/SEMESTER 5/PCD (Image Processing)/Plat Nomor2/train/crops\n",
      "\n",
      "image 1/1 C:\\SEMESTER 5\\PCD (Image Processing)\\Plat Nomor2\\train\\images\\3547P_AUS_220313032101_20240619051250077_X215Y781W44H17_Motorcycle_Audi_unknown_022_01_00984_jpg.rf.11794e566eda7cf451e8b3a7bfeaa330.jpg: 384x640 1 Motor, 1 plat, 55.1ms\n",
      "Speed: 1.0ms preprocess, 55.1ms inference, 1.0ms postprocess per image at shape (1, 3, 384, 640)\n",
      "Hasil deteksi disimpan di: C:/SEMESTER 5/PCD (Image Processing)/Plat Nomor2/train/results\\3547P_AUS_220313032101_20240619051250077_X215Y781W44H17_Motorcycle_Audi_unknown_022_01_00984_jpg.rf.11794e566eda7cf451e8b3a7bfeaa330.jpg\n",
      "Cropping objek disimpan di folder: C:/SEMESTER 5/PCD (Image Processing)/Plat Nomor2/train/crops\n",
      "\n",
      "image 1/1 C:\\SEMESTER 5\\PCD (Image Processing)\\Plat Nomor2\\train\\images\\3584PMG_IDN_220113012101_20240619104652135_X870Y509W44H11_Motorcycle_Audi_unknown_062_02_06005_jpg.rf.e84379ac4b2b7b86c8ec4137f7f91329.jpg: 384x640 2 Motors, 2 plats, 85.3ms\n",
      "Speed: 1.0ms preprocess, 85.3ms inference, 2.0ms postprocess per image at shape (1, 3, 384, 640)\n",
      "Hasil deteksi disimpan di: C:/SEMESTER 5/PCD (Image Processing)/Plat Nomor2/train/results\\3584PMG_IDN_220113012101_20240619104652135_X870Y509W44H11_Motorcycle_Audi_unknown_062_02_06005_jpg.rf.e84379ac4b2b7b86c8ec4137f7f91329.jpg\n",
      "Cropping objek disimpan di folder: C:/SEMESTER 5/PCD (Image Processing)/Plat Nomor2/train/crops\n",
      "\n",
      "image 1/1 C:\\SEMESTER 5\\PCD (Image Processing)\\Plat Nomor2\\train\\images\\3607_MYS_220313032101_20240619153857749_X971Y463W24H12_Motorcycle_Audi_unknown_089_02_04088_jpg.rf.b2181fb7c39e685753870f84a4b8233c.jpg: 384x640 2 Motors, 1 plat, 64.0ms\n",
      "Speed: 1.0ms preprocess, 64.0ms inference, 1.0ms postprocess per image at shape (1, 3, 384, 640)\n",
      "Hasil deteksi disimpan di: C:/SEMESTER 5/PCD (Image Processing)/Plat Nomor2/train/results\\3607_MYS_220313032101_20240619153857749_X971Y463W24H12_Motorcycle_Audi_unknown_089_02_04088_jpg.rf.b2181fb7c39e685753870f84a4b8233c.jpg\n",
      "Cropping objek disimpan di folder: C:/SEMESTER 5/PCD (Image Processing)/Plat Nomor2/train/crops\n",
      "\n",
      "image 1/1 C:\\SEMESTER 5\\PCD (Image Processing)\\Plat Nomor2\\train\\images\\3613PLZ_IDN_220113012101_20240619121243155_X1160Y542W35H19_Motorcycle_Audi_unknown_000_03_07639_jpg.rf.6fb8240bc0a91a2e4c0fba491b8249e2.jpg: 384x640 2 Mobils, 2 Motors, 3 plats, 68.0ms\n",
      "Speed: 1.0ms preprocess, 68.0ms inference, 1.0ms postprocess per image at shape (1, 3, 384, 640)\n",
      "Hasil deteksi disimpan di: C:/SEMESTER 5/PCD (Image Processing)/Plat Nomor2/train/results\\3613PLZ_IDN_220113012101_20240619121243155_X1160Y542W35H19_Motorcycle_Audi_unknown_000_03_07639_jpg.rf.6fb8240bc0a91a2e4c0fba491b8249e2.jpg\n",
      "Cropping objek disimpan di folder: C:/SEMESTER 5/PCD (Image Processing)/Plat Nomor2/train/crops\n",
      "\n",
      "image 1/1 C:\\SEMESTER 5\\PCD (Image Processing)\\Plat Nomor2\\train\\images\\3626UPB_IDN_220313032101_20240619145133330_X1687Y870W71H20_Motorcycle_Audi_unknown_000_03_06634_jpg.rf.f21ed6bbc44e06587beb57728253ab43.jpg: 384x640 1 Mobil, 6 Motors, 1 Truk, 3 plats, 60.1ms\n",
      "Speed: 2.0ms preprocess, 60.1ms inference, 1.0ms postprocess per image at shape (1, 3, 384, 640)\n",
      "Hasil deteksi disimpan di: C:/SEMESTER 5/PCD (Image Processing)/Plat Nomor2/train/results\\3626UPB_IDN_220313032101_20240619145133330_X1687Y870W71H20_Motorcycle_Audi_unknown_000_03_06634_jpg.rf.f21ed6bbc44e06587beb57728253ab43.jpg\n",
      "Cropping objek disimpan di folder: C:/SEMESTER 5/PCD (Image Processing)/Plat Nomor2/train/crops\n",
      "\n",
      "image 1/1 C:\\SEMESTER 5\\PCD (Image Processing)\\Plat Nomor2\\train\\images\\3635YS_IDN_220313032101_20240619160529344_X712Y664W44H16_Motorcycle_Audi_unknown_076_02_08194_jpg.rf.1c70027a37002e1a1b5836be37fd3b51.jpg: 384x640 3 Motors, 1 plat, 67.1ms\n",
      "Speed: 2.0ms preprocess, 67.1ms inference, 1.0ms postprocess per image at shape (1, 3, 384, 640)\n",
      "Hasil deteksi disimpan di: C:/SEMESTER 5/PCD (Image Processing)/Plat Nomor2/train/results\\3635YS_IDN_220313032101_20240619160529344_X712Y664W44H16_Motorcycle_Audi_unknown_076_02_08194_jpg.rf.1c70027a37002e1a1b5836be37fd3b51.jpg\n",
      "Cropping objek disimpan di folder: C:/SEMESTER 5/PCD (Image Processing)/Plat Nomor2/train/crops\n",
      "\n",
      "image 1/1 C:\\SEMESTER 5\\PCD (Image Processing)\\Plat Nomor2\\train\\images\\3760FR_IDN_220313032101_20240619164217396_X1315Y536W48H14_Motorcycle_Audi_unknown_064_03_04273_jpg.rf.41e2f301c0c98bbb209499cb87e818e3.jpg: 384x640 3 Motors, 2 plats, 69.0ms\n",
      "Speed: 2.0ms preprocess, 69.0ms inference, 1.0ms postprocess per image at shape (1, 3, 384, 640)\n",
      "Hasil deteksi disimpan di: C:/SEMESTER 5/PCD (Image Processing)/Plat Nomor2/train/results\\3760FR_IDN_220313032101_20240619164217396_X1315Y536W48H14_Motorcycle_Audi_unknown_064_03_04273_jpg.rf.41e2f301c0c98bbb209499cb87e818e3.jpg\n",
      "Cropping objek disimpan di folder: C:/SEMESTER 5/PCD (Image Processing)/Plat Nomor2/train/crops\n",
      "\n",
      "image 1/1 C:\\SEMESTER 5\\PCD (Image Processing)\\Plat Nomor2\\train\\images\\3808UB_IDN_220113012101_20240619095059471_X404Y526W40H13_Motorcycle_Audi_unknown_068_01_07832_jpg.rf.bd7368eb65e889a777ee9e3615e7fc91.jpg: 384x640 1 Mobil, 3 Motors, 2 plats, 61.3ms\n",
      "Speed: 1.0ms preprocess, 61.3ms inference, 2.0ms postprocess per image at shape (1, 3, 384, 640)\n",
      "Hasil deteksi disimpan di: C:/SEMESTER 5/PCD (Image Processing)/Plat Nomor2/train/results\\3808UB_IDN_220113012101_20240619095059471_X404Y526W40H13_Motorcycle_Audi_unknown_068_01_07832_jpg.rf.bd7368eb65e889a777ee9e3615e7fc91.jpg\n",
      "Cropping objek disimpan di folder: C:/SEMESTER 5/PCD (Image Processing)/Plat Nomor2/train/crops\n",
      "\n",
      "image 1/1 C:\\SEMESTER 5\\PCD (Image Processing)\\Plat Nomor2\\train\\images\\3_IDN_220313032101_20240619174127980_X1445Y407W48H18_Motorcycle_Audi_unknown_002_03_07816_jpg.rf.27a526534a2204f6d9cb70f74be99d30.jpg: 384x640 2 Mobils, 4 Motors, 1 Truk, 1 plat, 57.0ms\n",
      "Speed: 2.0ms preprocess, 57.0ms inference, 1.0ms postprocess per image at shape (1, 3, 384, 640)\n",
      "Hasil deteksi disimpan di: C:/SEMESTER 5/PCD (Image Processing)/Plat Nomor2/train/results\\3_IDN_220313032101_20240619174127980_X1445Y407W48H18_Motorcycle_Audi_unknown_002_03_07816_jpg.rf.27a526534a2204f6d9cb70f74be99d30.jpg\n",
      "Cropping objek disimpan di folder: C:/SEMESTER 5/PCD (Image Processing)/Plat Nomor2/train/crops\n",
      "\n",
      "image 1/1 C:\\SEMESTER 5\\PCD (Image Processing)\\Plat Nomor2\\train\\images\\401UL_IDN_220113012101_20240619174100843_X723Y514W47H19_Car_Suzuki_white_002_02_00975_jpg.rf.682ef7a01e32e3be3acd6233b0ddcef5.jpg: 384x640 1 Bajaj, 2 Mobils, 4 Motors, 2 plats, 58.3ms\n",
      "Speed: 2.0ms preprocess, 58.3ms inference, 1.0ms postprocess per image at shape (1, 3, 384, 640)\n",
      "Hasil deteksi disimpan di: C:/SEMESTER 5/PCD (Image Processing)/Plat Nomor2/train/results\\401UL_IDN_220113012101_20240619174100843_X723Y514W47H19_Car_Suzuki_white_002_02_00975_jpg.rf.682ef7a01e32e3be3acd6233b0ddcef5.jpg\n",
      "Cropping objek disimpan di folder: C:/SEMESTER 5/PCD (Image Processing)/Plat Nomor2/train/crops\n",
      "\n",
      "image 1/1 C:\\SEMESTER 5\\PCD (Image Processing)\\Plat Nomor2\\train\\images\\4070KW_IDN_220313032101_20240619135712824_X1255Y686W61H16_Motorcycle_Audi_unknown_068_03_07776_jpg.rf.e33ff7752c91cb0e1000602a0f5ea932.jpg: 384x640 2 Mobils, 2 Motors, 1 Truk, 3 plats, 67.5ms\n",
      "Speed: 1.0ms preprocess, 67.5ms inference, 0.0ms postprocess per image at shape (1, 3, 384, 640)\n",
      "Hasil deteksi disimpan di: C:/SEMESTER 5/PCD (Image Processing)/Plat Nomor2/train/results\\4070KW_IDN_220313032101_20240619135712824_X1255Y686W61H16_Motorcycle_Audi_unknown_068_03_07776_jpg.rf.e33ff7752c91cb0e1000602a0f5ea932.jpg\n",
      "Cropping objek disimpan di folder: C:/SEMESTER 5/PCD (Image Processing)/Plat Nomor2/train/crops\n",
      "\n",
      "image 1/1 C:\\SEMESTER 5\\PCD (Image Processing)\\Plat Nomor2\\train\\images\\42PBU_PHL_220313032101_20240619171001612_X234Y858W69H28_SUV_MPV_MAXUS_black_020_01_00134_jpg.rf.f2a29cca1996add15800bc4775da1e90.jpg: 384x640 3 Mobils, 9 Motors, 1 Truk, 4 plats, 56.7ms\n",
      "Speed: 1.6ms preprocess, 56.7ms inference, 1.0ms postprocess per image at shape (1, 3, 384, 640)\n",
      "Hasil deteksi disimpan di: C:/SEMESTER 5/PCD (Image Processing)/Plat Nomor2/train/results\\42PBU_PHL_220313032101_20240619171001612_X234Y858W69H28_SUV_MPV_MAXUS_black_020_01_00134_jpg.rf.f2a29cca1996add15800bc4775da1e90.jpg\n",
      "Cropping objek disimpan di folder: C:/SEMESTER 5/PCD (Image Processing)/Plat Nomor2/train/crops\n",
      "\n",
      "image 1/1 C:\\SEMESTER 5\\PCD (Image Processing)\\Plat Nomor2\\train\\images\\4333YJ_IDN_220313032101_20240619095549992_X1263Y359W30H16_Motorcycle_Audi_unknown_053_03_03993_jpg.rf.5dffc6dac6caa8e415bb1250bbe6e67a.jpg: 384x640 2 Mobils, 4 Motors, 3 plats, 64.1ms\n",
      "Speed: 1.0ms preprocess, 64.1ms inference, 1.0ms postprocess per image at shape (1, 3, 384, 640)\n",
      "Hasil deteksi disimpan di: C:/SEMESTER 5/PCD (Image Processing)/Plat Nomor2/train/results\\4333YJ_IDN_220313032101_20240619095549992_X1263Y359W30H16_Motorcycle_Audi_unknown_053_03_03993_jpg.rf.5dffc6dac6caa8e415bb1250bbe6e67a.jpg\n",
      "Cropping objek disimpan di folder: C:/SEMESTER 5/PCD (Image Processing)/Plat Nomor2/train/crops\n",
      "\n",
      "image 1/1 C:\\SEMESTER 5\\PCD (Image Processing)\\Plat Nomor2\\train\\images\\4485QK_IDN_220113012101_20240619063354699_X181Y578W47H13_Motorcycle_Audi_unknown_108_01_04667_jpg.rf.e5a254b2042a6a74fe94b7a6b8a2448c.jpg: 384x640 2 Motors, 1 plat, 65.0ms\n",
      "Speed: 1.0ms preprocess, 65.0ms inference, 1.0ms postprocess per image at shape (1, 3, 384, 640)\n",
      "Hasil deteksi disimpan di: C:/SEMESTER 5/PCD (Image Processing)/Plat Nomor2/train/results\\4485QK_IDN_220113012101_20240619063354699_X181Y578W47H13_Motorcycle_Audi_unknown_108_01_04667_jpg.rf.e5a254b2042a6a74fe94b7a6b8a2448c.jpg\n",
      "Cropping objek disimpan di folder: C:/SEMESTER 5/PCD (Image Processing)/Plat Nomor2/train/crops\n",
      "\n",
      "image 1/1 C:\\SEMESTER 5\\PCD (Image Processing)\\Plat Nomor2\\train\\images\\4892KF_IDN_220313032101_20240619085505557_X1365Y662W49H14_Motorcycle_Audi_unknown_063_03_06856_jpg.rf.62decc46d0f31f573d91a7dbe6abbecf.jpg: 384x640 1 Mobil, 2 Motors, 1 Truk, 1 plat, 63.2ms\n",
      "Speed: 3.0ms preprocess, 63.2ms inference, 1.0ms postprocess per image at shape (1, 3, 384, 640)\n",
      "Hasil deteksi disimpan di: C:/SEMESTER 5/PCD (Image Processing)/Plat Nomor2/train/results\\4892KF_IDN_220313032101_20240619085505557_X1365Y662W49H14_Motorcycle_Audi_unknown_063_03_06856_jpg.rf.62decc46d0f31f573d91a7dbe6abbecf.jpg\n",
      "Cropping objek disimpan di folder: C:/SEMESTER 5/PCD (Image Processing)/Plat Nomor2/train/crops\n",
      "\n",
      "image 1/1 C:\\SEMESTER 5\\PCD (Image Processing)\\Plat Nomor2\\train\\images\\4UNF_IDN_220313032101_20240619174805477_X850Y696W48H20_Motorcycle_Audi_unknown_057_02_09420_jpg.rf.8ccfb1a55914e00350449e57fba0d796.jpg: 384x640 2 Mobils, 2 Motors, 1 plat, 62.0ms\n",
      "Speed: 2.0ms preprocess, 62.0ms inference, 1.0ms postprocess per image at shape (1, 3, 384, 640)\n",
      "Hasil deteksi disimpan di: C:/SEMESTER 5/PCD (Image Processing)/Plat Nomor2/train/results\\4UNF_IDN_220313032101_20240619174805477_X850Y696W48H20_Motorcycle_Audi_unknown_057_02_09420_jpg.rf.8ccfb1a55914e00350449e57fba0d796.jpg\n",
      "Cropping objek disimpan di folder: C:/SEMESTER 5/PCD (Image Processing)/Plat Nomor2/train/crops\n",
      "\n",
      "image 1/1 C:\\SEMESTER 5\\PCD (Image Processing)\\Plat Nomor2\\train\\images\\507BOV_VNM_220313032101_20240619121628998_X1340Y646W38H18_Motorcycle_Audi_unknown_084_03_03234_jpg.rf.c30870d3857df53b17ecfe8f3fd048c9.jpg: 384x640 4 Motors, 1 Truk, 1 plat, 66.0ms\n",
      "Speed: 2.0ms preprocess, 66.0ms inference, 1.0ms postprocess per image at shape (1, 3, 384, 640)\n",
      "Hasil deteksi disimpan di: C:/SEMESTER 5/PCD (Image Processing)/Plat Nomor2/train/results\\507BOV_VNM_220313032101_20240619121628998_X1340Y646W38H18_Motorcycle_Audi_unknown_084_03_03234_jpg.rf.c30870d3857df53b17ecfe8f3fd048c9.jpg\n",
      "Cropping objek disimpan di folder: C:/SEMESTER 5/PCD (Image Processing)/Plat Nomor2/train/crops\n",
      "\n",
      "image 1/1 C:\\SEMESTER 5\\PCD (Image Processing)\\Plat Nomor2\\train\\images\\598UJG_IDN_220313032101_20240619114021495_X0Y0W0H0_Motorcycle_other_unknown_063_03_08554_jpg.rf.722fe2d0012876035859417fc64dc76c.jpg: 384x640 2 Mobils, 6 Motors, 3 plats, 66.1ms\n",
      "Speed: 1.0ms preprocess, 66.1ms inference, 0.0ms postprocess per image at shape (1, 3, 384, 640)\n",
      "Hasil deteksi disimpan di: C:/SEMESTER 5/PCD (Image Processing)/Plat Nomor2/train/results\\598UJG_IDN_220313032101_20240619114021495_X0Y0W0H0_Motorcycle_other_unknown_063_03_08554_jpg.rf.722fe2d0012876035859417fc64dc76c.jpg\n",
      "Cropping objek disimpan di folder: C:/SEMESTER 5/PCD (Image Processing)/Plat Nomor2/train/crops\n",
      "\n",
      "image 1/1 C:\\SEMESTER 5\\PCD (Image Processing)\\Plat Nomor2\\train\\images\\B4176_MYS_220113012101_20240619183700341_X561Y495W32H10_Motorcycle_Audi_unknown_051_02_08695_jpg.rf.149042435719975248651d9500974ec2.jpg: 384x640 1 Mobil, 7 Motors, 2 plats, 65.0ms\n",
      "Speed: 1.0ms preprocess, 65.0ms inference, 1.0ms postprocess per image at shape (1, 3, 384, 640)\n",
      "Hasil deteksi disimpan di: C:/SEMESTER 5/PCD (Image Processing)/Plat Nomor2/train/results\\B4176_MYS_220113012101_20240619183700341_X561Y495W32H10_Motorcycle_Audi_unknown_051_02_08695_jpg.rf.149042435719975248651d9500974ec2.jpg\n",
      "Cropping objek disimpan di folder: C:/SEMESTER 5/PCD (Image Processing)/Plat Nomor2/train/crops\n"
     ]
    }
   ],
   "source": [
    "import os\n",
    "import cv2\n",
    "from ultralytics import YOLO\n",
    "\n",
    "# Load model YOLO\n",
    "model = YOLO(\"C:/SEMESTER 5/PCD (Image Processing)/Plat Nomor2/runs/detect/train/weights/best.pt\")\n",
    "\n",
    "# Path folder input, output, dan crop\n",
    "input_folder = \"C:/SEMESTER 5/PCD (Image Processing)/Plat Nomor2/train/images\"\n",
    "output_folder = \"C:/SEMESTER 5/PCD (Image Processing)/Plat Nomor2/train/results\"\n",
    "crop_folder = \"C:/SEMESTER 5/PCD (Image Processing)/Plat Nomor2/train/crops\"\n",
    "\n",
    "# Pastikan folder output dan crop ada\n",
    "os.makedirs(output_folder, exist_ok=True)\n",
    "os.makedirs(crop_folder, exist_ok=True)\n",
    "\n",
    "# Nama kelas sesuai data.yaml\n",
    "class_names = ['Bajaj', 'Bus', 'Mobil', 'Motor', 'Truk', 'Plat']\n",
    "\n",
    "# Iterasi setiap file dalam folder input\n",
    "for filename in os.listdir(input_folder):\n",
    "    if filename.endswith(\".jpg\") or filename.endswith(\".png\"):  # Tambahkan format gambar lain jika perlu\n",
    "        try:\n",
    "            image_path = os.path.join(input_folder, filename)\n",
    "            image = cv2.imread(image_path)\n",
    "\n",
    "            if image is None:\n",
    "                raise ValueError(f\"Gambar {filename} tidak dapat dimuat.\")\n",
    "\n",
    "            # Inference dengan YOLO\n",
    "            results = model(image_path)\n",
    "            xyxy = results[0].boxes.xyxy.cpu().numpy()  # Koordinat bounding box\n",
    "            conf = results[0].boxes.conf.cpu().numpy()  # Confidence score\n",
    "            cls = results[0].boxes.cls.cpu().numpy()    # Class indices\n",
    "\n",
    "            # Gambar bounding box pada gambar dan crop objek\n",
    "            for idx, (box, confidence, class_id) in enumerate(zip(xyxy, conf, cls)):\n",
    "                x_min, y_min, x_max, y_max = map(int, box)  # Konversi ke integer\n",
    "                label = f\"{class_names[int(class_id)]}: {confidence:.2f}\"  # Gunakan nama kelas dari data.yaml\n",
    "\n",
    "                # Gambar kotak\n",
    "                cv2.rectangle(image, (x_min, y_min), (x_max, y_max), (0, 255, 0), 2)\n",
    "                # Tambahkan teks label\n",
    "                cv2.putText(image, label, (x_min, y_min - 10), cv2.FONT_HERSHEY_SIMPLEX, 0.5, (0, 255, 0), 2)\n",
    "\n",
    "                # Crop objek dari gambar asli\n",
    "                cropped_object = image[y_min:y_max, x_min:x_max]\n",
    "\n",
    "                # Simpan hasil crop ke folder crop\n",
    "                crop_filename = f\"{os.path.splitext(filename)[0]}_crop_{idx}.jpg\"\n",
    "                crop_path = os.path.join(crop_folder, crop_filename)\n",
    "                cv2.imwrite(crop_path, cropped_object)\n",
    "\n",
    "            # Simpan gambar hasil ke folder output\n",
    "            output_path = os.path.join(output_folder, filename)\n",
    "            cv2.imwrite(output_path, image)\n",
    "\n",
    "            print(f\"Hasil deteksi disimpan di: {output_path}\")\n",
    "            print(f\"Cropping objek disimpan di folder: {crop_folder}\")\n",
    "        \n",
    "        except Exception as e:\n",
    "            print(f\"Terjadi error pada file {filename}: {e}\")\n"
   ]
  },
  {
   "cell_type": "markdown",
   "metadata": {},
   "source": [
    "### Masukkan ke Excel"
   ]
  },
  {
   "cell_type": "code",
   "execution_count": null,
   "metadata": {},
   "outputs": [
    {
     "name": "stdout",
     "output_type": "stream",
     "text": [
      "\n",
      "image 1/1 C:\\SEMESTER 5\\PCD (Image Processing)\\Plat Nomor2\\train\\images\\012TFN_IDN_220113012101_20240619135349974_X921Y521W33H13_Motorcycle_Audi_unknown_058_03_01252_jpg.rf.3de122885fc46aee03d3e5c69f400f84.jpg: 384x640 1 Mobil, 4 Motors, 1 plat, 241.5ms\n",
      "Speed: 8.0ms preprocess, 241.5ms inference, 10.5ms postprocess per image at shape (1, 3, 384, 640)\n",
      "Hasil deteksi disimpan di: C:/SEMESTER 5/PCD (Image Processing)/Plat Nomor2/train/results\\012TFN_IDN_220113012101_20240619135349974_X921Y521W33H13_Motorcycle_Audi_unknown_058_03_01252_jpg.rf.3de122885fc46aee03d3e5c69f400f84.jpg\n",
      "\n"
     ]
    },
    {
     "name": "stderr",
     "output_type": "stream",
     "text": [
      "C:\\Users\\isaia\\AppData\\Local\\Temp\\ipykernel_21116\\3921645342.py:58: FutureWarning: The behavior of DataFrame concatenation with empty or all-NA entries is deprecated. In a future version, this will no longer exclude empty or all-NA columns when determining the result dtypes. To retain the old behavior, exclude the relevant entries before the concat operation.\n",
      "  df = pd.concat([df, new_row], ignore_index=True)\n"
     ]
    },
    {
     "name": "stdout",
     "output_type": "stream",
     "text": [
      "image 1/1 C:\\SEMESTER 5\\PCD (Image Processing)\\Plat Nomor2\\train\\images\\0UPW_AUS_220313032101_20240619094952243_X1025Y610W42H16_Motorcycle_Audi_unknown_072_02_03288_jpg.rf.bc1d46be561a781b3ea737e40c450092.jpg: 384x640 2 Motors, 2 plats, 112.9ms\n",
      "Speed: 5.0ms preprocess, 112.9ms inference, 1.0ms postprocess per image at shape (1, 3, 384, 640)\n",
      "Hasil deteksi disimpan di: C:/SEMESTER 5/PCD (Image Processing)/Plat Nomor2/train/results\\0UPW_AUS_220313032101_20240619094952243_X1025Y610W42H16_Motorcycle_Audi_unknown_072_02_03288_jpg.rf.bc1d46be561a781b3ea737e40c450092.jpg\n",
      "\n",
      "image 1/1 C:\\SEMESTER 5\\PCD (Image Processing)\\Plat Nomor2\\train\\images\\0_AUS_220113012101_20240619134048079_X0Y0W0H0_Motorcycle_Audi_unknown_010_02_09347_jpg.rf.c8c760796333d3b6071c2be57a12bb71.jpg: 384x640 1 Motor, 113.3ms\n",
      "Speed: 2.0ms preprocess, 113.3ms inference, 1.0ms postprocess per image at shape (1, 3, 384, 640)\n",
      "Hasil deteksi disimpan di: C:/SEMESTER 5/PCD (Image Processing)/Plat Nomor2/train/results\\0_AUS_220113012101_20240619134048079_X0Y0W0H0_Motorcycle_Audi_unknown_010_02_09347_jpg.rf.c8c760796333d3b6071c2be57a12bb71.jpg\n",
      "\n",
      "image 1/1 C:\\SEMESTER 5\\PCD (Image Processing)\\Plat Nomor2\\train\\images\\0_AUS_220313032101_20240619102319575_X491Y636W132H92_Tricycle_Audi_unknown_004_02_07454_jpg.rf.2a910af8e8c350fc613268ac9079f592.jpg: 384x640 1 Bajaj, 90.8ms\n",
      "Speed: 3.0ms preprocess, 90.8ms inference, 1.0ms postprocess per image at shape (1, 3, 384, 640)\n",
      "Hasil deteksi disimpan di: C:/SEMESTER 5/PCD (Image Processing)/Plat Nomor2/train/results\\0_AUS_220313032101_20240619102319575_X491Y636W132H92_Tricycle_Audi_unknown_004_02_07454_jpg.rf.2a910af8e8c350fc613268ac9079f592.jpg\n",
      "\n",
      "image 1/1 C:\\SEMESTER 5\\PCD (Image Processing)\\Plat Nomor2\\train\\images\\0_IDN_220113012101_20240619071419479_X998Y335W33H11_Motorcycle_Audi_unknown_095_03_07954_jpg.rf.e2dc99375c73b5d12d47f6e380d96855.jpg: 384x640 1 Mobil, 2 Motors, 2 plats, 107.3ms\n",
      "Speed: 2.0ms preprocess, 107.3ms inference, 4.0ms postprocess per image at shape (1, 3, 384, 640)\n",
      "Hasil deteksi disimpan di: C:/SEMESTER 5/PCD (Image Processing)/Plat Nomor2/train/results\\0_IDN_220113012101_20240619071419479_X998Y335W33H11_Motorcycle_Audi_unknown_095_03_07954_jpg.rf.e2dc99375c73b5d12d47f6e380d96855.jpg\n",
      "\n",
      "image 1/1 C:\\SEMESTER 5\\PCD (Image Processing)\\Plat Nomor2\\train\\images\\0_IDN_220113012101_20240619135538136_X174Y452W30H10_Motorcycle_Audi_unknown_050_01_01628_jpg.rf.34e0da469f91aea57aec2496444693c5.jpg: 384x640 4 Motors, 4 plats, 81.5ms\n",
      "Speed: 3.0ms preprocess, 81.5ms inference, 1.0ms postprocess per image at shape (1, 3, 384, 640)\n",
      "Hasil deteksi disimpan di: C:/SEMESTER 5/PCD (Image Processing)/Plat Nomor2/train/results\\0_IDN_220113012101_20240619135538136_X174Y452W30H10_Motorcycle_Audi_unknown_050_01_01628_jpg.rf.34e0da469f91aea57aec2496444693c5.jpg\n",
      "\n",
      "image 1/1 C:\\SEMESTER 5\\PCD (Image Processing)\\Plat Nomor2\\train\\images\\0_IDN_220313032101_20240619081921737_X266Y333W44H14_Motorcycle_Audi_unknown_001_01_02570_jpg.rf.23e38535a8fe4bd9a69732d39523ccf1.jpg: 384x640 7 Motors, 2 plats, 78.7ms\n",
      "Speed: 2.0ms preprocess, 78.7ms inference, 2.0ms postprocess per image at shape (1, 3, 384, 640)\n",
      "Hasil deteksi disimpan di: C:/SEMESTER 5/PCD (Image Processing)/Plat Nomor2/train/results\\0_IDN_220313032101_20240619081921737_X266Y333W44H14_Motorcycle_Audi_unknown_001_01_02570_jpg.rf.23e38535a8fe4bd9a69732d39523ccf1.jpg\n",
      "\n",
      "image 1/1 C:\\SEMESTER 5\\PCD (Image Processing)\\Plat Nomor2\\train\\images\\0_MYS_220113012101_20240619004903098_X328Y312W72H19_SUV_MPV_Toyota_black_091_01_06045_jpg.rf.fbf0f255bc94234e16a91584da7d70ab.jpg: 384x640 1 Mobil, 1 plat, 82.6ms\n",
      "Speed: 2.0ms preprocess, 82.6ms inference, 1.0ms postprocess per image at shape (1, 3, 384, 640)\n",
      "Hasil deteksi disimpan di: C:/SEMESTER 5/PCD (Image Processing)/Plat Nomor2/train/results\\0_MYS_220113012101_20240619004903098_X328Y312W72H19_SUV_MPV_Toyota_black_091_01_06045_jpg.rf.fbf0f255bc94234e16a91584da7d70ab.jpg\n",
      "\n",
      "image 1/1 C:\\SEMESTER 5\\PCD (Image Processing)\\Plat Nomor2\\train\\images\\0_MYS_220113012101_20240619060343665_X349Y438W39H11_Van_Isuzu_white_076_01_03036_jpg.rf.eae9c4eac0bbd008da140e31176d172c.jpg: 384x640 1 Mobil, 1 Motor, 1 plat, 80.0ms\n",
      "Speed: 2.0ms preprocess, 80.0ms inference, 1.0ms postprocess per image at shape (1, 3, 384, 640)\n",
      "Hasil deteksi disimpan di: C:/SEMESTER 5/PCD (Image Processing)/Plat Nomor2/train/results\\0_MYS_220113012101_20240619060343665_X349Y438W39H11_Van_Isuzu_white_076_01_03036_jpg.rf.eae9c4eac0bbd008da140e31176d172c.jpg\n",
      "\n",
      "image 1/1 C:\\SEMESTER 5\\PCD (Image Processing)\\Plat Nomor2\\train\\images\\0_MYS_220313032101_20240619101234467_X1424Y370W30H10_Motorcycle_Audi_unknown_045_03_06121_jpg.rf.c7d7bee4de2196c9b731e5906fe15bc4.jpg: 384x640 2 Motors, 1 Truk, 1 plat, 72.5ms\n",
      "Speed: 3.0ms preprocess, 72.5ms inference, 2.0ms postprocess per image at shape (1, 3, 384, 640)\n",
      "Hasil deteksi disimpan di: C:/SEMESTER 5/PCD (Image Processing)/Plat Nomor2/train/results\\0_MYS_220313032101_20240619101234467_X1424Y370W30H10_Motorcycle_Audi_unknown_045_03_06121_jpg.rf.c7d7bee4de2196c9b731e5906fe15bc4.jpg\n",
      "\n",
      "image 1/1 C:\\SEMESTER 5\\PCD (Image Processing)\\Plat Nomor2\\train\\images\\0_MYS_220313032101_20240619121313477_X312Y491W26H17_Motorcycle_Audi_unknown_008_01_02805_jpg.rf.0a6d965b2d42bb99f6aa116b3cf57add.jpg: 384x640 3 Motors, 1 Truk, 86.5ms\n",
      "Speed: 2.0ms preprocess, 86.5ms inference, 1.0ms postprocess per image at shape (1, 3, 384, 640)\n",
      "Hasil deteksi disimpan di: C:/SEMESTER 5/PCD (Image Processing)/Plat Nomor2/train/results\\0_MYS_220313032101_20240619121313477_X312Y491W26H17_Motorcycle_Audi_unknown_008_01_02805_jpg.rf.0a6d965b2d42bb99f6aa116b3cf57add.jpg\n",
      "\n",
      "image 1/1 C:\\SEMESTER 5\\PCD (Image Processing)\\Plat Nomor2\\train\\images\\1008HFO_AUS_220313032101_20240619163003563_X203Y392W21H9_Truck_Infiniti_black_004_01_02222_jpg.rf.bd8aac1d751da5c5c79aa60c720d11f9.jpg: 384x640 1 Mobil, 2 Motors, 1 plat, 100.3ms\n",
      "Speed: 4.0ms preprocess, 100.3ms inference, 1.0ms postprocess per image at shape (1, 3, 384, 640)\n",
      "Hasil deteksi disimpan di: C:/SEMESTER 5/PCD (Image Processing)/Plat Nomor2/train/results\\1008HFO_AUS_220313032101_20240619163003563_X203Y392W21H9_Truck_Infiniti_black_004_01_02222_jpg.rf.bd8aac1d751da5c5c79aa60c720d11f9.jpg\n",
      "\n",
      "image 1/1 C:\\SEMESTER 5\\PCD (Image Processing)\\Plat Nomor2\\train\\images\\1039XIV_IDN_220113012101_20240619170753033_X464Y552W66H18_Van_Wuling_grey_073_02_06161_jpg.rf.a52c5b73c6f5d0995c4e286b58e131ba.jpg: 384x640 1 Mobil, 4 Motors, 3 plats, 121.0ms\n",
      "Speed: 3.0ms preprocess, 121.0ms inference, 1.0ms postprocess per image at shape (1, 3, 384, 640)\n",
      "Hasil deteksi disimpan di: C:/SEMESTER 5/PCD (Image Processing)/Plat Nomor2/train/results\\1039XIV_IDN_220113012101_20240619170753033_X464Y552W66H18_Van_Wuling_grey_073_02_06161_jpg.rf.a52c5b73c6f5d0995c4e286b58e131ba.jpg\n",
      "\n",
      "image 1/1 C:\\SEMESTER 5\\PCD (Image Processing)\\Plat Nomor2\\train\\images\\120213_VNM_220113012101_20240619170040103_X542Y486W40H11_Motorcycle_Audi_unknown_095_02_05255_jpg.rf.7652a3f9ab076f94625be84b74357340.jpg: 384x640 3 Motors, 1 plat, 130.5ms\n",
      "Speed: 4.0ms preprocess, 130.5ms inference, 1.0ms postprocess per image at shape (1, 3, 384, 640)\n",
      "Hasil deteksi disimpan di: C:/SEMESTER 5/PCD (Image Processing)/Plat Nomor2/train/results\\120213_VNM_220113012101_20240619170040103_X542Y486W40H11_Motorcycle_Audi_unknown_095_02_05255_jpg.rf.7652a3f9ab076f94625be84b74357340.jpg\n",
      "\n",
      "image 1/1 C:\\SEMESTER 5\\PCD (Image Processing)\\Plat Nomor2\\train\\images\\120413_IDN_220313032101_20240619162937322_X109Y888W59H43_Motorcycle_Audi_unknown_000_01_02169_jpg.rf.f95d1222bdb0809279556cced8ac74da.jpg: 384x640 1 Mobil, 2 Motors, 1 plat, 127.9ms\n",
      "Speed: 3.0ms preprocess, 127.9ms inference, 2.4ms postprocess per image at shape (1, 3, 384, 640)\n",
      "Hasil deteksi disimpan di: C:/SEMESTER 5/PCD (Image Processing)/Plat Nomor2/train/results\\120413_IDN_220313032101_20240619162937322_X109Y888W59H43_Motorcycle_Audi_unknown_000_01_02169_jpg.rf.f95d1222bdb0809279556cced8ac74da.jpg\n",
      "\n",
      "image 1/1 C:\\SEMESTER 5\\PCD (Image Processing)\\Plat Nomor2\\train\\images\\121377_IDN_220313032101_20240619152900818_X888Y739W101H24_SUV_MPV_Mitsubishi_brown_069_02_02571_jpg.rf.2bdeb20785017b7019eb59dae656e213.jpg: 384x640 1 Mobil, 3 Motors, 2 plats, 90.3ms\n",
      "Speed: 3.0ms preprocess, 90.3ms inference, 1.0ms postprocess per image at shape (1, 3, 384, 640)\n",
      "Hasil deteksi disimpan di: C:/SEMESTER 5/PCD (Image Processing)/Plat Nomor2/train/results\\121377_IDN_220313032101_20240619152900818_X888Y739W101H24_SUV_MPV_Mitsubishi_brown_069_02_02571_jpg.rf.2bdeb20785017b7019eb59dae656e213.jpg\n",
      "\n",
      "image 1/1 C:\\SEMESTER 5\\PCD (Image Processing)\\Plat Nomor2\\train\\images\\12481VII_IDN_220113012101_20240619065639417_X317Y389W33H12_Motorcycle_Audi_unknown_120_01_06458_jpg.rf.4a7988283ec91621d561111e8b39e9d2.jpg: 384x640 2 Motors, 1 plat, 102.9ms\n",
      "Speed: 2.0ms preprocess, 102.9ms inference, 1.0ms postprocess per image at shape (1, 3, 384, 640)\n",
      "Hasil deteksi disimpan di: C:/SEMESTER 5/PCD (Image Processing)/Plat Nomor2/train/results\\12481VII_IDN_220113012101_20240619065639417_X317Y389W33H12_Motorcycle_Audi_unknown_120_01_06458_jpg.rf.4a7988283ec91621d561111e8b39e9d2.jpg\n",
      "\n",
      "image 1/1 C:\\SEMESTER 5\\PCD (Image Processing)\\Plat Nomor2\\train\\images\\1353WJ_IDN_220113012101_20240619004826618_X254Y550W70H21_SUV_MPV_Baojun_white_084_01_06025_jpg.rf.5cc210449b6bb27f3d7c4673ff26330a.jpg: 384x640 1 Mobil, 1 plat, 95.0ms\n",
      "Speed: 2.0ms preprocess, 95.0ms inference, 1.0ms postprocess per image at shape (1, 3, 384, 640)\n",
      "Hasil deteksi disimpan di: C:/SEMESTER 5/PCD (Image Processing)/Plat Nomor2/train/results\\1353WJ_IDN_220113012101_20240619004826618_X254Y550W70H21_SUV_MPV_Baojun_white_084_01_06025_jpg.rf.5cc210449b6bb27f3d7c4673ff26330a.jpg\n",
      "\n",
      "image 1/1 C:\\SEMESTER 5\\PCD (Image Processing)\\Plat Nomor2\\train\\images\\1364UYU_MYS_220313032101_20240619175836377_X712Y873W86H30_Van_Honda_black_060_02_01694_jpg.rf.00033f446303f00a1a8c34d1ce0b7b28.jpg: 384x640 1 Mobil, 7 Motors, 2 plats, 78.8ms\n",
      "Speed: 2.0ms preprocess, 78.8ms inference, 1.0ms postprocess per image at shape (1, 3, 384, 640)\n",
      "Hasil deteksi disimpan di: C:/SEMESTER 5/PCD (Image Processing)/Plat Nomor2/train/results\\1364UYU_MYS_220313032101_20240619175836377_X712Y873W86H30_Van_Honda_black_060_02_01694_jpg.rf.00033f446303f00a1a8c34d1ce0b7b28.jpg\n",
      "\n",
      "image 1/1 C:\\SEMESTER 5\\PCD (Image Processing)\\Plat Nomor2\\train\\images\\1373WMG_AUS_220113012101_20240619001445474_X302Y508W69H19_SUV_MPV_Wuling_grey_075_01_05016_jpg.rf.39db50c072f7b7e0acf9c5ef12b7dd36.jpg: 384x640 1 Mobil, 1 Motor, 2 plats, 78.3ms\n",
      "Speed: 3.0ms preprocess, 78.3ms inference, 1.0ms postprocess per image at shape (1, 3, 384, 640)\n",
      "Hasil deteksi disimpan di: C:/SEMESTER 5/PCD (Image Processing)/Plat Nomor2/train/results\\1373WMG_AUS_220113012101_20240619001445474_X302Y508W69H19_SUV_MPV_Wuling_grey_075_01_05016_jpg.rf.39db50c072f7b7e0acf9c5ef12b7dd36.jpg\n",
      "\n",
      "image 1/1 C:\\SEMESTER 5\\PCD (Image Processing)\\Plat Nomor2\\train\\images\\14III_IDN_220113012101_20240619065100854_X272Y520W71H23_SUV_MPV_Suzuki_grey_086_01_06005_jpg.rf.54401d955164c07a4377fa9931422b32.jpg: 384x640 1 Mobil, 2 Motors, 2 plats, 98.2ms\n",
      "Speed: 2.0ms preprocess, 98.2ms inference, 1.0ms postprocess per image at shape (1, 3, 384, 640)\n",
      "Hasil deteksi disimpan di: C:/SEMESTER 5/PCD (Image Processing)/Plat Nomor2/train/results\\14III_IDN_220113012101_20240619065100854_X272Y520W71H23_SUV_MPV_Suzuki_grey_086_01_06005_jpg.rf.54401d955164c07a4377fa9931422b32.jpg\n",
      "\n",
      "image 1/1 C:\\SEMESTER 5\\PCD (Image Processing)\\Plat Nomor2\\train\\images\\1575DZC_IDN_220313032101_20240619082736611_X844Y739W107H32_SUV_MPV_Honda_white_080_02_03512_jpg.rf.d06379fd69db021a4b00105e4d2db433.jpg: 384x640 2 Mobils, 1 Motor, 2 plats, 91.0ms\n",
      "Speed: 2.5ms preprocess, 91.0ms inference, 1.0ms postprocess per image at shape (1, 3, 384, 640)\n",
      "Hasil deteksi disimpan di: C:/SEMESTER 5/PCD (Image Processing)/Plat Nomor2/train/results\\1575DZC_IDN_220313032101_20240619082736611_X844Y739W107H32_SUV_MPV_Honda_white_080_02_03512_jpg.rf.d06379fd69db021a4b00105e4d2db433.jpg\n",
      "\n",
      "image 1/1 C:\\SEMESTER 5\\PCD (Image Processing)\\Plat Nomor2\\train\\images\\1638800_IDN_220113012101_20240619103037437_X231Y536W70H23_Truck_Nissan_blue_071_01_03509_jpg.rf.23e5f6899f6628a57445a3a27bbd03f9.jpg: 384x640 1 Mobil, 1 Motor, 1 plat, 88.4ms\n",
      "Speed: 2.0ms preprocess, 88.4ms inference, 1.0ms postprocess per image at shape (1, 3, 384, 640)\n",
      "Hasil deteksi disimpan di: C:/SEMESTER 5/PCD (Image Processing)/Plat Nomor2/train/results\\1638800_IDN_220113012101_20240619103037437_X231Y536W70H23_Truck_Nissan_blue_071_01_03509_jpg.rf.23e5f6899f6628a57445a3a27bbd03f9.jpg\n",
      "\n",
      "image 1/1 C:\\SEMESTER 5\\PCD (Image Processing)\\Plat Nomor2\\train\\images\\17PDL_IDN_220313032101_20240619171220656_X1345Y725W48H22_Motorcycle_Audi_unknown_051_03_00746_jpg.rf.5ad10232f42bcfe974f9b462ffc0db80.jpg: 384x640 3 Mobils, 15 Motors, 9 plats, 81.0ms\n",
      "Speed: 2.0ms preprocess, 81.0ms inference, 2.0ms postprocess per image at shape (1, 3, 384, 640)\n",
      "Hasil deteksi disimpan di: C:/SEMESTER 5/PCD (Image Processing)/Plat Nomor2/train/results\\17PDL_IDN_220313032101_20240619171220656_X1345Y725W48H22_Motorcycle_Audi_unknown_051_03_00746_jpg.rf.5ad10232f42bcfe974f9b462ffc0db80.jpg\n",
      "\n",
      "image 1/1 C:\\SEMESTER 5\\PCD (Image Processing)\\Plat Nomor2\\train\\images\\1928000_IDN_220113012101_20240619134034158_X495Y545W67H20_Car_Honda_blue_068_02_09445_jpg.rf.2f4ab982372e2a32fde6da2eee1dfcb4.jpg: 384x640 1 Mobil, 5 Motors, 1 Truk, 3 plats, 94.8ms\n",
      "Speed: 2.0ms preprocess, 94.8ms inference, 1.0ms postprocess per image at shape (1, 3, 384, 640)\n",
      "Hasil deteksi disimpan di: C:/SEMESTER 5/PCD (Image Processing)/Plat Nomor2/train/results\\1928000_IDN_220113012101_20240619134034158_X495Y545W67H20_Car_Honda_blue_068_02_09445_jpg.rf.2f4ab982372e2a32fde6da2eee1dfcb4.jpg\n",
      "\n",
      "image 1/1 C:\\SEMESTER 5\\PCD (Image Processing)\\Plat Nomor2\\train\\images\\2080II_MMR_220113012101_20240619161647894_X945Y442W28H14_Motorcycle_Audi_unknown_057_03_09884_jpg.rf.d462a995db27efb283a67b6dfd368a6e.jpg: 384x640 6 Motors, 4 plats, 84.7ms\n",
      "Speed: 1.0ms preprocess, 84.7ms inference, 1.0ms postprocess per image at shape (1, 3, 384, 640)\n",
      "Hasil deteksi disimpan di: C:/SEMESTER 5/PCD (Image Processing)/Plat Nomor2/train/results\\2080II_MMR_220113012101_20240619161647894_X945Y442W28H14_Motorcycle_Audi_unknown_057_03_09884_jpg.rf.d462a995db27efb283a67b6dfd368a6e.jpg\n",
      "\n",
      "image 1/1 C:\\SEMESTER 5\\PCD (Image Processing)\\Plat Nomor2\\train\\images\\2099III_AUS_220113012101_20240619173256785_X1077Y488W37H13_Motorcycle_Audi_unknown_069_03_09822_jpg.rf.7a82fb4a1cf8e194d9d5136a399cd34e.jpg: 384x640 3 Motors, 2 plats, 76.5ms\n",
      "Speed: 2.0ms preprocess, 76.5ms inference, 1.0ms postprocess per image at shape (1, 3, 384, 640)\n",
      "Hasil deteksi disimpan di: C:/SEMESTER 5/PCD (Image Processing)/Plat Nomor2/train/results\\2099III_AUS_220113012101_20240619173256785_X1077Y488W37H13_Motorcycle_Audi_unknown_069_03_09822_jpg.rf.7a82fb4a1cf8e194d9d5136a399cd34e.jpg\n",
      "\n",
      "image 1/1 C:\\SEMESTER 5\\PCD (Image Processing)\\Plat Nomor2\\train\\images\\2184III_IDN_220113012101_20240619125347172_X904Y417W39H14_Motorcycle_Audi_unknown_079_03_02888_jpg.rf.e8c99c843cda334f7ff18bb44bd3ca40.jpg: 384x640 3 Motors, 4 plats, 80.4ms\n",
      "Speed: 2.0ms preprocess, 80.4ms inference, 1.1ms postprocess per image at shape (1, 3, 384, 640)\n",
      "Hasil deteksi disimpan di: C:/SEMESTER 5/PCD (Image Processing)/Plat Nomor2/train/results\\2184III_IDN_220113012101_20240619125347172_X904Y417W39H14_Motorcycle_Audi_unknown_079_03_02888_jpg.rf.e8c99c843cda334f7ff18bb44bd3ca40.jpg\n",
      "\n",
      "image 1/1 C:\\SEMESTER 5\\PCD (Image Processing)\\Plat Nomor2\\train\\images\\230335_IDN_220313032101_20240619162358858_X781Y761W88H28_SUV_MPV_Toyota_black_016_02_01194_jpg.rf.a8aec1f1e4dd3b14e52140834da7b11c.jpg: 384x640 3 Mobils, 5 Motors, 2 plats, 75.1ms\n",
      "Speed: 2.0ms preprocess, 75.1ms inference, 1.0ms postprocess per image at shape (1, 3, 384, 640)\n",
      "Hasil deteksi disimpan di: C:/SEMESTER 5/PCD (Image Processing)/Plat Nomor2/train/results\\230335_IDN_220313032101_20240619162358858_X781Y761W88H28_SUV_MPV_Toyota_black_016_02_01194_jpg.rf.a8aec1f1e4dd3b14e52140834da7b11c.jpg\n",
      "\n",
      "image 1/1 C:\\SEMESTER 5\\PCD (Image Processing)\\Plat Nomor2\\train\\images\\2441LE_IDN_220313032101_20240619181136132_X1622Y608W48H23_Motorcycle_Audi_unknown_020_03_04059_jpg.rf.de144a0273c461f90d3d947617c04de7.jpg: 384x640 4 Mobils, 7 Motors, 2 plats, 105.5ms\n",
      "Speed: 3.0ms preprocess, 105.5ms inference, 1.0ms postprocess per image at shape (1, 3, 384, 640)\n",
      "Hasil deteksi disimpan di: C:/SEMESTER 5/PCD (Image Processing)/Plat Nomor2/train/results\\2441LE_IDN_220313032101_20240619181136132_X1622Y608W48H23_Motorcycle_Audi_unknown_020_03_04059_jpg.rf.de144a0273c461f90d3d947617c04de7.jpg\n",
      "\n",
      "image 1/1 C:\\SEMESTER 5\\PCD (Image Processing)\\Plat Nomor2\\train\\images\\2570ALF_IDN_220313032101_20240619084747559_X1560Y613W48H22_Motorcycle_Audi_unknown_033_03_05981_jpg.rf.6fdfffa5ab425a44eeea03e7c64b4ab7.jpg: 384x640 3 Mobils, 8 Motors, 5 plats, 80.5ms\n",
      "Speed: 3.0ms preprocess, 80.5ms inference, 1.0ms postprocess per image at shape (1, 3, 384, 640)\n",
      "Hasil deteksi disimpan di: C:/SEMESTER 5/PCD (Image Processing)/Plat Nomor2/train/results\\2570ALF_IDN_220313032101_20240619084747559_X1560Y613W48H22_Motorcycle_Audi_unknown_033_03_05981_jpg.rf.6fdfffa5ab425a44eeea03e7c64b4ab7.jpg\n",
      "\n",
      "image 1/1 C:\\SEMESTER 5\\PCD (Image Processing)\\Plat Nomor2\\train\\images\\2721UFB_IDN_220113012101_20240619180716919_X284Y576W87H26_SUV_MPV_Honda_grey_068_01_05127_jpg.rf.ee2774daa37eaccff19bd7421c66399c.jpg: 384x640 2 Mobils, 5 Motors, 4 plats, 86.5ms\n",
      "Speed: 2.0ms preprocess, 86.5ms inference, 1.0ms postprocess per image at shape (1, 3, 384, 640)\n",
      "Hasil deteksi disimpan di: C:/SEMESTER 5/PCD (Image Processing)/Plat Nomor2/train/results\\2721UFB_IDN_220113012101_20240619180716919_X284Y576W87H26_SUV_MPV_Honda_grey_068_01_05127_jpg.rf.ee2774daa37eaccff19bd7421c66399c.jpg\n",
      "\n",
      "image 1/1 C:\\SEMESTER 5\\PCD (Image Processing)\\Plat Nomor2\\train\\images\\276ROU_IDN_220313032101_20240619153848949_X1180Y776W74H27_SUV_MPV_Toyota_white_058_02_04068_jpg.rf.6d1804558a8507dcffc1dbc3741152a8.jpg: 384x640 2 Mobils, 1 Motor, 2 plats, 96.5ms\n",
      "Speed: 3.0ms preprocess, 96.5ms inference, 1.0ms postprocess per image at shape (1, 3, 384, 640)\n",
      "Hasil deteksi disimpan di: C:/SEMESTER 5/PCD (Image Processing)/Plat Nomor2/train/results\\276ROU_IDN_220313032101_20240619153848949_X1180Y776W74H27_SUV_MPV_Toyota_white_058_02_04068_jpg.rf.6d1804558a8507dcffc1dbc3741152a8.jpg\n",
      "\n",
      "image 1/1 C:\\SEMESTER 5\\PCD (Image Processing)\\Plat Nomor2\\train\\images\\2813VR_MYS_220313032101_20240619074108959_X652Y716W32H16_Motorcycle_Audi_unknown_075_02_08002_jpg.rf.cf825502996cd31e51c9122b6a89d7f4.jpg: 384x640 1 Mobil, 5 Motors, 2 plats, 92.6ms\n",
      "Speed: 3.0ms preprocess, 92.6ms inference, 1.0ms postprocess per image at shape (1, 3, 384, 640)\n",
      "Hasil deteksi disimpan di: C:/SEMESTER 5/PCD (Image Processing)/Plat Nomor2/train/results\\2813VR_MYS_220313032101_20240619074108959_X652Y716W32H16_Motorcycle_Audi_unknown_075_02_08002_jpg.rf.cf825502996cd31e51c9122b6a89d7f4.jpg\n",
      "\n",
      "image 1/1 C:\\SEMESTER 5\\PCD (Image Processing)\\Plat Nomor2\\train\\images\\3055LKZ_IDN_220313032101_20240619002927660_X881Y714W44H27_Motorcycle_Audi_unknown_000_02_07803_jpg.rf.ea1ed2fed23dfef0d48a337cf09293f8.jpg: 384x640 1 Motor, 143.4ms\n",
      "Speed: 2.0ms preprocess, 143.4ms inference, 2.0ms postprocess per image at shape (1, 3, 384, 640)\n",
      "Hasil deteksi disimpan di: C:/SEMESTER 5/PCD (Image Processing)/Plat Nomor2/train/results\\3055LKZ_IDN_220313032101_20240619002927660_X881Y714W44H27_Motorcycle_Audi_unknown_000_02_07803_jpg.rf.ea1ed2fed23dfef0d48a337cf09293f8.jpg\n",
      "\n",
      "image 1/1 C:\\SEMESTER 5\\PCD (Image Processing)\\Plat Nomor2\\train\\images\\3063KWF_IDN_220313032101_20240619104302834_X105Y916W40H28_Motorcycle_Audi_unknown_000_01_00313_jpg.rf.69fee8388417c2bfa48d9eb5fb699c41.jpg: 384x640 1 Mobil, 3 Motors, 2 plats, 105.5ms\n",
      "Speed: 4.0ms preprocess, 105.5ms inference, 1.0ms postprocess per image at shape (1, 3, 384, 640)\n",
      "Hasil deteksi disimpan di: C:/SEMESTER 5/PCD (Image Processing)/Plat Nomor2/train/results\\3063KWF_IDN_220313032101_20240619104302834_X105Y916W40H28_Motorcycle_Audi_unknown_000_01_00313_jpg.rf.69fee8388417c2bfa48d9eb5fb699c41.jpg\n",
      "\n",
      "image 1/1 C:\\SEMESTER 5\\PCD (Image Processing)\\Plat Nomor2\\train\\images\\3090BZZ_IDN_220313032101_20240619181128612_X1150Y700W49H18_Motorcycle_Audi_unknown_067_02_04034_jpg.rf.231b25bdbe29cebad0e4237d04b98441.jpg: 384x640 1 Bajaj, 1 Mobil, 4 Motors, 1 plat, 100.5ms\n",
      "Speed: 3.0ms preprocess, 100.5ms inference, 1.0ms postprocess per image at shape (1, 3, 384, 640)\n",
      "Hasil deteksi disimpan di: C:/SEMESTER 5/PCD (Image Processing)/Plat Nomor2/train/results\\3090BZZ_IDN_220313032101_20240619181128612_X1150Y700W49H18_Motorcycle_Audi_unknown_067_02_04034_jpg.rf.231b25bdbe29cebad0e4237d04b98441.jpg\n",
      "\n",
      "image 1/1 C:\\SEMESTER 5\\PCD (Image Processing)\\Plat Nomor2\\train\\images\\3096TNE_IDN_220313032101_20240619174534060_X1568Y633W48H14_Motorcycle_Audi_unknown_010_03_08816_jpg.rf.cf958ec84a552e4af66d05634eb5d186.jpg: 384x640 1 Bajaj, 1 Mobil, 8 Motors, 1 Truk, 8 plats, 109.5ms\n",
      "Speed: 2.0ms preprocess, 109.5ms inference, 1.0ms postprocess per image at shape (1, 3, 384, 640)\n",
      "Hasil deteksi disimpan di: C:/SEMESTER 5/PCD (Image Processing)/Plat Nomor2/train/results\\3096TNE_IDN_220313032101_20240619174534060_X1568Y633W48H14_Motorcycle_Audi_unknown_010_03_08816_jpg.rf.cf958ec84a552e4af66d05634eb5d186.jpg\n",
      "\n",
      "image 1/1 C:\\SEMESTER 5\\PCD (Image Processing)\\Plat Nomor2\\train\\images\\3130000_IDN_220113012101_20240619075521374_X674Y559W71H21_Car_Toyota_blue_061_02_04142_jpg.rf.f2461af043c1e4f355c99f702d7afb63.jpg: 384x640 2 Mobils, 3 Motors, 2 plats, 120.9ms\n",
      "Speed: 2.0ms preprocess, 120.9ms inference, 1.0ms postprocess per image at shape (1, 3, 384, 640)\n",
      "Hasil deteksi disimpan di: C:/SEMESTER 5/PCD (Image Processing)/Plat Nomor2/train/results\\3130000_IDN_220113012101_20240619075521374_X674Y559W71H21_Car_Toyota_blue_061_02_04142_jpg.rf.f2461af043c1e4f355c99f702d7afb63.jpg\n",
      "\n",
      "image 1/1 C:\\SEMESTER 5\\PCD (Image Processing)\\Plat Nomor2\\train\\images\\3142300_IDN_220113012101_20240619141415863_X757Y524W69H19_Car_Toyota_blue_062_02_04148_jpg.rf.1631b833cb6115a592d3631977936c1f.jpg: 384x640 1 Mobil, 1 Motor, 1 plat, 94.9ms\n",
      "Speed: 2.0ms preprocess, 94.9ms inference, 1.0ms postprocess per image at shape (1, 3, 384, 640)\n",
      "Hasil deteksi disimpan di: C:/SEMESTER 5/PCD (Image Processing)/Plat Nomor2/train/results\\3142300_IDN_220113012101_20240619141415863_X757Y524W69H19_Car_Toyota_blue_062_02_04148_jpg.rf.1631b833cb6115a592d3631977936c1f.jpg\n",
      "\n",
      "image 1/1 C:\\SEMESTER 5\\PCD (Image Processing)\\Plat Nomor2\\train\\images\\3209UDI_IDN_220113012101_20240619103514211_X463Y265W30H11_Motorcycle_Audi_unknown_109_01_03944_jpg.rf.2350298b7b8087ce5ce5a053f743e21e.jpg: 384x640 5 Motors, 3 plats, 92.6ms\n",
      "Speed: 2.0ms preprocess, 92.6ms inference, 1.0ms postprocess per image at shape (1, 3, 384, 640)\n",
      "Hasil deteksi disimpan di: C:/SEMESTER 5/PCD (Image Processing)/Plat Nomor2/train/results\\3209UDI_IDN_220113012101_20240619103514211_X463Y265W30H11_Motorcycle_Audi_unknown_109_01_03944_jpg.rf.2350298b7b8087ce5ce5a053f743e21e.jpg\n",
      "\n",
      "image 1/1 C:\\SEMESTER 5\\PCD (Image Processing)\\Plat Nomor2\\train\\images\\3214P_VNM_220313032101_20240619183631457_X1440Y586W40H20_Motorcycle_Audi_unknown_009_03_09810_jpg.rf.99d49449d13491adc4c2f8101024f775.jpg: 384x640 6 Mobils, 9 Motors, 3 plats, 88.3ms\n",
      "Speed: 3.0ms preprocess, 88.3ms inference, 1.0ms postprocess per image at shape (1, 3, 384, 640)\n",
      "Hasil deteksi disimpan di: C:/SEMESTER 5/PCD (Image Processing)/Plat Nomor2/train/results\\3214P_VNM_220313032101_20240619183631457_X1440Y586W40H20_Motorcycle_Audi_unknown_009_03_09810_jpg.rf.99d49449d13491adc4c2f8101024f775.jpg\n",
      "\n",
      "image 1/1 C:\\SEMESTER 5\\PCD (Image Processing)\\Plat Nomor2\\train\\images\\3231YYH_IDN_220113012101_20240619170055223_X1052Y500W37H20_Motorcycle_Audi_unknown_001_03_05264_jpg.rf.fc791744e956ef38c0b2949aaeb137fc.jpg: 384x640 2 Motors, 1 plat, 79.8ms\n",
      "Speed: 1.0ms preprocess, 79.8ms inference, 1.0ms postprocess per image at shape (1, 3, 384, 640)\n",
      "Hasil deteksi disimpan di: C:/SEMESTER 5/PCD (Image Processing)/Plat Nomor2/train/results\\3231YYH_IDN_220113012101_20240619170055223_X1052Y500W37H20_Motorcycle_Audi_unknown_001_03_05264_jpg.rf.fc791744e956ef38c0b2949aaeb137fc.jpg\n",
      "\n",
      "image 1/1 C:\\SEMESTER 5\\PCD (Image Processing)\\Plat Nomor2\\train\\images\\3269UDI_IDN_220113012101_20240619063935897_X742Y339W30H11_Motorcycle_Audi_unknown_074_02_05020_jpg.rf.8ac1b78f2781144869e4c021ba3b1001.jpg: 384x640 1 Mobil, 3 Motors, 1 plat, 76.1ms\n",
      "Speed: 2.0ms preprocess, 76.1ms inference, 1.0ms postprocess per image at shape (1, 3, 384, 640)\n",
      "Hasil deteksi disimpan di: C:/SEMESTER 5/PCD (Image Processing)/Plat Nomor2/train/results\\3269UDI_IDN_220113012101_20240619063935897_X742Y339W30H11_Motorcycle_Audi_unknown_074_02_05020_jpg.rf.8ac1b78f2781144869e4c021ba3b1001.jpg\n",
      "\n",
      "image 1/1 C:\\SEMESTER 5\\PCD (Image Processing)\\Plat Nomor2\\train\\images\\3363T_MYS_220113012101_20240619182147144_X683Y483W26H15_Motorcycle_Audi_unknown_000_02_07045_jpg.rf.39708ace0ffaae907d5e670936176555.jpg: 384x640 1 Motor, 98.4ms\n",
      "Speed: 1.0ms preprocess, 98.4ms inference, 1.0ms postprocess per image at shape (1, 3, 384, 640)\n",
      "Hasil deteksi disimpan di: C:/SEMESTER 5/PCD (Image Processing)/Plat Nomor2/train/results\\3363T_MYS_220113012101_20240619182147144_X683Y483W26H15_Motorcycle_Audi_unknown_000_02_07045_jpg.rf.39708ace0ffaae907d5e670936176555.jpg\n",
      "\n",
      "image 1/1 C:\\SEMESTER 5\\PCD (Image Processing)\\Plat Nomor2\\train\\images\\3399YW_IDN_220313032101_20240619151427147_X1399Y602W42H20_Motorcycle_Audi_unknown_048_03_00317_jpg.rf.ecc42e2b342410b7c10871d97d4be79d.jpg: 384x640 3 Mobils, 3 Motors, 3 plats, 106.5ms\n",
      "Speed: 3.0ms preprocess, 106.5ms inference, 1.0ms postprocess per image at shape (1, 3, 384, 640)\n",
      "Hasil deteksi disimpan di: C:/SEMESTER 5/PCD (Image Processing)/Plat Nomor2/train/results\\3399YW_IDN_220313032101_20240619151427147_X1399Y602W42H20_Motorcycle_Audi_unknown_048_03_00317_jpg.rf.ecc42e2b342410b7c10871d97d4be79d.jpg\n",
      "\n",
      "image 1/1 C:\\SEMESTER 5\\PCD (Image Processing)\\Plat Nomor2\\train\\images\\3411U_MYS_220313032101_20240619180918052_X1720Y590W48H18_Motorcycle_Audi_unknown_004_03_03594_jpg.rf.7b8134fc9d04183b0e2991e04f5c6d96.jpg: 384x640 2 Mobils, 3 Motors, 1 plat, 118.5ms\n",
      "Speed: 4.0ms preprocess, 118.5ms inference, 1.0ms postprocess per image at shape (1, 3, 384, 640)\n",
      "Hasil deteksi disimpan di: C:/SEMESTER 5/PCD (Image Processing)/Plat Nomor2/train/results\\3411U_MYS_220313032101_20240619180918052_X1720Y590W48H18_Motorcycle_Audi_unknown_004_03_03594_jpg.rf.7b8134fc9d04183b0e2991e04f5c6d96.jpg\n",
      "\n",
      "image 1/1 C:\\SEMESTER 5\\PCD (Image Processing)\\Plat Nomor2\\train\\images\\3411_MYS_220313032101_20240619180851653_X1848Y875W42H18_Motorcycle_Audi_unknown_000_03_03492_jpg.rf.68288f2374cb261277f390139648c8b8.jpg: 384x640 1 Mobil, 8 Motors, 2 plats, 99.5ms\n",
      "Speed: 2.0ms preprocess, 99.5ms inference, 1.0ms postprocess per image at shape (1, 3, 384, 640)\n",
      "Hasil deteksi disimpan di: C:/SEMESTER 5/PCD (Image Processing)/Plat Nomor2/train/results\\3411_MYS_220313032101_20240619180851653_X1848Y875W42H18_Motorcycle_Audi_unknown_000_03_03492_jpg.rf.68288f2374cb261277f390139648c8b8.jpg\n",
      "\n",
      "image 1/1 C:\\SEMESTER 5\\PCD (Image Processing)\\Plat Nomor2\\train\\images\\3413UWY_IDN_220313032101_20240619140256415_X1470Y590W42H22_Motorcycle_Audi_unknown_058_03_08787_jpg.rf.d2ad555729dcbc04af1248ea47a58a91.jpg: 384x640 2 Mobils, 3 Motors, 2 plats, 77.0ms\n",
      "Speed: 2.0ms preprocess, 77.0ms inference, 1.0ms postprocess per image at shape (1, 3, 384, 640)\n",
      "Hasil deteksi disimpan di: C:/SEMESTER 5/PCD (Image Processing)/Plat Nomor2/train/results\\3413UWY_IDN_220313032101_20240619140256415_X1470Y590W42H22_Motorcycle_Audi_unknown_058_03_08787_jpg.rf.d2ad555729dcbc04af1248ea47a58a91.jpg\n",
      "\n",
      "image 1/1 C:\\SEMESTER 5\\PCD (Image Processing)\\Plat Nomor2\\train\\images\\3424PKF_AUS_220113012101_20240619120910037_X705Y353W35H10_Motorcycle_Audi_unknown_077_02_07024_jpg.rf.c75b355af8948a4158ed6d56e2d79455.jpg: 384x640 1 Mobil, 2 Motors, 3 plats, 73.5ms\n",
      "Speed: 2.0ms preprocess, 73.5ms inference, 1.0ms postprocess per image at shape (1, 3, 384, 640)\n",
      "Hasil deteksi disimpan di: C:/SEMESTER 5/PCD (Image Processing)/Plat Nomor2/train/results\\3424PKF_AUS_220113012101_20240619120910037_X705Y353W35H10_Motorcycle_Audi_unknown_077_02_07024_jpg.rf.c75b355af8948a4158ed6d56e2d79455.jpg\n",
      "\n",
      "image 1/1 C:\\SEMESTER 5\\PCD (Image Processing)\\Plat Nomor2\\train\\images\\34MHR_IDN_220313032101_20240619182833559_X714Y762W76H31_SUV_MPV_Honda_grey_025_02_07642_jpg.rf.b72d03dc4c4b88208efad24486d615e1.jpg: 384x640 5 Mobils, 4 Motors, 5 plats, 100.8ms\n",
      "Speed: 2.5ms preprocess, 100.8ms inference, 1.0ms postprocess per image at shape (1, 3, 384, 640)\n",
      "Hasil deteksi disimpan di: C:/SEMESTER 5/PCD (Image Processing)/Plat Nomor2/train/results\\34MHR_IDN_220313032101_20240619182833559_X714Y762W76H31_SUV_MPV_Honda_grey_025_02_07642_jpg.rf.b72d03dc4c4b88208efad24486d615e1.jpg\n",
      "\n",
      "image 1/1 C:\\SEMESTER 5\\PCD (Image Processing)\\Plat Nomor2\\train\\images\\3547P_AUS_220313032101_20240619051250077_X215Y781W44H17_Motorcycle_Audi_unknown_022_01_00984_jpg.rf.11794e566eda7cf451e8b3a7bfeaa330.jpg: 384x640 1 Motor, 1 plat, 123.8ms\n",
      "Speed: 3.8ms preprocess, 123.8ms inference, 2.0ms postprocess per image at shape (1, 3, 384, 640)\n",
      "Hasil deteksi disimpan di: C:/SEMESTER 5/PCD (Image Processing)/Plat Nomor2/train/results\\3547P_AUS_220313032101_20240619051250077_X215Y781W44H17_Motorcycle_Audi_unknown_022_01_00984_jpg.rf.11794e566eda7cf451e8b3a7bfeaa330.jpg\n",
      "\n",
      "image 1/1 C:\\SEMESTER 5\\PCD (Image Processing)\\Plat Nomor2\\train\\images\\3584PMG_IDN_220113012101_20240619104652135_X870Y509W44H11_Motorcycle_Audi_unknown_062_02_06005_jpg.rf.e84379ac4b2b7b86c8ec4137f7f91329.jpg: 384x640 2 Motors, 2 plats, 78.7ms\n",
      "Speed: 2.0ms preprocess, 78.7ms inference, 1.0ms postprocess per image at shape (1, 3, 384, 640)\n",
      "Hasil deteksi disimpan di: C:/SEMESTER 5/PCD (Image Processing)/Plat Nomor2/train/results\\3584PMG_IDN_220113012101_20240619104652135_X870Y509W44H11_Motorcycle_Audi_unknown_062_02_06005_jpg.rf.e84379ac4b2b7b86c8ec4137f7f91329.jpg\n",
      "\n",
      "image 1/1 C:\\SEMESTER 5\\PCD (Image Processing)\\Plat Nomor2\\train\\images\\3607_MYS_220313032101_20240619153857749_X971Y463W24H12_Motorcycle_Audi_unknown_089_02_04088_jpg.rf.b2181fb7c39e685753870f84a4b8233c.jpg: 384x640 2 Motors, 1 plat, 88.3ms\n",
      "Speed: 2.0ms preprocess, 88.3ms inference, 1.0ms postprocess per image at shape (1, 3, 384, 640)\n",
      "Hasil deteksi disimpan di: C:/SEMESTER 5/PCD (Image Processing)/Plat Nomor2/train/results\\3607_MYS_220313032101_20240619153857749_X971Y463W24H12_Motorcycle_Audi_unknown_089_02_04088_jpg.rf.b2181fb7c39e685753870f84a4b8233c.jpg\n",
      "\n",
      "image 1/1 C:\\SEMESTER 5\\PCD (Image Processing)\\Plat Nomor2\\train\\images\\3613PLZ_IDN_220113012101_20240619121243155_X1160Y542W35H19_Motorcycle_Audi_unknown_000_03_07639_jpg.rf.6fb8240bc0a91a2e4c0fba491b8249e2.jpg: 384x640 2 Mobils, 2 Motors, 3 plats, 91.5ms\n",
      "Speed: 2.0ms preprocess, 91.5ms inference, 1.1ms postprocess per image at shape (1, 3, 384, 640)\n",
      "Hasil deteksi disimpan di: C:/SEMESTER 5/PCD (Image Processing)/Plat Nomor2/train/results\\3613PLZ_IDN_220113012101_20240619121243155_X1160Y542W35H19_Motorcycle_Audi_unknown_000_03_07639_jpg.rf.6fb8240bc0a91a2e4c0fba491b8249e2.jpg\n",
      "\n",
      "image 1/1 C:\\SEMESTER 5\\PCD (Image Processing)\\Plat Nomor2\\train\\images\\3626UPB_IDN_220313032101_20240619145133330_X1687Y870W71H20_Motorcycle_Audi_unknown_000_03_06634_jpg.rf.f21ed6bbc44e06587beb57728253ab43.jpg: 384x640 1 Mobil, 6 Motors, 1 Truk, 3 plats, 123.4ms\n",
      "Speed: 2.0ms preprocess, 123.4ms inference, 1.0ms postprocess per image at shape (1, 3, 384, 640)\n",
      "Hasil deteksi disimpan di: C:/SEMESTER 5/PCD (Image Processing)/Plat Nomor2/train/results\\3626UPB_IDN_220313032101_20240619145133330_X1687Y870W71H20_Motorcycle_Audi_unknown_000_03_06634_jpg.rf.f21ed6bbc44e06587beb57728253ab43.jpg\n",
      "\n",
      "image 1/1 C:\\SEMESTER 5\\PCD (Image Processing)\\Plat Nomor2\\train\\images\\3635YS_IDN_220313032101_20240619160529344_X712Y664W44H16_Motorcycle_Audi_unknown_076_02_08194_jpg.rf.1c70027a37002e1a1b5836be37fd3b51.jpg: 384x640 3 Motors, 1 plat, 137.6ms\n",
      "Speed: 3.0ms preprocess, 137.6ms inference, 1.0ms postprocess per image at shape (1, 3, 384, 640)\n",
      "Hasil deteksi disimpan di: C:/SEMESTER 5/PCD (Image Processing)/Plat Nomor2/train/results\\3635YS_IDN_220313032101_20240619160529344_X712Y664W44H16_Motorcycle_Audi_unknown_076_02_08194_jpg.rf.1c70027a37002e1a1b5836be37fd3b51.jpg\n",
      "\n",
      "image 1/1 C:\\SEMESTER 5\\PCD (Image Processing)\\Plat Nomor2\\train\\images\\3760FR_IDN_220313032101_20240619164217396_X1315Y536W48H14_Motorcycle_Audi_unknown_064_03_04273_jpg.rf.41e2f301c0c98bbb209499cb87e818e3.jpg: 384x640 3 Motors, 2 plats, 146.1ms\n",
      "Speed: 3.0ms preprocess, 146.1ms inference, 1.0ms postprocess per image at shape (1, 3, 384, 640)\n",
      "Hasil deteksi disimpan di: C:/SEMESTER 5/PCD (Image Processing)/Plat Nomor2/train/results\\3760FR_IDN_220313032101_20240619164217396_X1315Y536W48H14_Motorcycle_Audi_unknown_064_03_04273_jpg.rf.41e2f301c0c98bbb209499cb87e818e3.jpg\n",
      "\n",
      "image 1/1 C:\\SEMESTER 5\\PCD (Image Processing)\\Plat Nomor2\\train\\images\\3808UB_IDN_220113012101_20240619095059471_X404Y526W40H13_Motorcycle_Audi_unknown_068_01_07832_jpg.rf.bd7368eb65e889a777ee9e3615e7fc91.jpg: 384x640 1 Mobil, 3 Motors, 2 plats, 119.9ms\n",
      "Speed: 1.0ms preprocess, 119.9ms inference, 1.0ms postprocess per image at shape (1, 3, 384, 640)\n",
      "Hasil deteksi disimpan di: C:/SEMESTER 5/PCD (Image Processing)/Plat Nomor2/train/results\\3808UB_IDN_220113012101_20240619095059471_X404Y526W40H13_Motorcycle_Audi_unknown_068_01_07832_jpg.rf.bd7368eb65e889a777ee9e3615e7fc91.jpg\n",
      "\n",
      "image 1/1 C:\\SEMESTER 5\\PCD (Image Processing)\\Plat Nomor2\\train\\images\\3_IDN_220313032101_20240619174127980_X1445Y407W48H18_Motorcycle_Audi_unknown_002_03_07816_jpg.rf.27a526534a2204f6d9cb70f74be99d30.jpg: 384x640 2 Mobils, 4 Motors, 1 Truk, 1 plat, 108.5ms\n",
      "Speed: 3.0ms preprocess, 108.5ms inference, 1.0ms postprocess per image at shape (1, 3, 384, 640)\n",
      "Hasil deteksi disimpan di: C:/SEMESTER 5/PCD (Image Processing)/Plat Nomor2/train/results\\3_IDN_220313032101_20240619174127980_X1445Y407W48H18_Motorcycle_Audi_unknown_002_03_07816_jpg.rf.27a526534a2204f6d9cb70f74be99d30.jpg\n",
      "\n",
      "image 1/1 C:\\SEMESTER 5\\PCD (Image Processing)\\Plat Nomor2\\train\\images\\401UL_IDN_220113012101_20240619174100843_X723Y514W47H19_Car_Suzuki_white_002_02_00975_jpg.rf.682ef7a01e32e3be3acd6233b0ddcef5.jpg: 384x640 1 Bajaj, 2 Mobils, 4 Motors, 2 plats, 112.1ms\n",
      "Speed: 1.0ms preprocess, 112.1ms inference, 1.0ms postprocess per image at shape (1, 3, 384, 640)\n",
      "Hasil deteksi disimpan di: C:/SEMESTER 5/PCD (Image Processing)/Plat Nomor2/train/results\\401UL_IDN_220113012101_20240619174100843_X723Y514W47H19_Car_Suzuki_white_002_02_00975_jpg.rf.682ef7a01e32e3be3acd6233b0ddcef5.jpg\n",
      "\n",
      "image 1/1 C:\\SEMESTER 5\\PCD (Image Processing)\\Plat Nomor2\\train\\images\\4070KW_IDN_220313032101_20240619135712824_X1255Y686W61H16_Motorcycle_Audi_unknown_068_03_07776_jpg.rf.e33ff7752c91cb0e1000602a0f5ea932.jpg: 384x640 2 Mobils, 2 Motors, 1 Truk, 3 plats, 118.7ms\n",
      "Speed: 3.0ms preprocess, 118.7ms inference, 1.0ms postprocess per image at shape (1, 3, 384, 640)\n",
      "Hasil deteksi disimpan di: C:/SEMESTER 5/PCD (Image Processing)/Plat Nomor2/train/results\\4070KW_IDN_220313032101_20240619135712824_X1255Y686W61H16_Motorcycle_Audi_unknown_068_03_07776_jpg.rf.e33ff7752c91cb0e1000602a0f5ea932.jpg\n",
      "\n",
      "image 1/1 C:\\SEMESTER 5\\PCD (Image Processing)\\Plat Nomor2\\train\\images\\42PBU_PHL_220313032101_20240619171001612_X234Y858W69H28_SUV_MPV_MAXUS_black_020_01_00134_jpg.rf.f2a29cca1996add15800bc4775da1e90.jpg: 384x640 3 Mobils, 9 Motors, 1 Truk, 4 plats, 148.5ms\n",
      "Speed: 12.0ms preprocess, 148.5ms inference, 1.0ms postprocess per image at shape (1, 3, 384, 640)\n",
      "Hasil deteksi disimpan di: C:/SEMESTER 5/PCD (Image Processing)/Plat Nomor2/train/results\\42PBU_PHL_220313032101_20240619171001612_X234Y858W69H28_SUV_MPV_MAXUS_black_020_01_00134_jpg.rf.f2a29cca1996add15800bc4775da1e90.jpg\n",
      "\n",
      "image 1/1 C:\\SEMESTER 5\\PCD (Image Processing)\\Plat Nomor2\\train\\images\\4333YJ_IDN_220313032101_20240619095549992_X1263Y359W30H16_Motorcycle_Audi_unknown_053_03_03993_jpg.rf.5dffc6dac6caa8e415bb1250bbe6e67a.jpg: 384x640 2 Mobils, 4 Motors, 3 plats, 159.8ms\n",
      "Speed: 3.0ms preprocess, 159.8ms inference, 1.9ms postprocess per image at shape (1, 3, 384, 640)\n",
      "Hasil deteksi disimpan di: C:/SEMESTER 5/PCD (Image Processing)/Plat Nomor2/train/results\\4333YJ_IDN_220313032101_20240619095549992_X1263Y359W30H16_Motorcycle_Audi_unknown_053_03_03993_jpg.rf.5dffc6dac6caa8e415bb1250bbe6e67a.jpg\n",
      "\n",
      "image 1/1 C:\\SEMESTER 5\\PCD (Image Processing)\\Plat Nomor2\\train\\images\\4485QK_IDN_220113012101_20240619063354699_X181Y578W47H13_Motorcycle_Audi_unknown_108_01_04667_jpg.rf.e5a254b2042a6a74fe94b7a6b8a2448c.jpg: 384x640 2 Motors, 1 plat, 128.6ms\n",
      "Speed: 3.0ms preprocess, 128.6ms inference, 1.0ms postprocess per image at shape (1, 3, 384, 640)\n",
      "Hasil deteksi disimpan di: C:/SEMESTER 5/PCD (Image Processing)/Plat Nomor2/train/results\\4485QK_IDN_220113012101_20240619063354699_X181Y578W47H13_Motorcycle_Audi_unknown_108_01_04667_jpg.rf.e5a254b2042a6a74fe94b7a6b8a2448c.jpg\n",
      "\n",
      "image 1/1 C:\\SEMESTER 5\\PCD (Image Processing)\\Plat Nomor2\\train\\images\\4892KF_IDN_220313032101_20240619085505557_X1365Y662W49H14_Motorcycle_Audi_unknown_063_03_06856_jpg.rf.62decc46d0f31f573d91a7dbe6abbecf.jpg: 384x640 1 Mobil, 2 Motors, 1 Truk, 1 plat, 129.2ms\n",
      "Speed: 2.0ms preprocess, 129.2ms inference, 1.4ms postprocess per image at shape (1, 3, 384, 640)\n",
      "Hasil deteksi disimpan di: C:/SEMESTER 5/PCD (Image Processing)/Plat Nomor2/train/results\\4892KF_IDN_220313032101_20240619085505557_X1365Y662W49H14_Motorcycle_Audi_unknown_063_03_06856_jpg.rf.62decc46d0f31f573d91a7dbe6abbecf.jpg\n",
      "\n",
      "image 1/1 C:\\SEMESTER 5\\PCD (Image Processing)\\Plat Nomor2\\train\\images\\4UNF_IDN_220313032101_20240619174805477_X850Y696W48H20_Motorcycle_Audi_unknown_057_02_09420_jpg.rf.8ccfb1a55914e00350449e57fba0d796.jpg: 384x640 2 Mobils, 2 Motors, 1 plat, 114.9ms\n",
      "Speed: 3.0ms preprocess, 114.9ms inference, 1.1ms postprocess per image at shape (1, 3, 384, 640)\n",
      "Hasil deteksi disimpan di: C:/SEMESTER 5/PCD (Image Processing)/Plat Nomor2/train/results\\4UNF_IDN_220313032101_20240619174805477_X850Y696W48H20_Motorcycle_Audi_unknown_057_02_09420_jpg.rf.8ccfb1a55914e00350449e57fba0d796.jpg\n",
      "\n",
      "image 1/1 C:\\SEMESTER 5\\PCD (Image Processing)\\Plat Nomor2\\train\\images\\507BOV_VNM_220313032101_20240619121628998_X1340Y646W38H18_Motorcycle_Audi_unknown_084_03_03234_jpg.rf.c30870d3857df53b17ecfe8f3fd048c9.jpg: 384x640 4 Motors, 1 Truk, 1 plat, 117.2ms\n",
      "Speed: 3.0ms preprocess, 117.2ms inference, 1.0ms postprocess per image at shape (1, 3, 384, 640)\n",
      "Hasil deteksi disimpan di: C:/SEMESTER 5/PCD (Image Processing)/Plat Nomor2/train/results\\507BOV_VNM_220313032101_20240619121628998_X1340Y646W38H18_Motorcycle_Audi_unknown_084_03_03234_jpg.rf.c30870d3857df53b17ecfe8f3fd048c9.jpg\n",
      "\n",
      "image 1/1 C:\\SEMESTER 5\\PCD (Image Processing)\\Plat Nomor2\\train\\images\\598UJG_IDN_220313032101_20240619114021495_X0Y0W0H0_Motorcycle_other_unknown_063_03_08554_jpg.rf.722fe2d0012876035859417fc64dc76c.jpg: 384x640 2 Mobils, 6 Motors, 3 plats, 112.9ms\n",
      "Speed: 4.0ms preprocess, 112.9ms inference, 1.0ms postprocess per image at shape (1, 3, 384, 640)\n",
      "Hasil deteksi disimpan di: C:/SEMESTER 5/PCD (Image Processing)/Plat Nomor2/train/results\\598UJG_IDN_220313032101_20240619114021495_X0Y0W0H0_Motorcycle_other_unknown_063_03_08554_jpg.rf.722fe2d0012876035859417fc64dc76c.jpg\n",
      "\n",
      "image 1/1 C:\\SEMESTER 5\\PCD (Image Processing)\\Plat Nomor2\\train\\images\\B4176_MYS_220113012101_20240619183700341_X561Y495W32H10_Motorcycle_Audi_unknown_051_02_08695_jpg.rf.149042435719975248651d9500974ec2.jpg: 384x640 1 Mobil, 7 Motors, 2 plats, 100.5ms\n",
      "Speed: 3.0ms preprocess, 100.5ms inference, 1.0ms postprocess per image at shape (1, 3, 384, 640)\n",
      "Hasil deteksi disimpan di: C:/SEMESTER 5/PCD (Image Processing)/Plat Nomor2/train/results\\B4176_MYS_220113012101_20240619183700341_X561Y495W32H10_Motorcycle_Audi_unknown_051_02_08695_jpg.rf.149042435719975248651d9500974ec2.jpg\n",
      "Semua hasil bounding box telah disimpan di: C:/SEMESTER 5/PCD (Image Processing)/Plat Nomor2/train/results\\bounding_boxes.xlsx\n"
     ]
    }
   ],
   "source": [
    "import os\n",
    "import cv2\n",
    "import pandas as pd\n",
    "from ultralytics import YOLO\n",
    "\n",
    "# Load model YOLO\n",
    "model = YOLO(\"C:/SEMESTER 5/PCD (Image Processing)/Plat Nomor2/runs/detect/train/weights/best.pt\")\n",
    "\n",
    "# Path folder input dan output\n",
    "input_folder = \"C:/SEMESTER 5/PCD (Image Processing)/Plat Nomor2/train/images\"\n",
    "output_folder = \"C:/SEMESTER 5/PCD (Image Processing)/Plat Nomor2/train/results\"\n",
    "\n",
    "# Pastikan folder output ada\n",
    "os.makedirs(output_folder, exist_ok=True)\n",
    "\n",
    "# Nama kelas sesuai data.yaml\n",
    "class_names = ['Bajaj', 'Bus', 'Mobil', 'Motor', 'Truk', 'Plat']\n",
    "\n",
    "# Membuat DataFrame untuk hasil\n",
    "columns = ['Image', 'Class', 'Confidence', 'X_min', 'Y_min', 'X_max', 'Y_max']\n",
    "df = pd.DataFrame(columns=columns)\n",
    "\n",
    "# Iterasi setiap file dalam folder input\n",
    "for filename in os.listdir(input_folder):\n",
    "    if filename.endswith(\".jpg\") or filename.endswith(\".png\"):  # Tambahkan format gambar lain jika perlu\n",
    "        try:\n",
    "            image_path = os.path.join(input_folder, filename)\n",
    "            image = cv2.imread(image_path)\n",
    "\n",
    "            if image is None:\n",
    "                raise ValueError(f\"Gambar {filename} tidak dapat dimuat.\")\n",
    "\n",
    "            # Inference dengan YOLO\n",
    "            results = model(image_path)\n",
    "            xyxy = results[0].boxes.xyxy.cpu().numpy()  # Koordinat bounding box\n",
    "            conf = results[0].boxes.conf.cpu().numpy()  # Confidence score\n",
    "            cls = results[0].boxes.cls.cpu().numpy()    # Class indices\n",
    "\n",
    "            # Gambar bounding box pada gambar\n",
    "            for box, confidence, class_id in zip(xyxy, conf, cls):\n",
    "                x_min, y_min, x_max, y_max = map(int, box)  # Konversi ke integer\n",
    "                label = f\"{class_names[int(class_id)]}: {confidence:.2f}\"  # Gunakan nama kelas dari data.yaml\n",
    "                # Gambar kotak\n",
    "                cv2.rectangle(image, (x_min, y_min), (x_max, y_max), (0, 255, 0), 2)\n",
    "                # Tambahkan teks label\n",
    "                cv2.putText(image, label, (x_min, y_min - 10), cv2.FONT_HERSHEY_SIMPLEX, 0.5, (0, 255, 0), 2)\n",
    "\n",
    "                # Simpan hasil ke DataFrame menggunakan pd.concat\n",
    "                new_row = pd.DataFrame([{\n",
    "                    'Image': filename,\n",
    "                    'Class': class_names[int(class_id)],\n",
    "                    'Confidence': confidence,\n",
    "                    'X_min': x_min,\n",
    "                    'Y_min': y_min,\n",
    "                    'X_max': x_max,\n",
    "                    'Y_max': y_max\n",
    "                }])\n",
    "                df = pd.concat([df, new_row], ignore_index=True)\n",
    "\n",
    "            # Simpan gambar hasil ke folder output\n",
    "            output_path = os.path.join(output_folder, filename)\n",
    "            cv2.imwrite(output_path, image)\n",
    "\n",
    "            print(f\"Hasil deteksi disimpan di: {output_path}\")\n",
    "        \n",
    "        except Exception as e:\n",
    "            print(f\"Terjadi error pada file {filename}: {e}\")\n",
    "\n",
    "# Simpan DataFrame ke file Excel\n",
    "excel_output_path = os.path.join(output_folder, 'bounding_boxes.xlsx')\n",
    "df.to_excel(excel_output_path, index=False)\n",
    "\n",
    "print(f\"Semua hasil bounding box telah disimpan di: {excel_output_path}\")\n",
    "\n"
   ]
  },
  {
   "cell_type": "code",
   "execution_count": 31,
   "metadata": {},
   "outputs": [
    {
     "name": "stdout",
     "output_type": "stream",
     "text": [
      "Data deteksi telah disimpan ke detections.xlsx\n"
     ]
    }
   ],
   "source": [
    "import pandas as pd\n",
    "\n",
    "# Load data JSON\n",
    "json_path = \"detections.json\"\n",
    "with open(json_path, \"r\") as f:\n",
    "    data = json.load(f)\n",
    "\n",
    "# Konversi ke DataFrame\n",
    "df = pd.DataFrame(data)\n",
    "\n",
    "# Simpan ke file Excel\n",
    "excel_path = \"detections.xlsx\"\n",
    "df.to_excel(excel_path, index=False)\n",
    "\n",
    "print(f\"Data deteksi telah disimpan ke {excel_path}\")\n"
   ]
  },
  {
   "cell_type": "markdown",
   "metadata": {},
   "source": [
    "## Deteksi Plat Nomer menggunakan EASYOCR"
   ]
  },
  {
   "cell_type": "code",
   "execution_count": 10,
   "metadata": {},
   "outputs": [
    {
     "name": "stderr",
     "output_type": "stream",
     "text": [
      "WARNING:easyocr.easyocr:Neither CUDA nor MPS are available - defaulting to CPU. Note: This module is much faster with a GPU.\n",
      "WARNING:easyocr.easyocr:Downloading recognition model, please wait. This may take several minutes depending upon your network connection.\n"
     ]
    },
    {
     "name": "stdout",
     "output_type": "stream",
     "text": [
      "Progress: |██████████████████████████████████████████████████| 100.0% Complete"
     ]
    },
    {
     "name": "stderr",
     "output_type": "stream",
     "text": [
      "INFO:easyocr.easyocr:Download complete.\n"
     ]
    }
   ],
   "source": [
    "import easyocr\n",
    "reader = easyocr.Reader(['id'])"
   ]
  },
  {
   "cell_type": "code",
   "execution_count": 15,
   "metadata": {},
   "outputs": [
    {
     "name": "stdout",
     "output_type": "stream",
     "text": [
      "['Pve', '4', '74', 'GJ04', '05']\n"
     ]
    }
   ],
   "source": [
    "result = reader.readtext('C:/SEMESTER 5/PCD (Image Processing)/Plat Nomor/crop3.png',detail=0)\n",
    "print(result)"
   ]
  }
 ],
 "metadata": {
  "kernelspec": {
   "display_name": "Python 3",
   "language": "python",
   "name": "python3"
  },
  "language_info": {
   "codemirror_mode": {
    "name": "ipython",
    "version": 3
   },
   "file_extension": ".py",
   "mimetype": "text/x-python",
   "name": "python",
   "nbconvert_exporter": "python",
   "pygments_lexer": "ipython3",
   "version": "3.11.0"
  }
 },
 "nbformat": 4,
 "nbformat_minor": 2
}
